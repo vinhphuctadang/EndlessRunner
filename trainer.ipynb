{
 "metadata": {
  "language_info": {
   "codemirror_mode": {
    "name": "ipython",
    "version": 3
   },
   "file_extension": ".py",
   "mimetype": "text/x-python",
   "name": "python",
   "nbconvert_exporter": "python",
   "pygments_lexer": "ipython3",
   "version": "3.6.8"
  },
  "orig_nbformat": 2,
  "kernelspec": {
   "name": "python368jvsc74a57bd0aee8b7b246df8f9039afb4144a1f6fd8d2ca17a180786b69acc140d282b71a49",
   "display_name": "Python 3.6.8 64-bit"
  }
 },
 "nbformat": 4,
 "nbformat_minor": 2,
 "cells": [
  {
   "cell_type": "code",
   "execution_count": 1,
   "metadata": {},
   "outputs": [],
   "source": [
    "import time\n",
    "import tsaug\n",
    "import numpy as np\n",
    "from constants import *\n",
    "from build_model import model_tools\n",
    "from tsaug.visualization import plot\n",
    "from sklearn.preprocessing import OneHotEncoder\n",
    "from sklearn.preprocessing import LabelEncoder\n",
    "\n",
    "\n",
    "X = np.load('normalized/Norm_MinMax_WithoutIdle_%02d_X.npy' % window_size)\n",
    "y = np.load('normalized/Norm_MinMax_WithoutIdle_%02d_y.npy' % window_size)\n",
    "\n",
    "labels = np.unique(y)"
   ]
  },
  {
   "cell_type": "code",
   "execution_count": 2,
   "metadata": {},
   "outputs": [
    {
     "output_type": "execute_result",
     "data": {
      "text/plain": [
       "(1301, 10, 16)"
      ]
     },
     "metadata": {},
     "execution_count": 2
    }
   ],
   "source": [
    "X.shape"
   ]
  },
  {
   "cell_type": "code",
   "execution_count": 3,
   "metadata": {},
   "outputs": [
    {
     "output_type": "stream",
     "name": "stdout",
     "text": [
      "[INFO] Augmenting...\n(1301, 10, 16)\n(1301,)\n"
     ]
    }
   ],
   "source": [
    "from tsaug import TimeWarp, Crop, Quantize, Drift, Reverse, AddNoise, Convolve, Resize, Dropout, Pool\n",
    "\n",
    "augmenters = {\n",
    "    'AddNoise': AddNoise(scale=0.01),\n",
    "    'Convolve': Convolve(window=\"flattop\", size=10),\n",
    "    'Crop': Crop(size=128),\n",
    "    'Drift': Drift(max_drift=0.7, n_drift_points=5),\n",
    "    'Dropout': Dropout(p=0.1, size=(1,5), fill=float(\"nan\"), per_channel=True),\n",
    "    'Pool': Pool(size=4),\n",
    "    'Quantize': Quantize(n_levels=16),\n",
    "    'Resize': Resize(size=16),\n",
    "    'Reverse': Reverse(),\n",
    "    'TimeWarp': TimeWarp(n_speed_change=5, max_speed_ratio=3)\n",
    "}\n",
    "\n",
    "# my_augmenter = (\n",
    "#     AddNoise(scale=0.01)\n",
    "#     + Convolve(window=\"flattop\", size=10)\n",
    "#     + Resize(size=16)\n",
    "#     + TimeWarp(n_speed_change=5, max_speed_ratio=3)\n",
    "# )\n",
    "\n",
    "print(\"[INFO] Augmenting...\")\n",
    "\n",
    "def augmentation(X, y, X_out, y_out, method):\n",
    "    X_aug = []\n",
    "    print('[INFO] ' + method + '...')\n",
    "    for x in X:\n",
    "        X_aug.append(augmenters[method].augment(x))\n",
    "    print('[DONE] ' + method + '.')\n",
    "    return np.vstack((X_out, X_aug)), np.append(y_out, y)\n",
    "    \n",
    "X_augmented, y_augmented = X, y\n",
    "# X_augmented, y_augmented = augmentation(X, y, X_augmented, y_augmented, 'AddNoise')\n",
    "# X_augmented, y_augmented = augmentation(X, y, X_augmented, y_augmented, 'Convolve')\n",
    "# X_augmented, y_augmented = augmentation(X, y, X_augmented, y_augmented, 'TimeWarp')\n",
    "# X_augmented, y_augmented = augmentation(X, y, X_augmented, y_augmented, 'Drift')\n",
    "# X_augmented, y_augmented = augmentation(X, y, X_augmented, y_augmented, 'Resize')\n",
    "# X_augmented, y_augmented = augmentation(X, y, X_augmented, y_augmented, 'Quantize')\n",
    "# X_augmented, y_augmented = augmentation(X, y, X_augmented, y_augmented, 'Pool')\n",
    "\n",
    "print(X_augmented.shape)\n",
    "print(y_augmented.shape)"
   ]
  },
  {
   "cell_type": "code",
   "execution_count": 4,
   "metadata": {},
   "outputs": [
    {
     "output_type": "execute_result",
     "data": {
      "text/plain": [
       "(1301, 2)"
      ]
     },
     "metadata": {},
     "execution_count": 4
    }
   ],
   "source": [
    "le = LabelEncoder()\n",
    "le.fit(y_augmented)\n",
    "le_y = np.array(le.transform(y_augmented))\n",
    "le_y = le_y.reshape((-1, 1))\n",
    "\n",
    "ohe = OneHotEncoder()\n",
    "ohe.fit(le_y)\n",
    "\n",
    "y_augmented = ohe.transform(le_y).toarray()\n",
    "y_augmented.shape"
   ]
  },
  {
   "cell_type": "code",
   "execution_count": 5,
   "metadata": {},
   "outputs": [
    {
     "output_type": "stream",
     "name": "stdout",
     "text": [
      "Model: \"lstm_keras\"\n_________________________________________________________________\nLayer (type)                 Output Shape              Param #   \n=================================================================\nlstm_0 (LSTM)                (None, 16)                2112      \n_________________________________________________________________\ndropout (Dropout)            (None, 16)                0         \n_________________________________________________________________\ndense (Dense)                (None, 2)                 34        \n=================================================================\nTotal params: 2,146\nTrainable params: 2,146\nNon-trainable params: 0\n_________________________________________________________________\n"
     ]
    }
   ],
   "source": [
    "model = model_tools(X_augmented, y_augmented, test_size=0.3, model_name='lstm_keras', n_layers=1, dropout=0.2)"
   ]
  },
  {
   "cell_type": "code",
   "execution_count": 6,
   "metadata": {
    "tags": []
   },
   "outputs": [
    {
     "output_type": "stream",
     "name": "stdout",
     "text": [
      "\n",
      "[INFO] training network...\n",
      "Epoch 1/50\n",
      "910/910 [==============================] - 5s 5ms/step - loss: 0.4000 - accuracy: 0.7923 - auc: 0.8965 - val_loss: 0.2384 - val_accuracy: 0.9079 - val_auc: 0.9809 - lr: 0.0010\n",
      "Epoch 2/50\n",
      "910/910 [==============================] - 3s 4ms/step - loss: 0.1378 - accuracy: 0.9538 - auc: 0.9872 - val_loss: 0.1498 - val_accuracy: 0.9309 - val_auc: 0.9905 - lr: 0.0010\n",
      "Epoch 3/50\n",
      "910/910 [==============================] - 4s 4ms/step - loss: 0.1008 - accuracy: 0.9626 - auc: 0.9931 - val_loss: 0.0681 - val_accuracy: 0.9847 - val_auc: 0.9994 - lr: 0.0010\n",
      "Epoch 4/50\n",
      "910/910 [==============================] - 4s 4ms/step - loss: 0.0934 - accuracy: 0.9703 - auc: 0.9934 - val_loss: 0.0405 - val_accuracy: 0.9872 - val_auc: 0.9995 - lr: 0.0010\n",
      "Epoch 5/50\n",
      "910/910 [==============================] - 3s 4ms/step - loss: 0.0820 - accuracy: 0.9736 - auc: 0.9954 - val_loss: 0.0409 - val_accuracy: 0.9872 - val_auc: 0.9996 - lr: 0.0010\n",
      "Epoch 6/50\n",
      "910/910 [==============================] - 3s 4ms/step - loss: 0.0904 - accuracy: 0.9725 - auc: 0.9923 - val_loss: 0.1405 - val_accuracy: 0.9233 - val_auc: 0.9891 - lr: 0.0010\n",
      "Epoch 7/50\n",
      "910/910 [==============================] - 4s 4ms/step - loss: 0.0668 - accuracy: 0.9791 - auc: 0.9960 - val_loss: 0.0212 - val_accuracy: 0.9923 - val_auc: 0.9998 - lr: 0.0010\n",
      "Epoch 8/50\n",
      "910/910 [==============================] - 5s 5ms/step - loss: 0.0553 - accuracy: 0.9835 - auc: 0.9969 - val_loss: 0.0221 - val_accuracy: 0.9923 - val_auc: 0.9999 - lr: 0.0010\n",
      "Epoch 9/50\n",
      "910/910 [==============================] - 3s 4ms/step - loss: 0.0593 - accuracy: 0.9846 - auc: 0.9973 - val_loss: 0.0204 - val_accuracy: 0.9923 - val_auc: 0.9999 - lr: 0.0010\n",
      "Epoch 10/50\n",
      "910/910 [==============================] - 3s 4ms/step - loss: 0.0555 - accuracy: 0.9857 - auc: 0.9968 - val_loss: 0.0228 - val_accuracy: 0.9949 - val_auc: 0.9999 - lr: 0.0010\n",
      "Epoch 11/50\n",
      "910/910 [==============================] - 3s 4ms/step - loss: 0.0517 - accuracy: 0.9857 - auc: 0.9980 - val_loss: 0.1062 - val_accuracy: 0.9565 - val_auc: 0.9945 - lr: 0.0010\n",
      "Epoch 12/50\n",
      "901/910 [============================>.] - ETA: 0s - loss: 0.0481 - accuracy: 0.9856 - auc: 0.9983\n",
      "Epoch 00012: ReduceLROnPlateau reducing learning rate to 0.0003000000142492354.\n",
      "910/910 [==============================] - 3s 4ms/step - loss: 0.0476 - accuracy: 0.9857 - auc: 0.9983 - val_loss: 0.0709 - val_accuracy: 0.9744 - val_auc: 0.9974 - lr: 0.0010\n",
      "Epoch 13/50\n",
      "910/910 [==============================] - 4s 4ms/step - loss: 0.0272 - accuracy: 0.9945 - auc: 0.9996 - val_loss: 0.0194 - val_accuracy: 0.9923 - val_auc: 0.9998 - lr: 3.0000e-04\n",
      "Epoch 14/50\n",
      "910/910 [==============================] - 4s 4ms/step - loss: 0.0287 - accuracy: 0.9923 - auc: 0.9983 - val_loss: 0.0168 - val_accuracy: 0.9949 - val_auc: 0.9999 - lr: 3.0000e-04\n",
      "Epoch 15/50\n",
      "910/910 [==============================] - 4s 4ms/step - loss: 0.0276 - accuracy: 0.9923 - auc: 0.9994 - val_loss: 0.0389 - val_accuracy: 0.9821 - val_auc: 0.9992 - lr: 3.0000e-04\n",
      "Epoch 16/50\n",
      "910/910 [==============================] - 4s 4ms/step - loss: 0.0242 - accuracy: 0.9890 - auc: 0.9997 - val_loss: 0.0137 - val_accuracy: 0.9923 - val_auc: 0.9999 - lr: 3.0000e-04\n",
      "Epoch 17/50\n",
      "910/910 [==============================] - 4s 4ms/step - loss: 0.0328 - accuracy: 0.9879 - auc: 0.9984 - val_loss: 0.0211 - val_accuracy: 0.9974 - val_auc: 0.9999 - lr: 3.0000e-04\n",
      "Epoch 18/50\n",
      "910/910 [==============================] - 4s 4ms/step - loss: 0.0238 - accuracy: 0.9923 - auc: 0.9995 - val_loss: 0.0208 - val_accuracy: 0.9923 - val_auc: 0.9997 - lr: 3.0000e-04\n",
      "Epoch 19/50\n",
      "897/910 [============================>.] - ETA: 0s - loss: 0.0194 - accuracy: 0.9955 - auc: 0.9997\n",
      "Epoch 00019: ReduceLROnPlateau reducing learning rate to 9.000000427477062e-05.\n",
      "910/910 [==============================] - 4s 4ms/step - loss: 0.0195 - accuracy: 0.9956 - auc: 0.9997 - val_loss: 0.0425 - val_accuracy: 0.9898 - val_auc: 0.9968 - lr: 3.0000e-04\n",
      "Epoch 20/50\n",
      "910/910 [==============================] - 4s 4ms/step - loss: 0.0215 - accuracy: 0.9934 - auc: 0.9987 - val_loss: 0.0209 - val_accuracy: 0.9872 - val_auc: 0.9997 - lr: 9.0000e-05\n",
      "Epoch 21/50\n",
      "910/910 [==============================] - 4s 4ms/step - loss: 0.0198 - accuracy: 0.9956 - auc: 0.9987 - val_loss: 0.0206 - val_accuracy: 0.9923 - val_auc: 0.9998 - lr: 9.0000e-05\n",
      "Epoch 22/50\n",
      "905/910 [============================>.] - ETA: 0s - loss: 0.0157 - accuracy: 0.9945 - auc: 0.9999\n",
      "Epoch 00022: ReduceLROnPlateau reducing learning rate to 2.700000040931627e-05.\n",
      "910/910 [==============================] - 4s 4ms/step - loss: 0.0156 - accuracy: 0.9945 - auc: 0.9999 - val_loss: 0.0211 - val_accuracy: 0.9923 - val_auc: 0.9997 - lr: 9.0000e-05\n",
      "Epoch 23/50\n",
      "910/910 [==============================] - 4s 4ms/step - loss: 0.0156 - accuracy: 0.9956 - auc: 0.9998 - val_loss: 0.0162 - val_accuracy: 0.9949 - val_auc: 0.9999 - lr: 2.7000e-05\n",
      "Epoch 24/50\n",
      "910/910 [==============================] - 4s 4ms/step - loss: 0.0155 - accuracy: 0.9956 - auc: 0.9998 - val_loss: 0.0222 - val_accuracy: 0.9923 - val_auc: 0.9997 - lr: 2.7000e-05\n",
      "Epoch 25/50\n",
      "910/910 [==============================] - ETA: 0s - loss: 0.0164 - accuracy: 0.9956 - auc: 0.9998\n",
      "Epoch 00025: ReduceLROnPlateau reducing learning rate to 8.100000013655517e-06.\n",
      "910/910 [==============================] - 4s 4ms/step - loss: 0.0164 - accuracy: 0.9956 - auc: 0.9998 - val_loss: 0.0192 - val_accuracy: 0.9949 - val_auc: 0.9998 - lr: 2.7000e-05\n",
      "Epoch 26/50\n",
      "910/910 [==============================] - 4s 4ms/step - loss: 0.0144 - accuracy: 0.9978 - auc: 0.9988 - val_loss: 0.0195 - val_accuracy: 0.9949 - val_auc: 0.9998 - lr: 8.1000e-06\n",
      "Epoch 27/50\n",
      "910/910 [==============================] - 4s 4ms/step - loss: 0.0131 - accuracy: 0.9978 - auc: 0.9999 - val_loss: 0.0171 - val_accuracy: 0.9949 - val_auc: 0.9999 - lr: 8.1000e-06\n",
      "Epoch 28/50\n",
      "904/910 [============================>.] - ETA: 0s - loss: 0.0139 - accuracy: 0.9967 - auc: 0.9998\n",
      "Epoch 00028: ReduceLROnPlateau reducing learning rate to 2.429999949526973e-06.\n",
      "910/910 [==============================] - 4s 4ms/step - loss: 0.0139 - accuracy: 0.9967 - auc: 0.9998 - val_loss: 0.0166 - val_accuracy: 0.9949 - val_auc: 0.9999 - lr: 8.1000e-06\n",
      "Epoch 29/50\n",
      "910/910 [==============================] - 4s 4ms/step - loss: 0.0136 - accuracy: 0.9967 - auc: 0.9998 - val_loss: 0.0168 - val_accuracy: 0.9949 - val_auc: 0.9999 - lr: 2.4300e-06\n",
      "Epoch 30/50\n",
      "910/910 [==============================] - 4s 4ms/step - loss: 0.0124 - accuracy: 0.9967 - auc: 0.9999 - val_loss: 0.0170 - val_accuracy: 0.9949 - val_auc: 0.9999 - lr: 2.4300e-06\n",
      "Epoch 31/50\n",
      "901/910 [============================>.] - ETA: 0s - loss: 0.0146 - accuracy: 0.9967 - auc: 0.9998\n",
      "Epoch 00031: ReduceLROnPlateau reducing learning rate to 1e-06.\n",
      "910/910 [==============================] - 4s 4ms/step - loss: 0.0145 - accuracy: 0.9967 - auc: 0.9998 - val_loss: 0.0171 - val_accuracy: 0.9949 - val_auc: 0.9999 - lr: 2.4300e-06\n",
      "Epoch 32/50\n",
      "910/910 [==============================] - 4s 4ms/step - loss: 0.0150 - accuracy: 0.9967 - auc: 0.9988 - val_loss: 0.0172 - val_accuracy: 0.9949 - val_auc: 0.9999 - lr: 1.0000e-06\n",
      "Epoch 33/50\n",
      "910/910 [==============================] - 5s 6ms/step - loss: 0.0144 - accuracy: 0.9945 - auc: 0.9998 - val_loss: 0.0172 - val_accuracy: 0.9949 - val_auc: 0.9999 - lr: 1.0000e-06\n",
      "Epoch 34/50\n",
      "910/910 [==============================] - 4s 4ms/step - loss: 0.0125 - accuracy: 0.9967 - auc: 0.9998 - val_loss: 0.0174 - val_accuracy: 0.9949 - val_auc: 0.9999 - lr: 1.0000e-06\n",
      "Epoch 35/50\n",
      "910/910 [==============================] - 4s 5ms/step - loss: 0.0134 - accuracy: 0.9956 - auc: 0.9999 - val_loss: 0.0175 - val_accuracy: 0.9949 - val_auc: 0.9999 - lr: 1.0000e-06\n",
      "Epoch 36/50\n",
      "910/910 [==============================] - 5s 5ms/step - loss: 0.0169 - accuracy: 0.9956 - auc: 0.9987 - val_loss: 0.0176 - val_accuracy: 0.9949 - val_auc: 0.9999 - lr: 1.0000e-06\n",
      "Epoch 37/50\n",
      "910/910 [==============================] - 4s 4ms/step - loss: 0.0148 - accuracy: 0.9945 - auc: 0.9998 - val_loss: 0.0176 - val_accuracy: 0.9949 - val_auc: 0.9999 - lr: 1.0000e-06\n",
      "Epoch 38/50\n",
      "910/910 [==============================] - 4s 4ms/step - loss: 0.0135 - accuracy: 0.9967 - auc: 0.9998 - val_loss: 0.0178 - val_accuracy: 0.9949 - val_auc: 0.9999 - lr: 1.0000e-06\n",
      "Epoch 39/50\n",
      "910/910 [==============================] - 4s 5ms/step - loss: 0.0136 - accuracy: 0.9978 - auc: 0.9998 - val_loss: 0.0177 - val_accuracy: 0.9949 - val_auc: 0.9999 - lr: 1.0000e-06\n",
      "Epoch 40/50\n",
      "910/910 [==============================] - 4s 4ms/step - loss: 0.0158 - accuracy: 0.9956 - auc: 0.9998 - val_loss: 0.0177 - val_accuracy: 0.9949 - val_auc: 0.9999 - lr: 1.0000e-06\n",
      "Epoch 41/50\n",
      "910/910 [==============================] - 4s 5ms/step - loss: 0.0139 - accuracy: 0.9967 - auc: 0.9998 - val_loss: 0.0177 - val_accuracy: 0.9949 - val_auc: 0.9999 - lr: 1.0000e-06\n",
      "Epoch 42/50\n",
      "910/910 [==============================] - 4s 5ms/step - loss: 0.0156 - accuracy: 0.9967 - auc: 0.9988 - val_loss: 0.0178 - val_accuracy: 0.9949 - val_auc: 0.9999 - lr: 1.0000e-06\n",
      "Epoch 43/50\n",
      "910/910 [==============================] - 3s 4ms/step - loss: 0.0130 - accuracy: 0.9967 - auc: 0.9999 - val_loss: 0.0179 - val_accuracy: 0.9949 - val_auc: 0.9999 - lr: 1.0000e-06\n",
      "Epoch 44/50\n",
      "910/910 [==============================] - 4s 4ms/step - loss: 0.0142 - accuracy: 0.9967 - auc: 0.9998 - val_loss: 0.0179 - val_accuracy: 0.9949 - val_auc: 0.9999 - lr: 1.0000e-06\n",
      "Epoch 45/50\n",
      "910/910 [==============================] - 4s 4ms/step - loss: 0.0126 - accuracy: 0.9967 - auc: 0.9999 - val_loss: 0.0179 - val_accuracy: 0.9949 - val_auc: 0.9999 - lr: 1.0000e-06\n",
      "Epoch 46/50\n",
      "910/910 [==============================] - 3s 4ms/step - loss: 0.0135 - accuracy: 0.9967 - auc: 0.9998 - val_loss: 0.0180 - val_accuracy: 0.9949 - val_auc: 0.9999 - lr: 1.0000e-06\n",
      "Epoch 47/50\n",
      "910/910 [==============================] - 3s 4ms/step - loss: 0.0139 - accuracy: 0.9956 - auc: 0.9999 - val_loss: 0.0177 - val_accuracy: 0.9949 - val_auc: 0.9999 - lr: 1.0000e-06\n",
      "Epoch 48/50\n",
      "910/910 [==============================] - 4s 4ms/step - loss: 0.0146 - accuracy: 0.9956 - auc: 0.9998 - val_loss: 0.0178 - val_accuracy: 0.9949 - val_auc: 0.9999 - lr: 1.0000e-06\n",
      "Epoch 49/50\n",
      "910/910 [==============================] - 4s 5ms/step - loss: 0.0142 - accuracy: 0.9967 - auc: 0.9998 - val_loss: 0.0177 - val_accuracy: 0.9949 - val_auc: 0.9999 - lr: 1.0000e-06\n",
      "Epoch 50/50\n",
      "910/910 [==============================] - 4s 5ms/step - loss: 0.0131 - accuracy: 0.9967 - auc: 0.9999 - val_loss: 0.0178 - val_accuracy: 0.9949 - val_auc: 0.9999 - lr: 1.0000e-06\n",
      "\n",
      "[INFO] evaluating network...\n",
      "13/13 [==============================] - 0s 3ms/step - loss: 0.0178 - accuracy: 0.9949 - auc: 0.9999\n",
      "\n",
      "[INFO] saving model...\n",
      "Training at Mon May 24 11:29:51 2021\n",
      "+----------+----------------------+\n",
      "| Features | Value                |\n",
      "+----------+----------------------+\n",
      "| val_acc  | 0.9948849081993103   |\n",
      "| val_auc  | 0.9998692274093628   |\n",
      "| val_loss | 0.017786044627428055 |\n",
      "| run-time | 191.318862 (s)       |\n",
      "+----------+----------------------+\n"
     ]
    },
    {
     "output_type": "display_data",
     "data": {
      "text/plain": "<Figure size 432x288 with 2 Axes>",
      "image/svg+xml": "<?xml version=\"1.0\" encoding=\"utf-8\" standalone=\"no\"?>\n<!DOCTYPE svg PUBLIC \"-//W3C//DTD SVG 1.1//EN\"\n  \"http://www.w3.org/Graphics/SVG/1.1/DTD/svg11.dtd\">\n<!-- Created with matplotlib (https://matplotlib.org/) -->\n<svg height=\"265.995469pt\" version=\"1.1\" viewBox=\"0 0 392.02075 265.995469\" width=\"392.02075pt\" xmlns=\"http://www.w3.org/2000/svg\" xmlns:xlink=\"http://www.w3.org/1999/xlink\">\n <metadata>\n  <rdf:RDF xmlns:cc=\"http://creativecommons.org/ns#\" xmlns:dc=\"http://purl.org/dc/elements/1.1/\" xmlns:rdf=\"http://www.w3.org/1999/02/22-rdf-syntax-ns#\">\n   <cc:Work>\n    <dc:type rdf:resource=\"http://purl.org/dc/dcmitype/StillImage\"/>\n    <dc:date>2021-05-24T11:33:10.513729</dc:date>\n    <dc:format>image/svg+xml</dc:format>\n    <dc:creator>\n     <cc:Agent>\n      <dc:title>Matplotlib v3.3.2, https://matplotlib.org/</dc:title>\n     </cc:Agent>\n    </dc:creator>\n   </cc:Work>\n  </rdf:RDF>\n </metadata>\n <defs>\n  <style type=\"text/css\">*{stroke-linecap:butt;stroke-linejoin:round;}</style>\n </defs>\n <g id=\"figure_1\">\n  <g id=\"patch_1\">\n   <path d=\"M 0 265.995469 \nL 392.02075 265.995469 \nL 392.02075 0 \nL 0 0 \nz\n\" style=\"fill:none;\"/>\n  </g>\n  <g id=\"axes_1\">\n   <g id=\"patch_2\">\n    <path d=\"M 66.465625 228.439219 \nL 334.305625 228.439219 \nL 334.305625 10.999219 \nL 66.465625 10.999219 \nz\n\" style=\"fill:#ffffff;\"/>\n   </g>\n   <g id=\"QuadMesh_1\">\n    <path clip-path=\"url(#pd962076a9b)\" d=\"M 66.465625 10.999219 \nL 200.385625 10.999219 \nL 200.385625 119.719219 \nL 66.465625 119.719219 \nL 66.465625 10.999219 \n\" style=\"fill:#08306b;\"/>\n    <path clip-path=\"url(#pd962076a9b)\" d=\"M 200.385625 10.999219 \nL 334.305625 10.999219 \nL 334.305625 119.719219 \nL 200.385625 119.719219 \nL 200.385625 10.999219 \n\" style=\"fill:#f7fbff;\"/>\n    <path clip-path=\"url(#pd962076a9b)\" d=\"M 66.465625 119.719219 \nL 200.385625 119.719219 \nL 200.385625 228.439219 \nL 66.465625 228.439219 \nL 66.465625 119.719219 \n\" style=\"fill:#f5f9fe;\"/>\n    <path clip-path=\"url(#pd962076a9b)\" d=\"M 200.385625 119.719219 \nL 334.305625 119.719219 \nL 334.305625 228.439219 \nL 200.385625 228.439219 \nL 200.385625 119.719219 \n\" style=\"fill:#08326e;\"/>\n   </g>\n   <g id=\"matplotlib.axis_1\">\n    <g id=\"xtick_1\">\n     <g id=\"line2d_1\">\n      <defs>\n       <path d=\"M 0 0 \nL 0 3.5 \n\" id=\"m808c569b67\" style=\"stroke:#000000;stroke-width:0.8;\"/>\n      </defs>\n      <g>\n       <use style=\"stroke:#000000;stroke-width:0.8;\" x=\"133.425625\" xlink:href=\"#m808c569b67\" y=\"228.439219\"/>\n      </g>\n     </g>\n     <g id=\"text_1\">\n      <!-- running -->\n      <g transform=\"translate(114.131875 243.037656)scale(0.1 -0.1)\">\n       <defs>\n        <path d=\"M 41.109375 46.296875 \nQ 39.59375 47.171875 37.8125 47.578125 \nQ 36.03125 48 33.890625 48 \nQ 26.265625 48 22.1875 43.046875 \nQ 18.109375 38.09375 18.109375 28.8125 \nL 18.109375 0 \nL 9.078125 0 \nL 9.078125 54.6875 \nL 18.109375 54.6875 \nL 18.109375 46.1875 \nQ 20.953125 51.171875 25.484375 53.578125 \nQ 30.03125 56 36.53125 56 \nQ 37.453125 56 38.578125 55.875 \nQ 39.703125 55.765625 41.0625 55.515625 \nz\n\" id=\"DejaVuSans-114\"/>\n        <path d=\"M 8.5 21.578125 \nL 8.5 54.6875 \nL 17.484375 54.6875 \nL 17.484375 21.921875 \nQ 17.484375 14.15625 20.5 10.265625 \nQ 23.53125 6.390625 29.59375 6.390625 \nQ 36.859375 6.390625 41.078125 11.03125 \nQ 45.3125 15.671875 45.3125 23.6875 \nL 45.3125 54.6875 \nL 54.296875 54.6875 \nL 54.296875 0 \nL 45.3125 0 \nL 45.3125 8.40625 \nQ 42.046875 3.421875 37.71875 1 \nQ 33.40625 -1.421875 27.6875 -1.421875 \nQ 18.265625 -1.421875 13.375 4.4375 \nQ 8.5 10.296875 8.5 21.578125 \nz\nM 31.109375 56 \nz\n\" id=\"DejaVuSans-117\"/>\n        <path d=\"M 54.890625 33.015625 \nL 54.890625 0 \nL 45.90625 0 \nL 45.90625 32.71875 \nQ 45.90625 40.484375 42.875 44.328125 \nQ 39.84375 48.1875 33.796875 48.1875 \nQ 26.515625 48.1875 22.3125 43.546875 \nQ 18.109375 38.921875 18.109375 30.90625 \nL 18.109375 0 \nL 9.078125 0 \nL 9.078125 54.6875 \nL 18.109375 54.6875 \nL 18.109375 46.1875 \nQ 21.34375 51.125 25.703125 53.5625 \nQ 30.078125 56 35.796875 56 \nQ 45.21875 56 50.046875 50.171875 \nQ 54.890625 44.34375 54.890625 33.015625 \nz\n\" id=\"DejaVuSans-110\"/>\n        <path d=\"M 9.421875 54.6875 \nL 18.40625 54.6875 \nL 18.40625 0 \nL 9.421875 0 \nz\nM 9.421875 75.984375 \nL 18.40625 75.984375 \nL 18.40625 64.59375 \nL 9.421875 64.59375 \nz\n\" id=\"DejaVuSans-105\"/>\n        <path d=\"M 45.40625 27.984375 \nQ 45.40625 37.75 41.375 43.109375 \nQ 37.359375 48.484375 30.078125 48.484375 \nQ 22.859375 48.484375 18.828125 43.109375 \nQ 14.796875 37.75 14.796875 27.984375 \nQ 14.796875 18.265625 18.828125 12.890625 \nQ 22.859375 7.515625 30.078125 7.515625 \nQ 37.359375 7.515625 41.375 12.890625 \nQ 45.40625 18.265625 45.40625 27.984375 \nz\nM 54.390625 6.78125 \nQ 54.390625 -7.171875 48.1875 -13.984375 \nQ 42 -20.796875 29.203125 -20.796875 \nQ 24.46875 -20.796875 20.265625 -20.09375 \nQ 16.0625 -19.390625 12.109375 -17.921875 \nL 12.109375 -9.1875 \nQ 16.0625 -11.328125 19.921875 -12.34375 \nQ 23.78125 -13.375 27.78125 -13.375 \nQ 36.625 -13.375 41.015625 -8.765625 \nQ 45.40625 -4.15625 45.40625 5.171875 \nL 45.40625 9.625 \nQ 42.625 4.78125 38.28125 2.390625 \nQ 33.9375 0 27.875 0 \nQ 17.828125 0 11.671875 7.65625 \nQ 5.515625 15.328125 5.515625 27.984375 \nQ 5.515625 40.671875 11.671875 48.328125 \nQ 17.828125 56 27.875 56 \nQ 33.9375 56 38.28125 53.609375 \nQ 42.625 51.21875 45.40625 46.390625 \nL 45.40625 54.6875 \nL 54.390625 54.6875 \nz\n\" id=\"DejaVuSans-103\"/>\n       </defs>\n       <use xlink:href=\"#DejaVuSans-114\"/>\n       <use x=\"41.113281\" xlink:href=\"#DejaVuSans-117\"/>\n       <use x=\"104.492188\" xlink:href=\"#DejaVuSans-110\"/>\n       <use x=\"167.871094\" xlink:href=\"#DejaVuSans-110\"/>\n       <use x=\"231.25\" xlink:href=\"#DejaVuSans-105\"/>\n       <use x=\"259.033203\" xlink:href=\"#DejaVuSans-110\"/>\n       <use x=\"322.412109\" xlink:href=\"#DejaVuSans-103\"/>\n      </g>\n     </g>\n    </g>\n    <g id=\"xtick_2\">\n     <g id=\"line2d_2\">\n      <g>\n       <use style=\"stroke:#000000;stroke-width:0.8;\" x=\"267.345625\" xlink:href=\"#m808c569b67\" y=\"228.439219\"/>\n      </g>\n     </g>\n     <g id=\"text_2\">\n      <!-- walking -->\n      <g transform=\"translate(248.176094 243.037656)scale(0.1 -0.1)\">\n       <defs>\n        <path d=\"M 4.203125 54.6875 \nL 13.1875 54.6875 \nL 24.421875 12.015625 \nL 35.59375 54.6875 \nL 46.1875 54.6875 \nL 57.421875 12.015625 \nL 68.609375 54.6875 \nL 77.59375 54.6875 \nL 63.28125 0 \nL 52.6875 0 \nL 40.921875 44.828125 \nL 29.109375 0 \nL 18.5 0 \nz\n\" id=\"DejaVuSans-119\"/>\n        <path d=\"M 34.28125 27.484375 \nQ 23.390625 27.484375 19.1875 25 \nQ 14.984375 22.515625 14.984375 16.5 \nQ 14.984375 11.71875 18.140625 8.90625 \nQ 21.296875 6.109375 26.703125 6.109375 \nQ 34.1875 6.109375 38.703125 11.40625 \nQ 43.21875 16.703125 43.21875 25.484375 \nL 43.21875 27.484375 \nz\nM 52.203125 31.203125 \nL 52.203125 0 \nL 43.21875 0 \nL 43.21875 8.296875 \nQ 40.140625 3.328125 35.546875 0.953125 \nQ 30.953125 -1.421875 24.3125 -1.421875 \nQ 15.921875 -1.421875 10.953125 3.296875 \nQ 6 8.015625 6 15.921875 \nQ 6 25.140625 12.171875 29.828125 \nQ 18.359375 34.515625 30.609375 34.515625 \nL 43.21875 34.515625 \nL 43.21875 35.40625 \nQ 43.21875 41.609375 39.140625 45 \nQ 35.0625 48.390625 27.6875 48.390625 \nQ 23 48.390625 18.546875 47.265625 \nQ 14.109375 46.140625 10.015625 43.890625 \nL 10.015625 52.203125 \nQ 14.9375 54.109375 19.578125 55.046875 \nQ 24.21875 56 28.609375 56 \nQ 40.484375 56 46.34375 49.84375 \nQ 52.203125 43.703125 52.203125 31.203125 \nz\n\" id=\"DejaVuSans-97\"/>\n        <path d=\"M 9.421875 75.984375 \nL 18.40625 75.984375 \nL 18.40625 0 \nL 9.421875 0 \nz\n\" id=\"DejaVuSans-108\"/>\n        <path d=\"M 9.078125 75.984375 \nL 18.109375 75.984375 \nL 18.109375 31.109375 \nL 44.921875 54.6875 \nL 56.390625 54.6875 \nL 27.390625 29.109375 \nL 57.625 0 \nL 45.90625 0 \nL 18.109375 26.703125 \nL 18.109375 0 \nL 9.078125 0 \nz\n\" id=\"DejaVuSans-107\"/>\n       </defs>\n       <use xlink:href=\"#DejaVuSans-119\"/>\n       <use x=\"81.787109\" xlink:href=\"#DejaVuSans-97\"/>\n       <use x=\"143.066406\" xlink:href=\"#DejaVuSans-108\"/>\n       <use x=\"170.849609\" xlink:href=\"#DejaVuSans-107\"/>\n       <use x=\"228.759766\" xlink:href=\"#DejaVuSans-105\"/>\n       <use x=\"256.542969\" xlink:href=\"#DejaVuSans-110\"/>\n       <use x=\"319.921875\" xlink:href=\"#DejaVuSans-103\"/>\n      </g>\n     </g>\n    </g>\n    <g id=\"text_3\">\n     <!-- Predicted Label -->\n     <g transform=\"translate(161.836406 256.715781)scale(0.1 -0.1)\">\n      <defs>\n       <path d=\"M 19.671875 64.796875 \nL 19.671875 37.40625 \nL 32.078125 37.40625 \nQ 38.96875 37.40625 42.71875 40.96875 \nQ 46.484375 44.53125 46.484375 51.125 \nQ 46.484375 57.671875 42.71875 61.234375 \nQ 38.96875 64.796875 32.078125 64.796875 \nz\nM 9.8125 72.90625 \nL 32.078125 72.90625 \nQ 44.34375 72.90625 50.609375 67.359375 \nQ 56.890625 61.8125 56.890625 51.125 \nQ 56.890625 40.328125 50.609375 34.8125 \nQ 44.34375 29.296875 32.078125 29.296875 \nL 19.671875 29.296875 \nL 19.671875 0 \nL 9.8125 0 \nz\n\" id=\"DejaVuSans-80\"/>\n       <path d=\"M 56.203125 29.59375 \nL 56.203125 25.203125 \nL 14.890625 25.203125 \nQ 15.484375 15.921875 20.484375 11.0625 \nQ 25.484375 6.203125 34.421875 6.203125 \nQ 39.59375 6.203125 44.453125 7.46875 \nQ 49.3125 8.734375 54.109375 11.28125 \nL 54.109375 2.78125 \nQ 49.265625 0.734375 44.1875 -0.34375 \nQ 39.109375 -1.421875 33.890625 -1.421875 \nQ 20.796875 -1.421875 13.15625 6.1875 \nQ 5.515625 13.8125 5.515625 26.8125 \nQ 5.515625 40.234375 12.765625 48.109375 \nQ 20.015625 56 32.328125 56 \nQ 43.359375 56 49.78125 48.890625 \nQ 56.203125 41.796875 56.203125 29.59375 \nz\nM 47.21875 32.234375 \nQ 47.125 39.59375 43.09375 43.984375 \nQ 39.0625 48.390625 32.421875 48.390625 \nQ 24.90625 48.390625 20.390625 44.140625 \nQ 15.875 39.890625 15.1875 32.171875 \nz\n\" id=\"DejaVuSans-101\"/>\n       <path d=\"M 45.40625 46.390625 \nL 45.40625 75.984375 \nL 54.390625 75.984375 \nL 54.390625 0 \nL 45.40625 0 \nL 45.40625 8.203125 \nQ 42.578125 3.328125 38.25 0.953125 \nQ 33.9375 -1.421875 27.875 -1.421875 \nQ 17.96875 -1.421875 11.734375 6.484375 \nQ 5.515625 14.40625 5.515625 27.296875 \nQ 5.515625 40.1875 11.734375 48.09375 \nQ 17.96875 56 27.875 56 \nQ 33.9375 56 38.25 53.625 \nQ 42.578125 51.265625 45.40625 46.390625 \nz\nM 14.796875 27.296875 \nQ 14.796875 17.390625 18.875 11.75 \nQ 22.953125 6.109375 30.078125 6.109375 \nQ 37.203125 6.109375 41.296875 11.75 \nQ 45.40625 17.390625 45.40625 27.296875 \nQ 45.40625 37.203125 41.296875 42.84375 \nQ 37.203125 48.484375 30.078125 48.484375 \nQ 22.953125 48.484375 18.875 42.84375 \nQ 14.796875 37.203125 14.796875 27.296875 \nz\n\" id=\"DejaVuSans-100\"/>\n       <path d=\"M 48.78125 52.59375 \nL 48.78125 44.1875 \nQ 44.96875 46.296875 41.140625 47.34375 \nQ 37.3125 48.390625 33.40625 48.390625 \nQ 24.65625 48.390625 19.8125 42.84375 \nQ 14.984375 37.3125 14.984375 27.296875 \nQ 14.984375 17.28125 19.8125 11.734375 \nQ 24.65625 6.203125 33.40625 6.203125 \nQ 37.3125 6.203125 41.140625 7.25 \nQ 44.96875 8.296875 48.78125 10.40625 \nL 48.78125 2.09375 \nQ 45.015625 0.34375 40.984375 -0.53125 \nQ 36.96875 -1.421875 32.421875 -1.421875 \nQ 20.0625 -1.421875 12.78125 6.34375 \nQ 5.515625 14.109375 5.515625 27.296875 \nQ 5.515625 40.671875 12.859375 48.328125 \nQ 20.21875 56 33.015625 56 \nQ 37.15625 56 41.109375 55.140625 \nQ 45.0625 54.296875 48.78125 52.59375 \nz\n\" id=\"DejaVuSans-99\"/>\n       <path d=\"M 18.3125 70.21875 \nL 18.3125 54.6875 \nL 36.8125 54.6875 \nL 36.8125 47.703125 \nL 18.3125 47.703125 \nL 18.3125 18.015625 \nQ 18.3125 11.328125 20.140625 9.421875 \nQ 21.96875 7.515625 27.59375 7.515625 \nL 36.8125 7.515625 \nL 36.8125 0 \nL 27.59375 0 \nQ 17.1875 0 13.234375 3.875 \nQ 9.28125 7.765625 9.28125 18.015625 \nL 9.28125 47.703125 \nL 2.6875 47.703125 \nL 2.6875 54.6875 \nL 9.28125 54.6875 \nL 9.28125 70.21875 \nz\n\" id=\"DejaVuSans-116\"/>\n       <path id=\"DejaVuSans-32\"/>\n       <path d=\"M 9.8125 72.90625 \nL 19.671875 72.90625 \nL 19.671875 8.296875 \nL 55.171875 8.296875 \nL 55.171875 0 \nL 9.8125 0 \nz\n\" id=\"DejaVuSans-76\"/>\n       <path d=\"M 48.6875 27.296875 \nQ 48.6875 37.203125 44.609375 42.84375 \nQ 40.53125 48.484375 33.40625 48.484375 \nQ 26.265625 48.484375 22.1875 42.84375 \nQ 18.109375 37.203125 18.109375 27.296875 \nQ 18.109375 17.390625 22.1875 11.75 \nQ 26.265625 6.109375 33.40625 6.109375 \nQ 40.53125 6.109375 44.609375 11.75 \nQ 48.6875 17.390625 48.6875 27.296875 \nz\nM 18.109375 46.390625 \nQ 20.953125 51.265625 25.265625 53.625 \nQ 29.59375 56 35.59375 56 \nQ 45.5625 56 51.78125 48.09375 \nQ 58.015625 40.1875 58.015625 27.296875 \nQ 58.015625 14.40625 51.78125 6.484375 \nQ 45.5625 -1.421875 35.59375 -1.421875 \nQ 29.59375 -1.421875 25.265625 0.953125 \nQ 20.953125 3.328125 18.109375 8.203125 \nL 18.109375 0 \nL 9.078125 0 \nL 9.078125 75.984375 \nL 18.109375 75.984375 \nz\n\" id=\"DejaVuSans-98\"/>\n      </defs>\n      <use xlink:href=\"#DejaVuSans-80\"/>\n      <use x=\"58.552734\" xlink:href=\"#DejaVuSans-114\"/>\n      <use x=\"97.416016\" xlink:href=\"#DejaVuSans-101\"/>\n      <use x=\"158.939453\" xlink:href=\"#DejaVuSans-100\"/>\n      <use x=\"222.416016\" xlink:href=\"#DejaVuSans-105\"/>\n      <use x=\"250.199219\" xlink:href=\"#DejaVuSans-99\"/>\n      <use x=\"305.179688\" xlink:href=\"#DejaVuSans-116\"/>\n      <use x=\"344.388672\" xlink:href=\"#DejaVuSans-101\"/>\n      <use x=\"405.912109\" xlink:href=\"#DejaVuSans-100\"/>\n      <use x=\"469.388672\" xlink:href=\"#DejaVuSans-32\"/>\n      <use x=\"501.175781\" xlink:href=\"#DejaVuSans-76\"/>\n      <use x=\"556.888672\" xlink:href=\"#DejaVuSans-97\"/>\n      <use x=\"618.167969\" xlink:href=\"#DejaVuSans-98\"/>\n      <use x=\"681.644531\" xlink:href=\"#DejaVuSans-101\"/>\n      <use x=\"743.167969\" xlink:href=\"#DejaVuSans-108\"/>\n     </g>\n    </g>\n   </g>\n   <g id=\"matplotlib.axis_2\">\n    <g id=\"ytick_1\">\n     <g id=\"line2d_3\">\n      <defs>\n       <path d=\"M 0 0 \nL -3.5 0 \n\" id=\"mc6e0265d12\" style=\"stroke:#000000;stroke-width:0.8;\"/>\n      </defs>\n      <g>\n       <use style=\"stroke:#000000;stroke-width:0.8;\" x=\"66.465625\" xlink:href=\"#mc6e0265d12\" y=\"65.359219\"/>\n      </g>\n     </g>\n     <g id=\"text_4\">\n      <!-- running -->\n      <g transform=\"translate(20.878125 69.158437)scale(0.1 -0.1)\">\n       <use xlink:href=\"#DejaVuSans-114\"/>\n       <use x=\"41.113281\" xlink:href=\"#DejaVuSans-117\"/>\n       <use x=\"104.492188\" xlink:href=\"#DejaVuSans-110\"/>\n       <use x=\"167.871094\" xlink:href=\"#DejaVuSans-110\"/>\n       <use x=\"231.25\" xlink:href=\"#DejaVuSans-105\"/>\n       <use x=\"259.033203\" xlink:href=\"#DejaVuSans-110\"/>\n       <use x=\"322.412109\" xlink:href=\"#DejaVuSans-103\"/>\n      </g>\n     </g>\n    </g>\n    <g id=\"ytick_2\">\n     <g id=\"line2d_4\">\n      <g>\n       <use style=\"stroke:#000000;stroke-width:0.8;\" x=\"66.465625\" xlink:href=\"#mc6e0265d12\" y=\"174.079219\"/>\n      </g>\n     </g>\n     <g id=\"text_5\">\n      <!-- walking -->\n      <g transform=\"translate(21.126562 177.878437)scale(0.1 -0.1)\">\n       <use xlink:href=\"#DejaVuSans-119\"/>\n       <use x=\"81.787109\" xlink:href=\"#DejaVuSans-97\"/>\n       <use x=\"143.066406\" xlink:href=\"#DejaVuSans-108\"/>\n       <use x=\"170.849609\" xlink:href=\"#DejaVuSans-107\"/>\n       <use x=\"228.759766\" xlink:href=\"#DejaVuSans-105\"/>\n       <use x=\"256.542969\" xlink:href=\"#DejaVuSans-110\"/>\n       <use x=\"319.921875\" xlink:href=\"#DejaVuSans-103\"/>\n      </g>\n     </g>\n    </g>\n    <g id=\"text_6\">\n     <!-- True Label -->\n     <g transform=\"translate(14.798437 145.415312)rotate(-90)scale(0.1 -0.1)\">\n      <defs>\n       <path d=\"M -0.296875 72.90625 \nL 61.375 72.90625 \nL 61.375 64.59375 \nL 35.5 64.59375 \nL 35.5 0 \nL 25.59375 0 \nL 25.59375 64.59375 \nL -0.296875 64.59375 \nz\n\" id=\"DejaVuSans-84\"/>\n      </defs>\n      <use xlink:href=\"#DejaVuSans-84\"/>\n      <use x=\"46.333984\" xlink:href=\"#DejaVuSans-114\"/>\n      <use x=\"87.447266\" xlink:href=\"#DejaVuSans-117\"/>\n      <use x=\"150.826172\" xlink:href=\"#DejaVuSans-101\"/>\n      <use x=\"212.349609\" xlink:href=\"#DejaVuSans-32\"/>\n      <use x=\"244.136719\" xlink:href=\"#DejaVuSans-76\"/>\n      <use x=\"299.849609\" xlink:href=\"#DejaVuSans-97\"/>\n      <use x=\"361.128906\" xlink:href=\"#DejaVuSans-98\"/>\n      <use x=\"424.605469\" xlink:href=\"#DejaVuSans-101\"/>\n      <use x=\"486.128906\" xlink:href=\"#DejaVuSans-108\"/>\n     </g>\n    </g>\n   </g>\n   <g id=\"text_7\">\n    <!-- 1.00 -->\n    <g style=\"fill:#ffffff;\" transform=\"translate(122.292813 68.118594)scale(0.1 -0.1)\">\n     <defs>\n      <path d=\"M 12.40625 8.296875 \nL 28.515625 8.296875 \nL 28.515625 63.921875 \nL 10.984375 60.40625 \nL 10.984375 69.390625 \nL 28.421875 72.90625 \nL 38.28125 72.90625 \nL 38.28125 8.296875 \nL 54.390625 8.296875 \nL 54.390625 0 \nL 12.40625 0 \nz\n\" id=\"DejaVuSans-49\"/>\n      <path d=\"M 10.6875 12.40625 \nL 21 12.40625 \nL 21 0 \nL 10.6875 0 \nz\n\" id=\"DejaVuSans-46\"/>\n      <path d=\"M 31.78125 66.40625 \nQ 24.171875 66.40625 20.328125 58.90625 \nQ 16.5 51.421875 16.5 36.375 \nQ 16.5 21.390625 20.328125 13.890625 \nQ 24.171875 6.390625 31.78125 6.390625 \nQ 39.453125 6.390625 43.28125 13.890625 \nQ 47.125 21.390625 47.125 36.375 \nQ 47.125 51.421875 43.28125 58.90625 \nQ 39.453125 66.40625 31.78125 66.40625 \nz\nM 31.78125 74.21875 \nQ 44.046875 74.21875 50.515625 64.515625 \nQ 56.984375 54.828125 56.984375 36.375 \nQ 56.984375 17.96875 50.515625 8.265625 \nQ 44.046875 -1.421875 31.78125 -1.421875 \nQ 19.53125 -1.421875 13.0625 8.265625 \nQ 6.59375 17.96875 6.59375 36.375 \nQ 6.59375 54.828125 13.0625 64.515625 \nQ 19.53125 74.21875 31.78125 74.21875 \nz\n\" id=\"DejaVuSans-48\"/>\n     </defs>\n     <use xlink:href=\"#DejaVuSans-49\"/>\n     <use x=\"63.623047\" xlink:href=\"#DejaVuSans-46\"/>\n     <use x=\"95.410156\" xlink:href=\"#DejaVuSans-48\"/>\n     <use x=\"159.033203\" xlink:href=\"#DejaVuSans-48\"/>\n    </g>\n   </g>\n   <g id=\"text_8\">\n    <!-- 0.00 -->\n    <g style=\"fill:#262626;\" transform=\"translate(256.212813 68.118594)scale(0.1 -0.1)\">\n     <use xlink:href=\"#DejaVuSans-48\"/>\n     <use x=\"63.623047\" xlink:href=\"#DejaVuSans-46\"/>\n     <use x=\"95.410156\" xlink:href=\"#DejaVuSans-48\"/>\n     <use x=\"159.033203\" xlink:href=\"#DejaVuSans-48\"/>\n    </g>\n   </g>\n   <g id=\"text_9\">\n    <!-- 0.01 -->\n    <g style=\"fill:#262626;\" transform=\"translate(122.292813 176.838594)scale(0.1 -0.1)\">\n     <use xlink:href=\"#DejaVuSans-48\"/>\n     <use x=\"63.623047\" xlink:href=\"#DejaVuSans-46\"/>\n     <use x=\"95.410156\" xlink:href=\"#DejaVuSans-48\"/>\n     <use x=\"159.033203\" xlink:href=\"#DejaVuSans-49\"/>\n    </g>\n   </g>\n   <g id=\"text_10\">\n    <!-- 0.99 -->\n    <g style=\"fill:#ffffff;\" transform=\"translate(256.212813 176.838594)scale(0.1 -0.1)\">\n     <defs>\n      <path d=\"M 10.984375 1.515625 \nL 10.984375 10.5 \nQ 14.703125 8.734375 18.5 7.8125 \nQ 22.3125 6.890625 25.984375 6.890625 \nQ 35.75 6.890625 40.890625 13.453125 \nQ 46.046875 20.015625 46.78125 33.40625 \nQ 43.953125 29.203125 39.59375 26.953125 \nQ 35.25 24.703125 29.984375 24.703125 \nQ 19.046875 24.703125 12.671875 31.3125 \nQ 6.296875 37.9375 6.296875 49.421875 \nQ 6.296875 60.640625 12.9375 67.421875 \nQ 19.578125 74.21875 30.609375 74.21875 \nQ 43.265625 74.21875 49.921875 64.515625 \nQ 56.59375 54.828125 56.59375 36.375 \nQ 56.59375 19.140625 48.40625 8.859375 \nQ 40.234375 -1.421875 26.421875 -1.421875 \nQ 22.703125 -1.421875 18.890625 -0.6875 \nQ 15.09375 0.046875 10.984375 1.515625 \nz\nM 30.609375 32.421875 \nQ 37.25 32.421875 41.125 36.953125 \nQ 45.015625 41.5 45.015625 49.421875 \nQ 45.015625 57.28125 41.125 61.84375 \nQ 37.25 66.40625 30.609375 66.40625 \nQ 23.96875 66.40625 20.09375 61.84375 \nQ 16.21875 57.28125 16.21875 49.421875 \nQ 16.21875 41.5 20.09375 36.953125 \nQ 23.96875 32.421875 30.609375 32.421875 \nz\n\" id=\"DejaVuSans-57\"/>\n     </defs>\n     <use xlink:href=\"#DejaVuSans-48\"/>\n     <use x=\"63.623047\" xlink:href=\"#DejaVuSans-46\"/>\n     <use x=\"95.410156\" xlink:href=\"#DejaVuSans-57\"/>\n     <use x=\"159.033203\" xlink:href=\"#DejaVuSans-57\"/>\n    </g>\n   </g>\n  </g>\n  <g id=\"axes_2\">\n   <g id=\"patch_3\">\n    <path clip-path=\"url(#p1ebf781cbd)\" d=\"M 351.045625 228.439219 \nL 351.045625 227.589844 \nL 351.045625 11.848594 \nL 351.045625 10.999219 \nL 361.917625 10.999219 \nL 361.917625 11.848594 \nL 361.917625 227.589844 \nL 361.917625 228.439219 \nz\n\" style=\"fill:#ffffff;stroke:#ffffff;stroke-linejoin:miter;stroke-width:0.01;\"/>\n   </g>\n   <image height=\"217\" id=\"image333b54a3b7\" transform=\"scale(1 -1)translate(0 -217)\" width=\"11\" x=\"351\" xlink:href=\"data:image/png;base64,\niVBORw0KGgoAAAANSUhEUgAAAAsAAADZCAYAAAD2WsoCAAABHElEQVR4nO2YMQ4CMRADA8r/n0uByIYWukwxyIvuamvl2F4nutvjufc4/OYex9gxz+diMKEBsGMCLORcAH0HLEzpQhyEkwEYZgNwLk26kSEdzAbh7NHQeoPZ3bC+OvZGinRX+H9CI0Q67VWQckBkNzygdsNqDi50wAzOlZHnOh/stqjFuUBGGWezN8Dk5VWBlzrtcYKqQGxR7e5eJM9eP3sOIp0X6ALTwXOsScPLBrQ7osw9ndk9KLaot7AR0nn93DEbaLs9nc2/EKj5I3YwJBvslctoRKgBD2jRCJls2g1oeEHy7O4YpJDtZn8CxWycvxlTODNwht0h2fh/u69sfICh3YhGw8n1sia3VGNF0ECTycJedn+BO9ptTX4DblXiEVeBW/gAAAAASUVORK5CYII=\" y=\"-10\"/>\n   <g id=\"matplotlib.axis_3\"/>\n   <g id=\"matplotlib.axis_4\">\n    <g id=\"ytick_3\">\n     <g id=\"line2d_5\">\n      <defs>\n       <path d=\"M 0 0 \nL 3.5 0 \n\" id=\"m849f0132e7\" style=\"stroke:#000000;stroke-width:0.8;\"/>\n      </defs>\n      <g>\n       <use style=\"stroke:#000000;stroke-width:0.8;\" x=\"361.917625\" xlink:href=\"#m849f0132e7\" y=\"228.439219\"/>\n      </g>\n     </g>\n     <g id=\"text_11\">\n      <!-- 0.0 -->\n      <g transform=\"translate(368.917625 232.238437)scale(0.1 -0.1)\">\n       <use xlink:href=\"#DejaVuSans-48\"/>\n       <use x=\"63.623047\" xlink:href=\"#DejaVuSans-46\"/>\n       <use x=\"95.410156\" xlink:href=\"#DejaVuSans-48\"/>\n      </g>\n     </g>\n    </g>\n    <g id=\"ytick_4\">\n     <g id=\"line2d_6\">\n      <g>\n       <use style=\"stroke:#000000;stroke-width:0.8;\" x=\"361.917625\" xlink:href=\"#m849f0132e7\" y=\"184.951219\"/>\n      </g>\n     </g>\n     <g id=\"text_12\">\n      <!-- 0.2 -->\n      <g transform=\"translate(368.917625 188.750437)scale(0.1 -0.1)\">\n       <defs>\n        <path d=\"M 19.1875 8.296875 \nL 53.609375 8.296875 \nL 53.609375 0 \nL 7.328125 0 \nL 7.328125 8.296875 \nQ 12.9375 14.109375 22.625 23.890625 \nQ 32.328125 33.6875 34.8125 36.53125 \nQ 39.546875 41.84375 41.421875 45.53125 \nQ 43.3125 49.21875 43.3125 52.78125 \nQ 43.3125 58.59375 39.234375 62.25 \nQ 35.15625 65.921875 28.609375 65.921875 \nQ 23.96875 65.921875 18.8125 64.3125 \nQ 13.671875 62.703125 7.8125 59.421875 \nL 7.8125 69.390625 \nQ 13.765625 71.78125 18.9375 73 \nQ 24.125 74.21875 28.421875 74.21875 \nQ 39.75 74.21875 46.484375 68.546875 \nQ 53.21875 62.890625 53.21875 53.421875 \nQ 53.21875 48.921875 51.53125 44.890625 \nQ 49.859375 40.875 45.40625 35.40625 \nQ 44.1875 33.984375 37.640625 27.21875 \nQ 31.109375 20.453125 19.1875 8.296875 \nz\n\" id=\"DejaVuSans-50\"/>\n       </defs>\n       <use xlink:href=\"#DejaVuSans-48\"/>\n       <use x=\"63.623047\" xlink:href=\"#DejaVuSans-46\"/>\n       <use x=\"95.410156\" xlink:href=\"#DejaVuSans-50\"/>\n      </g>\n     </g>\n    </g>\n    <g id=\"ytick_5\">\n     <g id=\"line2d_7\">\n      <g>\n       <use style=\"stroke:#000000;stroke-width:0.8;\" x=\"361.917625\" xlink:href=\"#m849f0132e7\" y=\"141.463219\"/>\n      </g>\n     </g>\n     <g id=\"text_13\">\n      <!-- 0.4 -->\n      <g transform=\"translate(368.917625 145.262437)scale(0.1 -0.1)\">\n       <defs>\n        <path d=\"M 37.796875 64.3125 \nL 12.890625 25.390625 \nL 37.796875 25.390625 \nz\nM 35.203125 72.90625 \nL 47.609375 72.90625 \nL 47.609375 25.390625 \nL 58.015625 25.390625 \nL 58.015625 17.1875 \nL 47.609375 17.1875 \nL 47.609375 0 \nL 37.796875 0 \nL 37.796875 17.1875 \nL 4.890625 17.1875 \nL 4.890625 26.703125 \nz\n\" id=\"DejaVuSans-52\"/>\n       </defs>\n       <use xlink:href=\"#DejaVuSans-48\"/>\n       <use x=\"63.623047\" xlink:href=\"#DejaVuSans-46\"/>\n       <use x=\"95.410156\" xlink:href=\"#DejaVuSans-52\"/>\n      </g>\n     </g>\n    </g>\n    <g id=\"ytick_6\">\n     <g id=\"line2d_8\">\n      <g>\n       <use style=\"stroke:#000000;stroke-width:0.8;\" x=\"361.917625\" xlink:href=\"#m849f0132e7\" y=\"97.975219\"/>\n      </g>\n     </g>\n     <g id=\"text_14\">\n      <!-- 0.6 -->\n      <g transform=\"translate(368.917625 101.774437)scale(0.1 -0.1)\">\n       <defs>\n        <path d=\"M 33.015625 40.375 \nQ 26.375 40.375 22.484375 35.828125 \nQ 18.609375 31.296875 18.609375 23.390625 \nQ 18.609375 15.53125 22.484375 10.953125 \nQ 26.375 6.390625 33.015625 6.390625 \nQ 39.65625 6.390625 43.53125 10.953125 \nQ 47.40625 15.53125 47.40625 23.390625 \nQ 47.40625 31.296875 43.53125 35.828125 \nQ 39.65625 40.375 33.015625 40.375 \nz\nM 52.59375 71.296875 \nL 52.59375 62.3125 \nQ 48.875 64.0625 45.09375 64.984375 \nQ 41.3125 65.921875 37.59375 65.921875 \nQ 27.828125 65.921875 22.671875 59.328125 \nQ 17.53125 52.734375 16.796875 39.40625 \nQ 19.671875 43.65625 24.015625 45.921875 \nQ 28.375 48.1875 33.59375 48.1875 \nQ 44.578125 48.1875 50.953125 41.515625 \nQ 57.328125 34.859375 57.328125 23.390625 \nQ 57.328125 12.15625 50.6875 5.359375 \nQ 44.046875 -1.421875 33.015625 -1.421875 \nQ 20.359375 -1.421875 13.671875 8.265625 \nQ 6.984375 17.96875 6.984375 36.375 \nQ 6.984375 53.65625 15.1875 63.9375 \nQ 23.390625 74.21875 37.203125 74.21875 \nQ 40.921875 74.21875 44.703125 73.484375 \nQ 48.484375 72.75 52.59375 71.296875 \nz\n\" id=\"DejaVuSans-54\"/>\n       </defs>\n       <use xlink:href=\"#DejaVuSans-48\"/>\n       <use x=\"63.623047\" xlink:href=\"#DejaVuSans-46\"/>\n       <use x=\"95.410156\" xlink:href=\"#DejaVuSans-54\"/>\n      </g>\n     </g>\n    </g>\n    <g id=\"ytick_7\">\n     <g id=\"line2d_9\">\n      <g>\n       <use style=\"stroke:#000000;stroke-width:0.8;\" x=\"361.917625\" xlink:href=\"#m849f0132e7\" y=\"54.487219\"/>\n      </g>\n     </g>\n     <g id=\"text_15\">\n      <!-- 0.8 -->\n      <g transform=\"translate(368.917625 58.286437)scale(0.1 -0.1)\">\n       <defs>\n        <path d=\"M 31.78125 34.625 \nQ 24.75 34.625 20.71875 30.859375 \nQ 16.703125 27.09375 16.703125 20.515625 \nQ 16.703125 13.921875 20.71875 10.15625 \nQ 24.75 6.390625 31.78125 6.390625 \nQ 38.8125 6.390625 42.859375 10.171875 \nQ 46.921875 13.96875 46.921875 20.515625 \nQ 46.921875 27.09375 42.890625 30.859375 \nQ 38.875 34.625 31.78125 34.625 \nz\nM 21.921875 38.8125 \nQ 15.578125 40.375 12.03125 44.71875 \nQ 8.5 49.078125 8.5 55.328125 \nQ 8.5 64.0625 14.71875 69.140625 \nQ 20.953125 74.21875 31.78125 74.21875 \nQ 42.671875 74.21875 48.875 69.140625 \nQ 55.078125 64.0625 55.078125 55.328125 \nQ 55.078125 49.078125 51.53125 44.71875 \nQ 48 40.375 41.703125 38.8125 \nQ 48.828125 37.15625 52.796875 32.3125 \nQ 56.78125 27.484375 56.78125 20.515625 \nQ 56.78125 9.90625 50.3125 4.234375 \nQ 43.84375 -1.421875 31.78125 -1.421875 \nQ 19.734375 -1.421875 13.25 4.234375 \nQ 6.78125 9.90625 6.78125 20.515625 \nQ 6.78125 27.484375 10.78125 32.3125 \nQ 14.796875 37.15625 21.921875 38.8125 \nz\nM 18.3125 54.390625 \nQ 18.3125 48.734375 21.84375 45.5625 \nQ 25.390625 42.390625 31.78125 42.390625 \nQ 38.140625 42.390625 41.71875 45.5625 \nQ 45.3125 48.734375 45.3125 54.390625 \nQ 45.3125 60.0625 41.71875 63.234375 \nQ 38.140625 66.40625 31.78125 66.40625 \nQ 25.390625 66.40625 21.84375 63.234375 \nQ 18.3125 60.0625 18.3125 54.390625 \nz\n\" id=\"DejaVuSans-56\"/>\n       </defs>\n       <use xlink:href=\"#DejaVuSans-48\"/>\n       <use x=\"63.623047\" xlink:href=\"#DejaVuSans-46\"/>\n       <use x=\"95.410156\" xlink:href=\"#DejaVuSans-56\"/>\n      </g>\n     </g>\n    </g>\n    <g id=\"ytick_8\">\n     <g id=\"line2d_10\">\n      <g>\n       <use style=\"stroke:#000000;stroke-width:0.8;\" x=\"361.917625\" xlink:href=\"#m849f0132e7\" y=\"10.999219\"/>\n      </g>\n     </g>\n     <g id=\"text_16\">\n      <!-- 1.0 -->\n      <g transform=\"translate(368.917625 14.798437)scale(0.1 -0.1)\">\n       <use xlink:href=\"#DejaVuSans-49\"/>\n       <use x=\"63.623047\" xlink:href=\"#DejaVuSans-46\"/>\n       <use x=\"95.410156\" xlink:href=\"#DejaVuSans-48\"/>\n      </g>\n     </g>\n    </g>\n   </g>\n   <g id=\"patch_4\">\n    <path d=\"M 351.045625 228.439219 \nL 351.045625 227.589844 \nL 351.045625 11.848594 \nL 351.045625 10.999219 \nL 361.917625 10.999219 \nL 361.917625 11.848594 \nL 361.917625 227.589844 \nL 361.917625 228.439219 \nz\n\" style=\"fill:none;\"/>\n   </g>\n  </g>\n </g>\n <defs>\n  <clipPath id=\"pd962076a9b\">\n   <rect height=\"217.44\" width=\"267.84\" x=\"66.465625\" y=\"10.999219\"/>\n  </clipPath>\n  <clipPath id=\"p1ebf781cbd\">\n   <rect height=\"217.44\" width=\"10.872\" x=\"351.045625\" y=\"10.999219\"/>\n  </clipPath>\n </defs>\n</svg>\n",
      "image/png": "[encoded data removed]"
     },
     "metadata": {
      "needs_background": "light"
     }
    }
   ],
   "source": [
    "if not os.path.isdir(result_dir):  # For training\n",
    "    os.mkdir(result_dir)\n",
    "model.fit_and_save_model(es=False, mc=False, rlr=True, log=True)"
   ]
  },
  {
   "cell_type": "code",
   "execution_count": 7,
   "metadata": {},
   "outputs": [],
   "source": [
    "# model.plt_fig()"
   ]
  }
 ]
}