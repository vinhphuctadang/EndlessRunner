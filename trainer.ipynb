{
 "metadata": {
  "language_info": {
   "codemirror_mode": {
    "name": "ipython",
    "version": 3
   },
   "file_extension": ".py",
   "mimetype": "text/x-python",
   "name": "python",
   "nbconvert_exporter": "python",
   "pygments_lexer": "ipython3",
   "version": "3.6.8-final"
  },
  "orig_nbformat": 2,
  "kernelspec": {
   "name": "python3",
   "display_name": "Python 3.6.8 64-bit",
   "metadata": {
    "interpreter": {
     "hash": "aee8b7b246df8f9039afb4144a1f6fd8d2ca17a180786b69acc140d282b71a49"
    }
   }
  }
 },
 "nbformat": 4,
 "nbformat_minor": 2,
 "cells": [
  {
   "cell_type": "code",
   "execution_count": 1,
   "metadata": {},
   "outputs": [],
   "source": [
    "import time\n",
    "import tsaug\n",
    "import numpy as np\n",
    "from constants import *\n",
    "from build_model import model_tools\n",
    "from tsaug.visualization import plot\n",
    "from sklearn.preprocessing import OneHotEncoder\n",
    "from sklearn.preprocessing import LabelEncoder\n",
    "\n",
    "\n",
    "X = np.load('normalized/Norm_MinMax_%02d_X.npy' % window_size)\n",
    "y = np.load('normalized/Norm_MinMax_%02d_y.npy' % window_size)\n",
    "\n",
    "labels = np.unique(y)"
   ]
  },
  {
   "cell_type": "code",
   "execution_count": 2,
   "metadata": {},
   "outputs": [
    {
     "output_type": "execute_result",
     "data": {
      "text/plain": [
       "(1600, 10, 16)"
      ]
     },
     "metadata": {},
     "execution_count": 2
    }
   ],
   "source": [
    "X.shape"
   ]
  },
  {
   "cell_type": "code",
   "execution_count": 8,
   "metadata": {},
   "outputs": [
    {
     "output_type": "stream",
     "name": "stdout",
     "text": [
      "[INFO] Augmenting...\n",
      "[INFO] AddNoise...\n",
      "[DONE] AddNoise.\n",
      "[INFO] Convolve...\n",
      "[DONE] Convolve.\n",
      "(4800, 10, 16)\n",
      "(4800,)\n"
     ]
    }
   ],
   "source": [
    "from tsaug import TimeWarp, Crop, Quantize, Drift, Reverse, AddNoise, Convolve, Resize, Dropout, Pool\n",
    "\n",
    "augmenters = {\n",
    "    'AddNoise': AddNoise(scale=0.01),\n",
    "    'Convolve': Convolve(window=\"flattop\", size=10),\n",
    "    'Crop': Crop(size=128),\n",
    "    'Drift': Drift(max_drift=0.7, n_drift_points=5),\n",
    "    'Dropout': Dropout(p=0.1, size=(1,5), fill=float(\"nan\"), per_channel=True),\n",
    "    'Pool': Pool(size=4),\n",
    "    'Quantize': Quantize(n_levels=16),\n",
    "    'Resize': Resize(size=16),\n",
    "    'Reverse': Reverse(),\n",
    "    'TimeWarp': TimeWarp(n_speed_change=5, max_speed_ratio=3)\n",
    "}\n",
    "\n",
    "# my_augmenter = (\n",
    "#     AddNoise(scale=0.01)\n",
    "#     + Convolve(window=\"flattop\", size=10)\n",
    "#     + Resize(size=16)\n",
    "#     + TimeWarp(n_speed_change=5, max_speed_ratio=3)\n",
    "# )\n",
    "\n",
    "print(\"[INFO] Augmenting...\")\n",
    "\n",
    "def augmentation(X, y, X_out, y_out, method):\n",
    "    X_aug = []\n",
    "    print('[INFO] ' + method + '...')\n",
    "    for x in X:\n",
    "        X_aug.append(augmenters[method].augment(x))\n",
    "    print('[DONE] ' + method + '.')\n",
    "    return np.vstack((X_out, X_aug)), np.append(y_out, y)\n",
    "    \n",
    "X_augmented, y_augmented = X, y\n",
    "X_augmented, y_augmented = augmentation(X, y, X_augmented, y_augmented, 'AddNoise')\n",
    "X_augmented, y_augmented = augmentation(X, y, X_augmented, y_augmented, 'Convolve')\n",
    "# X_augmented, y_augmented = augmentation(X, y, X_augmented, y_augmented, 'TimeWarp')\n",
    "# X_augmented, y_augmented = augmentation(X, y, X_augmented, y_augmented, 'Drift')\n",
    "# X_augmented, y_augmented = augmentation(X, y, X_augmented, y_augmented, 'Resize')\n",
    "# X_augmented, y_augmented = augmentation(X, y, X_augmented, y_augmented, 'Quantize')\n",
    "# X_augmented, y_augmented = augmentation(X, y, X_augmented, y_augmented, 'Pool')\n",
    "\n",
    "print(X_augmented.shape)\n",
    "print(y_augmented.shape)"
   ]
  },
  {
   "cell_type": "code",
   "execution_count": 9,
   "metadata": {},
   "outputs": [
    {
     "output_type": "execute_result",
     "data": {
      "text/plain": [
       "(4800, 3)"
      ]
     },
     "metadata": {},
     "execution_count": 9
    }
   ],
   "source": [
    "le = LabelEncoder()\n",
    "le.fit(y_augmented)\n",
    "le_y = np.array(le.transform(y_augmented))\n",
    "le_y = le_y.reshape((-1, 1))\n",
    "\n",
    "ohe = OneHotEncoder()\n",
    "ohe.fit(le_y)\n",
    "\n",
    "y_augmented = ohe.transform(le_y).toarray()\n",
    "y_augmented.shape"
   ]
  },
  {
   "cell_type": "code",
   "execution_count": 10,
   "metadata": {},
   "outputs": [
    {
     "output_type": "stream",
     "name": "stdout",
     "text": [
      "Model: \"lstm_keras\"\n_________________________________________________________________\nLayer (type)                 Output Shape              Param #   \n=================================================================\nlstm_0 (LSTM)                (None, 16)                2112      \n_________________________________________________________________\ndropout_1 (Dropout)          (None, 16)                0         \n_________________________________________________________________\ndense_1 (Dense)              (None, 3)                 51        \n=================================================================\nTotal params: 2,163\nTrainable params: 2,163\nNon-trainable params: 0\n_________________________________________________________________\n"
     ]
    }
   ],
   "source": [
    "model = model_tools(X_augmented, y_augmented, test_size=0.4, model_name='lstm_keras', n_layers=1, dropout=0.5)"
   ]
  },
  {
   "cell_type": "code",
   "execution_count": 11,
   "metadata": {
    "tags": [
     "outputPrepend"
    ]
   },
   "outputs": [
    {
     "output_type": "stream",
     "name": "stdout",
     "text": [
      "uc: 0.9248 - val_loss: 0.4172 - val_accuracy: 0.8109 - val_auc: 0.9501 - lr: 0.0010\n",
      "Epoch 7/100\n",
      "2880/2880 [==============================] - 18s 6ms/step - loss: 0.4905 - accuracy: 0.7656 - auc: 0.9242 - val_loss: 0.4352 - val_accuracy: 0.7937 - val_auc: 0.9404 - lr: 0.0010\n",
      "Epoch 8/100\n",
      "2880/2880 [==============================] - 17s 6ms/step - loss: 0.4694 - accuracy: 0.7826 - auc: 0.9319 - val_loss: 0.4033 - val_accuracy: 0.8094 - val_auc: 0.9496 - lr: 0.0010\n",
      "Epoch 9/100\n",
      "2880/2880 [==============================] - 16s 6ms/step - loss: 0.4648 - accuracy: 0.7767 - auc: 0.9331 - val_loss: 0.4354 - val_accuracy: 0.7802 - val_auc: 0.9434 - lr: 0.0010\n",
      "Epoch 10/100\n",
      "2880/2880 [==============================] - 14s 5ms/step - loss: 0.4574 - accuracy: 0.7774 - auc: 0.9348 - val_loss: 0.5151 - val_accuracy: 0.7161 - val_auc: 0.9212 - lr: 0.0010\n",
      "Epoch 11/100\n",
      "2880/2880 [==============================] - 17s 6ms/step - loss: 0.4514 - accuracy: 0.7910 - auc: 0.9374 - val_loss: 0.3922 - val_accuracy: 0.8125 - val_auc: 0.9558 - lr: 0.0010\n",
      "Epoch 12/100\n",
      "2880/2880 [==============================] - 17s 6ms/step - loss: 0.4637 - accuracy: 0.7868 - auc: 0.9336 - val_loss: 0.4932 - val_accuracy: 0.7036 - val_auc: 0.9120 - lr: 0.0010\n",
      "Epoch 13/100\n",
      "2880/2880 [==============================] - 19s 7ms/step - loss: 0.4676 - accuracy: 0.7681 - auc: 0.9309 - val_loss: 0.3649 - val_accuracy: 0.8167 - val_auc: 0.9582 - lr: 0.0010\n",
      "Epoch 14/100\n",
      "2880/2880 [==============================] - 16s 6ms/step - loss: 0.4450 - accuracy: 0.7934 - auc: 0.9387 - val_loss: 0.3967 - val_accuracy: 0.7964 - val_auc: 0.9543 - lr: 0.0010\n",
      "Epoch 15/100\n",
      "2880/2880 [==============================] - 15s 5ms/step - loss: 0.4443 - accuracy: 0.7878 - auc: 0.9386 - val_loss: 0.3785 - val_accuracy: 0.8193 - val_auc: 0.9606 - lr: 0.0010\n",
      "Epoch 16/100\n",
      "2870/2880 [============================>.] - ETA: 0s - loss: 0.4392 - accuracy: 0.7979 - auc: 0.9409\n",
      "Epoch 00016: ReduceLROnPlateau reducing learning rate to 0.0003000000142492354.\n",
      "2880/2880 [==============================] - 16s 5ms/step - loss: 0.4385 - accuracy: 0.7986 - auc: 0.9411 - val_loss: 0.3728 - val_accuracy: 0.8188 - val_auc: 0.9573 - lr: 0.0010\n",
      "Epoch 17/100\n",
      "2880/2880 [==============================] - 19s 7ms/step - loss: 0.3945 - accuracy: 0.8170 - auc: 0.9523 - val_loss: 0.3640 - val_accuracy: 0.8208 - val_auc: 0.9568 - lr: 3.0000e-04\n",
      "Epoch 18/100\n",
      "2880/2880 [==============================] - 19s 6ms/step - loss: 0.3854 - accuracy: 0.8215 - auc: 0.9543 - val_loss: 0.3782 - val_accuracy: 0.8094 - val_auc: 0.9569 - lr: 3.0000e-04\n",
      "Epoch 19/100\n",
      "2880/2880 [==============================] - 17s 6ms/step - loss: 0.3921 - accuracy: 0.8264 - auc: 0.9525 - val_loss: 0.3571 - val_accuracy: 0.8286 - val_auc: 0.9598 - lr: 3.0000e-04\n",
      "Epoch 20/100\n",
      "2880/2880 [==============================] - 16s 6ms/step - loss: 0.3940 - accuracy: 0.8229 - auc: 0.9523 - val_loss: 0.3523 - val_accuracy: 0.8427 - val_auc: 0.9630 - lr: 3.0000e-04\n",
      "Epoch 21/100\n",
      "2880/2880 [==============================] - 13s 5ms/step - loss: 0.3804 - accuracy: 0.8306 - auc: 0.9556 - val_loss: 0.3427 - val_accuracy: 0.8411 - val_auc: 0.9630 - lr: 3.0000e-04\n",
      "Epoch 22/100\n",
      "2880/2880 [==============================] - 17s 6ms/step - loss: 0.3803 - accuracy: 0.8330 - auc: 0.9558 - val_loss: 0.3579 - val_accuracy: 0.8297 - val_auc: 0.9590 - lr: 3.0000e-04\n",
      "Epoch 23/100\n",
      "2880/2880 [==============================] - 22s 7ms/step - loss: 0.3786 - accuracy: 0.8281 - auc: 0.9564 - val_loss: 0.3708 - val_accuracy: 0.8172 - val_auc: 0.9579 - lr: 3.0000e-04\n",
      "Epoch 24/100\n",
      "2880/2880 [==============================] - 19s 7ms/step - loss: 0.3895 - accuracy: 0.8285 - auc: 0.9539 - val_loss: 0.3336 - val_accuracy: 0.8458 - val_auc: 0.9642 - lr: 3.0000e-04\n",
      "Epoch 25/100\n",
      "2880/2880 [==============================] - 16s 6ms/step - loss: 0.3798 - accuracy: 0.8344 - auc: 0.9565 - val_loss: 0.3381 - val_accuracy: 0.8458 - val_auc: 0.9645 - lr: 3.0000e-04\n",
      "Epoch 26/100\n",
      "2880/2880 [==============================] - 16s 5ms/step - loss: 0.3815 - accuracy: 0.8288 - auc: 0.9562 - val_loss: 0.3668 - val_accuracy: 0.8146 - val_auc: 0.9606 - lr: 3.0000e-04\n",
      "Epoch 27/100\n",
      "2869/2880 [============================>.] - ETA: 0s - loss: 0.3707 - accuracy: 0.8323 - auc: 0.9579\n",
      "Epoch 00027: ReduceLROnPlateau reducing learning rate to 9.000000427477062e-05.\n",
      "2880/2880 [==============================] - 17s 6ms/step - loss: 0.3710 - accuracy: 0.8319 - auc: 0.9578 - val_loss: 0.3354 - val_accuracy: 0.8318 - val_auc: 0.9647 - lr: 3.0000e-04\n",
      "Epoch 28/100\n",
      "2880/2880 [==============================] - 17s 6ms/step - loss: 0.3558 - accuracy: 0.8410 - auc: 0.9615 - val_loss: 0.3220 - val_accuracy: 0.8484 - val_auc: 0.9670 - lr: 9.0000e-05\n",
      "Epoch 29/100\n",
      "2880/2880 [==============================] - 18s 6ms/step - loss: 0.3558 - accuracy: 0.8451 - auc: 0.9619 - val_loss: 0.3258 - val_accuracy: 0.8380 - val_auc: 0.9665 - lr: 9.0000e-05\n",
      "Epoch 30/100\n",
      "2880/2880 [==============================] - 22s 7ms/step - loss: 0.3554 - accuracy: 0.8431 - auc: 0.9617 - val_loss: 0.3206 - val_accuracy: 0.8505 - val_auc: 0.9674 - lr: 9.0000e-05\n",
      "Epoch 31/100\n",
      "2880/2880 [==============================] - 16s 5ms/step - loss: 0.3603 - accuracy: 0.8458 - auc: 0.9611 - val_loss: 0.3226 - val_accuracy: 0.8536 - val_auc: 0.9669 - lr: 9.0000e-05\n",
      "Epoch 32/100\n",
      "2880/2880 [==============================] - 17s 6ms/step - loss: 0.3459 - accuracy: 0.8455 - auc: 0.9635 - val_loss: 0.3228 - val_accuracy: 0.8547 - val_auc: 0.9675 - lr: 9.0000e-05\n",
      "Epoch 33/100\n",
      "2873/2880 [============================>.] - ETA: 0s - loss: 0.3562 - accuracy: 0.8462 - auc: 0.9618\n",
      "Epoch 00033: ReduceLROnPlateau reducing learning rate to 2.700000040931627e-05.\n",
      "2880/2880 [==============================] - 19s 7ms/step - loss: 0.3558 - accuracy: 0.8462 - auc: 0.9618 - val_loss: 0.3260 - val_accuracy: 0.8479 - val_auc: 0.9661 - lr: 9.0000e-05\n",
      "Epoch 34/100\n",
      "2880/2880 [==============================] - 18s 6ms/step - loss: 0.3528 - accuracy: 0.8493 - auc: 0.9628 - val_loss: 0.3187 - val_accuracy: 0.8490 - val_auc: 0.9677 - lr: 2.7000e-05\n",
      "Epoch 35/100\n",
      "2880/2880 [==============================] - 17s 6ms/step - loss: 0.3498 - accuracy: 0.8476 - auc: 0.9638 - val_loss: 0.3182 - val_accuracy: 0.8500 - val_auc: 0.9677 - lr: 2.7000e-05\n",
      "Epoch 36/100\n",
      "2880/2880 [==============================] - 16s 6ms/step - loss: 0.3459 - accuracy: 0.8493 - auc: 0.9643 - val_loss: 0.3185 - val_accuracy: 0.8490 - val_auc: 0.9676 - lr: 2.7000e-05\n",
      "Epoch 37/100\n",
      "2880/2880 [==============================] - 14s 5ms/step - loss: 0.3520 - accuracy: 0.8549 - auc: 0.9634 - val_loss: 0.3243 - val_accuracy: 0.8516 - val_auc: 0.9663 - lr: 2.7000e-05\n",
      "Epoch 38/100\n",
      "2880/2880 [==============================] - 17s 6ms/step - loss: 0.3426 - accuracy: 0.8503 - auc: 0.9644 - val_loss: 0.3165 - val_accuracy: 0.8521 - val_auc: 0.9680 - lr: 2.7000e-05\n",
      "Epoch 39/100\n",
      "2880/2880 [==============================] - 18s 6ms/step - loss: 0.3441 - accuracy: 0.8542 - auc: 0.9645 - val_loss: 0.3170 - val_accuracy: 0.8479 - val_auc: 0.9679 - lr: 2.7000e-05\n",
      "Epoch 40/100\n",
      "2880/2880 [==============================] - 18s 6ms/step - loss: 0.3409 - accuracy: 0.8497 - auc: 0.9645 - val_loss: 0.3173 - val_accuracy: 0.8490 - val_auc: 0.9679 - lr: 2.7000e-05\n",
      "Epoch 41/100\n",
      "2869/2880 [============================>.] - ETA: 0s - loss: 0.3467 - accuracy: 0.8564 - auc: 0.9640\n",
      "Epoch 00041: ReduceLROnPlateau reducing learning rate to 8.100000013655517e-06.\n",
      "2880/2880 [==============================] - 17s 6ms/step - loss: 0.3466 - accuracy: 0.8566 - auc: 0.9640 - val_loss: 0.3169 - val_accuracy: 0.8490 - val_auc: 0.9679 - lr: 2.7000e-05\n",
      "Epoch 42/100\n",
      "2880/2880 [==============================] - 14s 5ms/step - loss: 0.3421 - accuracy: 0.8490 - auc: 0.9645 - val_loss: 0.3163 - val_accuracy: 0.8557 - val_auc: 0.9681 - lr: 8.1000e-06\n",
      "Epoch 43/100\n",
      "2880/2880 [==============================] - 16s 6ms/step - loss: 0.3414 - accuracy: 0.8556 - auc: 0.9651 - val_loss: 0.3169 - val_accuracy: 0.8510 - val_auc: 0.9679 - lr: 8.1000e-06\n",
      "Epoch 44/100\n",
      "2880/2880 [==============================] - 21s 7ms/step - loss: 0.3469 - accuracy: 0.8497 - auc: 0.9646 - val_loss: 0.3158 - val_accuracy: 0.8526 - val_auc: 0.9681 - lr: 8.1000e-06\n",
      "Epoch 45/100\n",
      "2880/2880 [==============================] - 18s 6ms/step - loss: 0.3403 - accuracy: 0.8559 - auc: 0.9653 - val_loss: 0.3159 - val_accuracy: 0.8531 - val_auc: 0.9682 - lr: 8.1000e-06\n",
      "Epoch 46/100\n",
      "2880/2880 [==============================] - 17s 6ms/step - loss: 0.3382 - accuracy: 0.8535 - auc: 0.9656 - val_loss: 0.3207 - val_accuracy: 0.8516 - val_auc: 0.9672 - lr: 8.1000e-06\n",
      "Epoch 47/100\n",
      "2871/2880 [============================>.] - ETA: 0s - loss: 0.3406 - accuracy: 0.8523 - auc: 0.9649\n",
      "Epoch 00047: ReduceLROnPlateau reducing learning rate to 2.429999949526973e-06.\n",
      "2880/2880 [==============================] - 15s 5ms/step - loss: 0.3400 - accuracy: 0.8524 - auc: 0.9651 - val_loss: 0.3180 - val_accuracy: 0.8500 - val_auc: 0.9678 - lr: 8.1000e-06\n",
      "Epoch 48/100\n",
      "2880/2880 [==============================] - 17s 6ms/step - loss: 0.3359 - accuracy: 0.8549 - auc: 0.9660 - val_loss: 0.3175 - val_accuracy: 0.8500 - val_auc: 0.9678 - lr: 2.4300e-06\n",
      "Epoch 49/100\n",
      "2880/2880 [==============================] - 18s 6ms/step - loss: 0.3417 - accuracy: 0.8524 - auc: 0.9650 - val_loss: 0.3166 - val_accuracy: 0.8521 - val_auc: 0.9680 - lr: 2.4300e-06\n",
      "Epoch 50/100\n",
      "2875/2880 [============================>.] - ETA: 0s - loss: 0.3301 - accuracy: 0.8560 - auc: 0.9672\n",
      "Epoch 00050: ReduceLROnPlateau reducing learning rate to 1e-06.\n",
      "2880/2880 [==============================] - 17s 6ms/step - loss: 0.3305 - accuracy: 0.8556 - auc: 0.9671 - val_loss: 0.3170 - val_accuracy: 0.8526 - val_auc: 0.9679 - lr: 2.4300e-06\n",
      "Epoch 51/100\n",
      "2880/2880 [==============================] - 18s 6ms/step - loss: 0.3401 - accuracy: 0.8545 - auc: 0.9655 - val_loss: 0.3169 - val_accuracy: 0.8526 - val_auc: 0.9679 - lr: 1.0000e-06\n",
      "Epoch 52/100\n",
      "2880/2880 [==============================] - 17s 6ms/step - loss: 0.3449 - accuracy: 0.8552 - auc: 0.9644 - val_loss: 0.3167 - val_accuracy: 0.8521 - val_auc: 0.9680 - lr: 1.0000e-06\n",
      "Epoch 53/100\n",
      "2880/2880 [==============================] - 16s 6ms/step - loss: 0.3476 - accuracy: 0.8562 - auc: 0.9638 - val_loss: 0.3166 - val_accuracy: 0.8521 - val_auc: 0.9680 - lr: 1.0000e-06\n",
      "Epoch 54/100\n",
      "2880/2880 [==============================] - 18s 6ms/step - loss: 0.3379 - accuracy: 0.8601 - auc: 0.9655 - val_loss: 0.3166 - val_accuracy: 0.8521 - val_auc: 0.9680 - lr: 1.0000e-06\n",
      "Epoch 55/100\n",
      "2880/2880 [==============================] - 16s 6ms/step - loss: 0.3435 - accuracy: 0.8531 - auc: 0.9645 - val_loss: 0.3165 - val_accuracy: 0.8516 - val_auc: 0.9680 - lr: 1.0000e-06\n",
      "Epoch 56/100\n",
      "2880/2880 [==============================] - 17s 6ms/step - loss: 0.3364 - accuracy: 0.8528 - auc: 0.9654 - val_loss: 0.3166 - val_accuracy: 0.8516 - val_auc: 0.9680 - lr: 1.0000e-06\n",
      "Epoch 57/100\n",
      "2880/2880 [==============================] - 18s 6ms/step - loss: 0.3487 - accuracy: 0.8559 - auc: 0.9638 - val_loss: 0.3164 - val_accuracy: 0.8521 - val_auc: 0.9681 - lr: 1.0000e-06\n",
      "Epoch 58/100\n",
      "2880/2880 [==============================] - 15s 5ms/step - loss: 0.3445 - accuracy: 0.8497 - auc: 0.9644 - val_loss: 0.3161 - val_accuracy: 0.8526 - val_auc: 0.9681 - lr: 1.0000e-06\n",
      "Epoch 59/100\n",
      "2880/2880 [==============================] - 16s 6ms/step - loss: 0.3322 - accuracy: 0.8569 - auc: 0.9669 - val_loss: 0.3162 - val_accuracy: 0.8526 - val_auc: 0.9681 - lr: 1.0000e-06\n",
      "Epoch 60/100\n",
      "2880/2880 [==============================] - 17s 6ms/step - loss: 0.3417 - accuracy: 0.8569 - auc: 0.9654 - val_loss: 0.3164 - val_accuracy: 0.8516 - val_auc: 0.9680 - lr: 1.0000e-06\n",
      "Epoch 61/100\n",
      "2880/2880 [==============================] - 17s 6ms/step - loss: 0.3491 - accuracy: 0.8552 - auc: 0.9640 - val_loss: 0.3163 - val_accuracy: 0.8521 - val_auc: 0.9680 - lr: 1.0000e-06\n",
      "Epoch 62/100\n",
      "2880/2880 [==============================] - 18s 6ms/step - loss: 0.3358 - accuracy: 0.8538 - auc: 0.9663 - val_loss: 0.3163 - val_accuracy: 0.8521 - val_auc: 0.9681 - lr: 1.0000e-06\n",
      "Epoch 63/100\n",
      "2880/2880 [==============================] - 19s 7ms/step - loss: 0.3395 - accuracy: 0.8503 - auc: 0.9651 - val_loss: 0.3163 - val_accuracy: 0.8516 - val_auc: 0.9680 - lr: 1.0000e-06\n",
      "Epoch 64/100\n",
      "2880/2880 [==============================] - 17s 6ms/step - loss: 0.3375 - accuracy: 0.8559 - auc: 0.9658 - val_loss: 0.3164 - val_accuracy: 0.8521 - val_auc: 0.9680 - lr: 1.0000e-06\n",
      "Epoch 65/100\n",
      "2880/2880 [==============================] - 19s 7ms/step - loss: 0.3386 - accuracy: 0.8521 - auc: 0.9658 - val_loss: 0.3163 - val_accuracy: 0.8521 - val_auc: 0.9680 - lr: 1.0000e-06\n",
      "Epoch 66/100\n",
      "2880/2880 [==============================] - 17s 6ms/step - loss: 0.3411 - accuracy: 0.8573 - auc: 0.9653 - val_loss: 0.3163 - val_accuracy: 0.8516 - val_auc: 0.9681 - lr: 1.0000e-06\n",
      "Epoch 67/100\n",
      "2880/2880 [==============================] - 19s 7ms/step - loss: 0.3400 - accuracy: 0.8559 - auc: 0.9655 - val_loss: 0.3164 - val_accuracy: 0.8516 - val_auc: 0.9680 - lr: 1.0000e-06\n",
      "Epoch 68/100\n",
      "2880/2880 [==============================] - 17s 6ms/step - loss: 0.3424 - accuracy: 0.8556 - auc: 0.9651 - val_loss: 0.3164 - val_accuracy: 0.8516 - val_auc: 0.9680 - lr: 1.0000e-06\n",
      "Epoch 69/100\n",
      "2880/2880 [==============================] - 15s 5ms/step - loss: 0.3366 - accuracy: 0.8566 - auc: 0.9662 - val_loss: 0.3164 - val_accuracy: 0.8521 - val_auc: 0.9680 - lr: 1.0000e-06\n",
      "Epoch 70/100\n",
      "2880/2880 [==============================] - 19s 7ms/step - loss: 0.3393 - accuracy: 0.8562 - auc: 0.9657 - val_loss: 0.3164 - val_accuracy: 0.8516 - val_auc: 0.9680 - lr: 1.0000e-06\n",
      "Epoch 71/100\n",
      "2880/2880 [==============================] - 18s 6ms/step - loss: 0.3429 - accuracy: 0.8545 - auc: 0.9650 - val_loss: 0.3162 - val_accuracy: 0.8521 - val_auc: 0.9681 - lr: 1.0000e-06\n",
      "Epoch 72/100\n",
      "2880/2880 [==============================] - 20s 7ms/step - loss: 0.3408 - accuracy: 0.8556 - auc: 0.9654 - val_loss: 0.3163 - val_accuracy: 0.8516 - val_auc: 0.9680 - lr: 1.0000e-06\n",
      "Epoch 73/100\n",
      "2880/2880 [==============================] - 19s 7ms/step - loss: 0.3440 - accuracy: 0.8576 - auc: 0.9654 - val_loss: 0.3162 - val_accuracy: 0.8521 - val_auc: 0.9681 - lr: 1.0000e-06\n",
      "Epoch 74/100\n",
      "2880/2880 [==============================] - 17s 6ms/step - loss: 0.3453 - accuracy: 0.8531 - auc: 0.9644 - val_loss: 0.3160 - val_accuracy: 0.8521 - val_auc: 0.9681 - lr: 1.0000e-06\n",
      "Epoch 75/100\n",
      "2880/2880 [==============================] - 15s 5ms/step - loss: 0.3316 - accuracy: 0.8562 - auc: 0.9663 - val_loss: 0.3162 - val_accuracy: 0.8521 - val_auc: 0.9681 - lr: 1.0000e-06\n",
      "Epoch 76/100\n",
      "2880/2880 [==============================] - 19s 7ms/step - loss: 0.3439 - accuracy: 0.8545 - auc: 0.9645 - val_loss: 0.3165 - val_accuracy: 0.8516 - val_auc: 0.9680 - lr: 1.0000e-06\n",
      "Epoch 77/100\n",
      "2880/2880 [==============================] - 19s 7ms/step - loss: 0.3429 - accuracy: 0.8545 - auc: 0.9651 - val_loss: 0.3163 - val_accuracy: 0.8516 - val_auc: 0.9681 - lr: 1.0000e-06\n",
      "Epoch 78/100\n",
      "2880/2880 [==============================] - 18s 6ms/step - loss: 0.3427 - accuracy: 0.8562 - auc: 0.9648 - val_loss: 0.3161 - val_accuracy: 0.8521 - val_auc: 0.9681 - lr: 1.0000e-06\n",
      "Epoch 79/100\n",
      "2880/2880 [==============================] - 18s 6ms/step - loss: 0.3390 - accuracy: 0.8493 - auc: 0.9653 - val_loss: 0.3160 - val_accuracy: 0.8526 - val_auc: 0.9681 - lr: 1.0000e-06\n",
      "Epoch 80/100\n",
      "2880/2880 [==============================] - 15s 5ms/step - loss: 0.3429 - accuracy: 0.8517 - auc: 0.9647 - val_loss: 0.3158 - val_accuracy: 0.8531 - val_auc: 0.9681 - lr: 1.0000e-06\n",
      "Epoch 81/100\n",
      "2880/2880 [==============================] - 13s 5ms/step - loss: 0.3385 - accuracy: 0.8580 - auc: 0.9654 - val_loss: 0.3159 - val_accuracy: 0.8526 - val_auc: 0.9681 - lr: 1.0000e-06\n",
      "Epoch 82/100\n",
      "2880/2880 [==============================] - 12s 4ms/step - loss: 0.3411 - accuracy: 0.8538 - auc: 0.9649 - val_loss: 0.3159 - val_accuracy: 0.8526 - val_auc: 0.9682 - lr: 1.0000e-06\n",
      "Epoch 83/100\n",
      "2880/2880 [==============================] - 13s 4ms/step - loss: 0.3438 - accuracy: 0.8500 - auc: 0.9650 - val_loss: 0.3158 - val_accuracy: 0.8531 - val_auc: 0.9681 - lr: 1.0000e-06\n",
      "Epoch 84/100\n",
      "2880/2880 [==============================] - 13s 5ms/step - loss: 0.3435 - accuracy: 0.8535 - auc: 0.9646 - val_loss: 0.3158 - val_accuracy: 0.8521 - val_auc: 0.9681 - lr: 1.0000e-06\n",
      "Epoch 85/100\n",
      "2880/2880 [==============================] - 10s 4ms/step - loss: 0.3438 - accuracy: 0.8535 - auc: 0.9646 - val_loss: 0.3158 - val_accuracy: 0.8526 - val_auc: 0.9682 - lr: 1.0000e-06\n",
      "Epoch 86/100\n",
      "2880/2880 [==============================] - 11s 4ms/step - loss: 0.3449 - accuracy: 0.8569 - auc: 0.9645 - val_loss: 0.3158 - val_accuracy: 0.8521 - val_auc: 0.9681 - lr: 1.0000e-06\n",
      "Epoch 87/100\n",
      "2880/2880 [==============================] - 11s 4ms/step - loss: 0.3372 - accuracy: 0.8542 - auc: 0.9657 - val_loss: 0.3160 - val_accuracy: 0.8516 - val_auc: 0.9681 - lr: 1.0000e-06\n",
      "Epoch 88/100\n",
      "2880/2880 [==============================] - 13s 4ms/step - loss: 0.3323 - accuracy: 0.8545 - auc: 0.9668 - val_loss: 0.3160 - val_accuracy: 0.8516 - val_auc: 0.9681 - lr: 1.0000e-06\n",
      "Epoch 89/100\n",
      "2880/2880 [==============================] - 11s 4ms/step - loss: 0.3380 - accuracy: 0.8549 - auc: 0.9656 - val_loss: 0.3160 - val_accuracy: 0.8516 - val_auc: 0.9681 - lr: 1.0000e-06\n",
      "Epoch 90/100\n",
      "2880/2880 [==============================] - 16s 6ms/step - loss: 0.3418 - accuracy: 0.8583 - auc: 0.9652 - val_loss: 0.3161 - val_accuracy: 0.8516 - val_auc: 0.9681 - lr: 1.0000e-06\n",
      "Epoch 91/100\n",
      "2880/2880 [==============================] - 13s 5ms/step - loss: 0.3447 - accuracy: 0.8559 - auc: 0.9645 - val_loss: 0.3159 - val_accuracy: 0.8526 - val_auc: 0.9681 - lr: 1.0000e-06\n",
      "Epoch 92/100\n",
      "2880/2880 [==============================] - 13s 4ms/step - loss: 0.3388 - accuracy: 0.8535 - auc: 0.9654 - val_loss: 0.3159 - val_accuracy: 0.8526 - val_auc: 0.9681 - lr: 1.0000e-06\n",
      "Epoch 93/100\n",
      "2880/2880 [==============================] - 11s 4ms/step - loss: 0.3494 - accuracy: 0.8535 - auc: 0.9632 - val_loss: 0.3158 - val_accuracy: 0.8521 - val_auc: 0.9681 - lr: 1.0000e-06\n",
      "Epoch 94/100\n",
      "2880/2880 [==============================] - 10s 3ms/step - loss: 0.3410 - accuracy: 0.8562 - auc: 0.9658 - val_loss: 0.3160 - val_accuracy: 0.8516 - val_auc: 0.9681 - lr: 1.0000e-06\n",
      "Epoch 95/100\n",
      "2880/2880 [==============================] - 10s 4ms/step - loss: 0.3289 - accuracy: 0.8601 - auc: 0.9670 - val_loss: 0.3162 - val_accuracy: 0.8521 - val_auc: 0.9681 - lr: 1.0000e-06\n",
      "Epoch 96/100\n",
      "2880/2880 [==============================] - 11s 4ms/step - loss: 0.3375 - accuracy: 0.8524 - auc: 0.9660 - val_loss: 0.3162 - val_accuracy: 0.8516 - val_auc: 0.9681 - lr: 1.0000e-06\n",
      "Epoch 97/100\n",
      "2880/2880 [==============================] - 12s 4ms/step - loss: 0.3399 - accuracy: 0.8559 - auc: 0.9653 - val_loss: 0.3163 - val_accuracy: 0.8516 - val_auc: 0.9681 - lr: 1.0000e-06\n",
      "Epoch 98/100\n",
      "2880/2880 [==============================] - 10s 4ms/step - loss: 0.3433 - accuracy: 0.8569 - auc: 0.9647 - val_loss: 0.3162 - val_accuracy: 0.8521 - val_auc: 0.9681 - lr: 1.0000e-06\n",
      "Epoch 99/100\n",
      "2880/2880 [==============================] - 10s 3ms/step - loss: 0.3386 - accuracy: 0.8535 - auc: 0.9657 - val_loss: 0.3161 - val_accuracy: 0.8516 - val_auc: 0.9681 - lr: 1.0000e-06\n",
      "Epoch 100/100\n",
      "2880/2880 [==============================] - 11s 4ms/step - loss: 0.3487 - accuracy: 0.8562 - auc: 0.9638 - val_loss: 0.3159 - val_accuracy: 0.8521 - val_auc: 0.9681 - lr: 1.0000e-06\n",
      "\n",
      "[INFO] evaluating network...\n",
      "60/60 [==============================] - 0s 1ms/step - loss: 0.3159 - accuracy: 0.8521 - auc: 0.9681\n",
      "\n",
      "[INFO] saving model...\n",
      "Training at Mon Mar 29 20:12:27 2021\n",
      "+----------+--------------------+\n",
      "| Features | Value              |\n",
      "+----------+--------------------+\n",
      "| val_acc  | 0.8520833253860474 |\n",
      "| val_auc  | 0.9681316614151001 |\n",
      "| val_loss | 0.3159009516239166 |\n",
      "| run-time | 1613.209287 (s)    |\n",
      "+----------+--------------------+\n"
     ]
    },
    {
     "output_type": "display_data",
     "data": {
      "text/plain": "<Figure size 432x288 with 2 Axes>",
      "image/svg+xml": "<?xml version=\"1.0\" encoding=\"utf-8\" standalone=\"no\"?>\n<!DOCTYPE svg PUBLIC \"-//W3C//DTD SVG 1.1//EN\"\n  \"http://www.w3.org/Graphics/SVG/1.1/DTD/svg11.dtd\">\n<!-- Created with matplotlib (https://matplotlib.org/) -->\n<svg height=\"262.19625pt\" version=\"1.1\" viewBox=\"0 0 392.02075 262.19625\" width=\"392.02075pt\" xmlns=\"http://www.w3.org/2000/svg\" xmlns:xlink=\"http://www.w3.org/1999/xlink\">\n <metadata>\n  <rdf:RDF xmlns:cc=\"http://creativecommons.org/ns#\" xmlns:dc=\"http://purl.org/dc/elements/1.1/\" xmlns:rdf=\"http://www.w3.org/1999/02/22-rdf-syntax-ns#\">\n   <cc:Work>\n    <dc:type rdf:resource=\"http://purl.org/dc/dcmitype/StillImage\"/>\n    <dc:date>2021-03-29T20:39:29.659007</dc:date>\n    <dc:format>image/svg+xml</dc:format>\n    <dc:creator>\n     <cc:Agent>\n      <dc:title>Matplotlib v3.3.2, https://matplotlib.org/</dc:title>\n     </cc:Agent>\n    </dc:creator>\n   </cc:Work>\n  </rdf:RDF>\n </metadata>\n <defs>\n  <style type=\"text/css\">*{stroke-linecap:butt;stroke-linejoin:round;}</style>\n </defs>\n <g id=\"figure_1\">\n  <g id=\"patch_1\">\n   <path d=\"M 0 262.19625 \nL 392.02075 262.19625 \nL 392.02075 0 \nL 0 0 \nz\n\" style=\"fill:none;\"/>\n  </g>\n  <g id=\"axes_1\">\n   <g id=\"patch_2\">\n    <path d=\"M 66.465625 224.64 \nL 334.305625 224.64 \nL 334.305625 7.2 \nL 66.465625 7.2 \nz\n\" style=\"fill:#ffffff;\"/>\n   </g>\n   <g id=\"QuadMesh_1\">\n    <path clip-path=\"url(#pc52dea4c97)\" d=\"M 66.465625 7.2 \nL 155.745625 7.2 \nL 155.745625 79.68 \nL 66.465625 79.68 \nL 66.465625 7.2 \n\" style=\"fill:#084b93;\"/>\n    <path clip-path=\"url(#pc52dea4c97)\" d=\"M 155.745625 7.2 \nL 245.025625 7.2 \nL 245.025625 79.68 \nL 155.745625 79.68 \nL 155.745625 7.2 \n\" style=\"fill:#f7fbff;\"/>\n    <path clip-path=\"url(#pc52dea4c97)\" d=\"M 245.025625 7.2 \nL 334.305625 7.2 \nL 334.305625 79.68 \nL 245.025625 79.68 \nL 245.025625 7.2 \n\" style=\"fill:#e2edf8;\"/>\n    <path clip-path=\"url(#pc52dea4c97)\" d=\"M 66.465625 79.68 \nL 155.745625 79.68 \nL 155.745625 152.16 \nL 66.465625 152.16 \nL 66.465625 79.68 \n\" style=\"fill:#f7fbff;\"/>\n    <path clip-path=\"url(#pc52dea4c97)\" d=\"M 155.745625 79.68 \nL 245.025625 79.68 \nL 245.025625 152.16 \nL 155.745625 152.16 \nL 155.745625 79.68 \n\" style=\"fill:#08306b;\"/>\n    <path clip-path=\"url(#pc52dea4c97)\" d=\"M 245.025625 79.68 \nL 334.305625 79.68 \nL 334.305625 152.16 \nL 245.025625 152.16 \nL 245.025625 79.68 \n\" style=\"fill:#f6faff;\"/>\n    <path clip-path=\"url(#pc52dea4c97)\" d=\"M 66.465625 152.16 \nL 155.745625 152.16 \nL 155.745625 224.64 \nL 66.465625 224.64 \nL 66.465625 152.16 \n\" style=\"fill:#b0d2e7;\"/>\n    <path clip-path=\"url(#pc52dea4c97)\" d=\"M 155.745625 152.16 \nL 245.025625 152.16 \nL 245.025625 224.64 \nL 155.745625 224.64 \nL 155.745625 152.16 \n\" style=\"fill:#f5fafe;\"/>\n    <path clip-path=\"url(#pc52dea4c97)\" d=\"M 245.025625 152.16 \nL 334.305625 152.16 \nL 334.305625 224.64 \nL 245.025625 224.64 \nL 245.025625 152.16 \n\" style=\"fill:#3383be;\"/>\n   </g>\n   <g id=\"matplotlib.axis_1\">\n    <g id=\"xtick_1\">\n     <g id=\"line2d_1\">\n      <defs>\n       <path d=\"M 0 0 \nL 0 3.5 \n\" id=\"m71d9abea48\" style=\"stroke:#000000;stroke-width:0.8;\"/>\n      </defs>\n      <g>\n       <use style=\"stroke:#000000;stroke-width:0.8;\" x=\"111.105625\" xlink:href=\"#m71d9abea48\" y=\"224.64\"/>\n      </g>\n     </g>\n     <g id=\"text_1\">\n      <!-- idle -->\n      <g transform=\"translate(102.076719 239.238437)scale(0.1 -0.1)\">\n       <defs>\n        <path d=\"M 9.421875 54.6875 \nL 18.40625 54.6875 \nL 18.40625 0 \nL 9.421875 0 \nz\nM 9.421875 75.984375 \nL 18.40625 75.984375 \nL 18.40625 64.59375 \nL 9.421875 64.59375 \nz\n\" id=\"DejaVuSans-105\"/>\n        <path d=\"M 45.40625 46.390625 \nL 45.40625 75.984375 \nL 54.390625 75.984375 \nL 54.390625 0 \nL 45.40625 0 \nL 45.40625 8.203125 \nQ 42.578125 3.328125 38.25 0.953125 \nQ 33.9375 -1.421875 27.875 -1.421875 \nQ 17.96875 -1.421875 11.734375 6.484375 \nQ 5.515625 14.40625 5.515625 27.296875 \nQ 5.515625 40.1875 11.734375 48.09375 \nQ 17.96875 56 27.875 56 \nQ 33.9375 56 38.25 53.625 \nQ 42.578125 51.265625 45.40625 46.390625 \nz\nM 14.796875 27.296875 \nQ 14.796875 17.390625 18.875 11.75 \nQ 22.953125 6.109375 30.078125 6.109375 \nQ 37.203125 6.109375 41.296875 11.75 \nQ 45.40625 17.390625 45.40625 27.296875 \nQ 45.40625 37.203125 41.296875 42.84375 \nQ 37.203125 48.484375 30.078125 48.484375 \nQ 22.953125 48.484375 18.875 42.84375 \nQ 14.796875 37.203125 14.796875 27.296875 \nz\n\" id=\"DejaVuSans-100\"/>\n        <path d=\"M 9.421875 75.984375 \nL 18.40625 75.984375 \nL 18.40625 0 \nL 9.421875 0 \nz\n\" id=\"DejaVuSans-108\"/>\n        <path d=\"M 56.203125 29.59375 \nL 56.203125 25.203125 \nL 14.890625 25.203125 \nQ 15.484375 15.921875 20.484375 11.0625 \nQ 25.484375 6.203125 34.421875 6.203125 \nQ 39.59375 6.203125 44.453125 7.46875 \nQ 49.3125 8.734375 54.109375 11.28125 \nL 54.109375 2.78125 \nQ 49.265625 0.734375 44.1875 -0.34375 \nQ 39.109375 -1.421875 33.890625 -1.421875 \nQ 20.796875 -1.421875 13.15625 6.1875 \nQ 5.515625 13.8125 5.515625 26.8125 \nQ 5.515625 40.234375 12.765625 48.109375 \nQ 20.015625 56 32.328125 56 \nQ 43.359375 56 49.78125 48.890625 \nQ 56.203125 41.796875 56.203125 29.59375 \nz\nM 47.21875 32.234375 \nQ 47.125 39.59375 43.09375 43.984375 \nQ 39.0625 48.390625 32.421875 48.390625 \nQ 24.90625 48.390625 20.390625 44.140625 \nQ 15.875 39.890625 15.1875 32.171875 \nz\n\" id=\"DejaVuSans-101\"/>\n       </defs>\n       <use xlink:href=\"#DejaVuSans-105\"/>\n       <use x=\"27.783203\" xlink:href=\"#DejaVuSans-100\"/>\n       <use x=\"91.259766\" xlink:href=\"#DejaVuSans-108\"/>\n       <use x=\"119.042969\" xlink:href=\"#DejaVuSans-101\"/>\n      </g>\n     </g>\n    </g>\n    <g id=\"xtick_2\">\n     <g id=\"line2d_2\">\n      <g>\n       <use style=\"stroke:#000000;stroke-width:0.8;\" x=\"200.385625\" xlink:href=\"#m71d9abea48\" y=\"224.64\"/>\n      </g>\n     </g>\n     <g id=\"text_2\">\n      <!-- running -->\n      <g transform=\"translate(181.091875 239.238437)scale(0.1 -0.1)\">\n       <defs>\n        <path d=\"M 41.109375 46.296875 \nQ 39.59375 47.171875 37.8125 47.578125 \nQ 36.03125 48 33.890625 48 \nQ 26.265625 48 22.1875 43.046875 \nQ 18.109375 38.09375 18.109375 28.8125 \nL 18.109375 0 \nL 9.078125 0 \nL 9.078125 54.6875 \nL 18.109375 54.6875 \nL 18.109375 46.1875 \nQ 20.953125 51.171875 25.484375 53.578125 \nQ 30.03125 56 36.53125 56 \nQ 37.453125 56 38.578125 55.875 \nQ 39.703125 55.765625 41.0625 55.515625 \nz\n\" id=\"DejaVuSans-114\"/>\n        <path d=\"M 8.5 21.578125 \nL 8.5 54.6875 \nL 17.484375 54.6875 \nL 17.484375 21.921875 \nQ 17.484375 14.15625 20.5 10.265625 \nQ 23.53125 6.390625 29.59375 6.390625 \nQ 36.859375 6.390625 41.078125 11.03125 \nQ 45.3125 15.671875 45.3125 23.6875 \nL 45.3125 54.6875 \nL 54.296875 54.6875 \nL 54.296875 0 \nL 45.3125 0 \nL 45.3125 8.40625 \nQ 42.046875 3.421875 37.71875 1 \nQ 33.40625 -1.421875 27.6875 -1.421875 \nQ 18.265625 -1.421875 13.375 4.4375 \nQ 8.5 10.296875 8.5 21.578125 \nz\nM 31.109375 56 \nz\n\" id=\"DejaVuSans-117\"/>\n        <path d=\"M 54.890625 33.015625 \nL 54.890625 0 \nL 45.90625 0 \nL 45.90625 32.71875 \nQ 45.90625 40.484375 42.875 44.328125 \nQ 39.84375 48.1875 33.796875 48.1875 \nQ 26.515625 48.1875 22.3125 43.546875 \nQ 18.109375 38.921875 18.109375 30.90625 \nL 18.109375 0 \nL 9.078125 0 \nL 9.078125 54.6875 \nL 18.109375 54.6875 \nL 18.109375 46.1875 \nQ 21.34375 51.125 25.703125 53.5625 \nQ 30.078125 56 35.796875 56 \nQ 45.21875 56 50.046875 50.171875 \nQ 54.890625 44.34375 54.890625 33.015625 \nz\n\" id=\"DejaVuSans-110\"/>\n        <path d=\"M 45.40625 27.984375 \nQ 45.40625 37.75 41.375 43.109375 \nQ 37.359375 48.484375 30.078125 48.484375 \nQ 22.859375 48.484375 18.828125 43.109375 \nQ 14.796875 37.75 14.796875 27.984375 \nQ 14.796875 18.265625 18.828125 12.890625 \nQ 22.859375 7.515625 30.078125 7.515625 \nQ 37.359375 7.515625 41.375 12.890625 \nQ 45.40625 18.265625 45.40625 27.984375 \nz\nM 54.390625 6.78125 \nQ 54.390625 -7.171875 48.1875 -13.984375 \nQ 42 -20.796875 29.203125 -20.796875 \nQ 24.46875 -20.796875 20.265625 -20.09375 \nQ 16.0625 -19.390625 12.109375 -17.921875 \nL 12.109375 -9.1875 \nQ 16.0625 -11.328125 19.921875 -12.34375 \nQ 23.78125 -13.375 27.78125 -13.375 \nQ 36.625 -13.375 41.015625 -8.765625 \nQ 45.40625 -4.15625 45.40625 5.171875 \nL 45.40625 9.625 \nQ 42.625 4.78125 38.28125 2.390625 \nQ 33.9375 0 27.875 0 \nQ 17.828125 0 11.671875 7.65625 \nQ 5.515625 15.328125 5.515625 27.984375 \nQ 5.515625 40.671875 11.671875 48.328125 \nQ 17.828125 56 27.875 56 \nQ 33.9375 56 38.28125 53.609375 \nQ 42.625 51.21875 45.40625 46.390625 \nL 45.40625 54.6875 \nL 54.390625 54.6875 \nz\n\" id=\"DejaVuSans-103\"/>\n       </defs>\n       <use xlink:href=\"#DejaVuSans-114\"/>\n       <use x=\"41.113281\" xlink:href=\"#DejaVuSans-117\"/>\n       <use x=\"104.492188\" xlink:href=\"#DejaVuSans-110\"/>\n       <use x=\"167.871094\" xlink:href=\"#DejaVuSans-110\"/>\n       <use x=\"231.25\" xlink:href=\"#DejaVuSans-105\"/>\n       <use x=\"259.033203\" xlink:href=\"#DejaVuSans-110\"/>\n       <use x=\"322.412109\" xlink:href=\"#DejaVuSans-103\"/>\n      </g>\n     </g>\n    </g>\n    <g id=\"xtick_3\">\n     <g id=\"line2d_3\">\n      <g>\n       <use style=\"stroke:#000000;stroke-width:0.8;\" x=\"289.665625\" xlink:href=\"#m71d9abea48\" y=\"224.64\"/>\n      </g>\n     </g>\n     <g id=\"text_3\">\n      <!-- walking -->\n      <g transform=\"translate(270.496094 239.238437)scale(0.1 -0.1)\">\n       <defs>\n        <path d=\"M 4.203125 54.6875 \nL 13.1875 54.6875 \nL 24.421875 12.015625 \nL 35.59375 54.6875 \nL 46.1875 54.6875 \nL 57.421875 12.015625 \nL 68.609375 54.6875 \nL 77.59375 54.6875 \nL 63.28125 0 \nL 52.6875 0 \nL 40.921875 44.828125 \nL 29.109375 0 \nL 18.5 0 \nz\n\" id=\"DejaVuSans-119\"/>\n        <path d=\"M 34.28125 27.484375 \nQ 23.390625 27.484375 19.1875 25 \nQ 14.984375 22.515625 14.984375 16.5 \nQ 14.984375 11.71875 18.140625 8.90625 \nQ 21.296875 6.109375 26.703125 6.109375 \nQ 34.1875 6.109375 38.703125 11.40625 \nQ 43.21875 16.703125 43.21875 25.484375 \nL 43.21875 27.484375 \nz\nM 52.203125 31.203125 \nL 52.203125 0 \nL 43.21875 0 \nL 43.21875 8.296875 \nQ 40.140625 3.328125 35.546875 0.953125 \nQ 30.953125 -1.421875 24.3125 -1.421875 \nQ 15.921875 -1.421875 10.953125 3.296875 \nQ 6 8.015625 6 15.921875 \nQ 6 25.140625 12.171875 29.828125 \nQ 18.359375 34.515625 30.609375 34.515625 \nL 43.21875 34.515625 \nL 43.21875 35.40625 \nQ 43.21875 41.609375 39.140625 45 \nQ 35.0625 48.390625 27.6875 48.390625 \nQ 23 48.390625 18.546875 47.265625 \nQ 14.109375 46.140625 10.015625 43.890625 \nL 10.015625 52.203125 \nQ 14.9375 54.109375 19.578125 55.046875 \nQ 24.21875 56 28.609375 56 \nQ 40.484375 56 46.34375 49.84375 \nQ 52.203125 43.703125 52.203125 31.203125 \nz\n\" id=\"DejaVuSans-97\"/>\n        <path d=\"M 9.078125 75.984375 \nL 18.109375 75.984375 \nL 18.109375 31.109375 \nL 44.921875 54.6875 \nL 56.390625 54.6875 \nL 27.390625 29.109375 \nL 57.625 0 \nL 45.90625 0 \nL 18.109375 26.703125 \nL 18.109375 0 \nL 9.078125 0 \nz\n\" id=\"DejaVuSans-107\"/>\n       </defs>\n       <use xlink:href=\"#DejaVuSans-119\"/>\n       <use x=\"81.787109\" xlink:href=\"#DejaVuSans-97\"/>\n       <use x=\"143.066406\" xlink:href=\"#DejaVuSans-108\"/>\n       <use x=\"170.849609\" xlink:href=\"#DejaVuSans-107\"/>\n       <use x=\"228.759766\" xlink:href=\"#DejaVuSans-105\"/>\n       <use x=\"256.542969\" xlink:href=\"#DejaVuSans-110\"/>\n       <use x=\"319.921875\" xlink:href=\"#DejaVuSans-103\"/>\n      </g>\n     </g>\n    </g>\n    <g id=\"text_4\">\n     <!-- Predicted Label -->\n     <g transform=\"translate(161.836406 252.916562)scale(0.1 -0.1)\">\n      <defs>\n       <path d=\"M 19.671875 64.796875 \nL 19.671875 37.40625 \nL 32.078125 37.40625 \nQ 38.96875 37.40625 42.71875 40.96875 \nQ 46.484375 44.53125 46.484375 51.125 \nQ 46.484375 57.671875 42.71875 61.234375 \nQ 38.96875 64.796875 32.078125 64.796875 \nz\nM 9.8125 72.90625 \nL 32.078125 72.90625 \nQ 44.34375 72.90625 50.609375 67.359375 \nQ 56.890625 61.8125 56.890625 51.125 \nQ 56.890625 40.328125 50.609375 34.8125 \nQ 44.34375 29.296875 32.078125 29.296875 \nL 19.671875 29.296875 \nL 19.671875 0 \nL 9.8125 0 \nz\n\" id=\"DejaVuSans-80\"/>\n       <path d=\"M 48.78125 52.59375 \nL 48.78125 44.1875 \nQ 44.96875 46.296875 41.140625 47.34375 \nQ 37.3125 48.390625 33.40625 48.390625 \nQ 24.65625 48.390625 19.8125 42.84375 \nQ 14.984375 37.3125 14.984375 27.296875 \nQ 14.984375 17.28125 19.8125 11.734375 \nQ 24.65625 6.203125 33.40625 6.203125 \nQ 37.3125 6.203125 41.140625 7.25 \nQ 44.96875 8.296875 48.78125 10.40625 \nL 48.78125 2.09375 \nQ 45.015625 0.34375 40.984375 -0.53125 \nQ 36.96875 -1.421875 32.421875 -1.421875 \nQ 20.0625 -1.421875 12.78125 6.34375 \nQ 5.515625 14.109375 5.515625 27.296875 \nQ 5.515625 40.671875 12.859375 48.328125 \nQ 20.21875 56 33.015625 56 \nQ 37.15625 56 41.109375 55.140625 \nQ 45.0625 54.296875 48.78125 52.59375 \nz\n\" id=\"DejaVuSans-99\"/>\n       <path d=\"M 18.3125 70.21875 \nL 18.3125 54.6875 \nL 36.8125 54.6875 \nL 36.8125 47.703125 \nL 18.3125 47.703125 \nL 18.3125 18.015625 \nQ 18.3125 11.328125 20.140625 9.421875 \nQ 21.96875 7.515625 27.59375 7.515625 \nL 36.8125 7.515625 \nL 36.8125 0 \nL 27.59375 0 \nQ 17.1875 0 13.234375 3.875 \nQ 9.28125 7.765625 9.28125 18.015625 \nL 9.28125 47.703125 \nL 2.6875 47.703125 \nL 2.6875 54.6875 \nL 9.28125 54.6875 \nL 9.28125 70.21875 \nz\n\" id=\"DejaVuSans-116\"/>\n       <path id=\"DejaVuSans-32\"/>\n       <path d=\"M 9.8125 72.90625 \nL 19.671875 72.90625 \nL 19.671875 8.296875 \nL 55.171875 8.296875 \nL 55.171875 0 \nL 9.8125 0 \nz\n\" id=\"DejaVuSans-76\"/>\n       <path d=\"M 48.6875 27.296875 \nQ 48.6875 37.203125 44.609375 42.84375 \nQ 40.53125 48.484375 33.40625 48.484375 \nQ 26.265625 48.484375 22.1875 42.84375 \nQ 18.109375 37.203125 18.109375 27.296875 \nQ 18.109375 17.390625 22.1875 11.75 \nQ 26.265625 6.109375 33.40625 6.109375 \nQ 40.53125 6.109375 44.609375 11.75 \nQ 48.6875 17.390625 48.6875 27.296875 \nz\nM 18.109375 46.390625 \nQ 20.953125 51.265625 25.265625 53.625 \nQ 29.59375 56 35.59375 56 \nQ 45.5625 56 51.78125 48.09375 \nQ 58.015625 40.1875 58.015625 27.296875 \nQ 58.015625 14.40625 51.78125 6.484375 \nQ 45.5625 -1.421875 35.59375 -1.421875 \nQ 29.59375 -1.421875 25.265625 0.953125 \nQ 20.953125 3.328125 18.109375 8.203125 \nL 18.109375 0 \nL 9.078125 0 \nL 9.078125 75.984375 \nL 18.109375 75.984375 \nz\n\" id=\"DejaVuSans-98\"/>\n      </defs>\n      <use xlink:href=\"#DejaVuSans-80\"/>\n      <use x=\"58.552734\" xlink:href=\"#DejaVuSans-114\"/>\n      <use x=\"97.416016\" xlink:href=\"#DejaVuSans-101\"/>\n      <use x=\"158.939453\" xlink:href=\"#DejaVuSans-100\"/>\n      <use x=\"222.416016\" xlink:href=\"#DejaVuSans-105\"/>\n      <use x=\"250.199219\" xlink:href=\"#DejaVuSans-99\"/>\n      <use x=\"305.179688\" xlink:href=\"#DejaVuSans-116\"/>\n      <use x=\"344.388672\" xlink:href=\"#DejaVuSans-101\"/>\n      <use x=\"405.912109\" xlink:href=\"#DejaVuSans-100\"/>\n      <use x=\"469.388672\" xlink:href=\"#DejaVuSans-32\"/>\n      <use x=\"501.175781\" xlink:href=\"#DejaVuSans-76\"/>\n      <use x=\"556.888672\" xlink:href=\"#DejaVuSans-97\"/>\n      <use x=\"618.167969\" xlink:href=\"#DejaVuSans-98\"/>\n      <use x=\"681.644531\" xlink:href=\"#DejaVuSans-101\"/>\n      <use x=\"743.167969\" xlink:href=\"#DejaVuSans-108\"/>\n     </g>\n    </g>\n   </g>\n   <g id=\"matplotlib.axis_2\">\n    <g id=\"ytick_1\">\n     <g id=\"line2d_4\">\n      <defs>\n       <path d=\"M 0 0 \nL -3.5 0 \n\" id=\"maa00badd1a\" style=\"stroke:#000000;stroke-width:0.8;\"/>\n      </defs>\n      <g>\n       <use style=\"stroke:#000000;stroke-width:0.8;\" x=\"66.465625\" xlink:href=\"#maa00badd1a\" y=\"43.44\"/>\n      </g>\n     </g>\n     <g id=\"text_5\">\n      <!-- idle -->\n      <g transform=\"translate(41.407813 47.239219)scale(0.1 -0.1)\">\n       <use xlink:href=\"#DejaVuSans-105\"/>\n       <use x=\"27.783203\" xlink:href=\"#DejaVuSans-100\"/>\n       <use x=\"91.259766\" xlink:href=\"#DejaVuSans-108\"/>\n       <use x=\"119.042969\" xlink:href=\"#DejaVuSans-101\"/>\n      </g>\n     </g>\n    </g>\n    <g id=\"ytick_2\">\n     <g id=\"line2d_5\">\n      <g>\n       <use style=\"stroke:#000000;stroke-width:0.8;\" x=\"66.465625\" xlink:href=\"#maa00badd1a\" y=\"115.92\"/>\n      </g>\n     </g>\n     <g id=\"text_6\">\n      <!-- running -->\n      <g transform=\"translate(20.878125 119.719219)scale(0.1 -0.1)\">\n       <use xlink:href=\"#DejaVuSans-114\"/>\n       <use x=\"41.113281\" xlink:href=\"#DejaVuSans-117\"/>\n       <use x=\"104.492188\" xlink:href=\"#DejaVuSans-110\"/>\n       <use x=\"167.871094\" xlink:href=\"#DejaVuSans-110\"/>\n       <use x=\"231.25\" xlink:href=\"#DejaVuSans-105\"/>\n       <use x=\"259.033203\" xlink:href=\"#DejaVuSans-110\"/>\n       <use x=\"322.412109\" xlink:href=\"#DejaVuSans-103\"/>\n      </g>\n     </g>\n    </g>\n    <g id=\"ytick_3\">\n     <g id=\"line2d_6\">\n      <g>\n       <use style=\"stroke:#000000;stroke-width:0.8;\" x=\"66.465625\" xlink:href=\"#maa00badd1a\" y=\"188.4\"/>\n      </g>\n     </g>\n     <g id=\"text_7\">\n      <!-- walking -->\n      <g transform=\"translate(21.126562 192.199219)scale(0.1 -0.1)\">\n       <use xlink:href=\"#DejaVuSans-119\"/>\n       <use x=\"81.787109\" xlink:href=\"#DejaVuSans-97\"/>\n       <use x=\"143.066406\" xlink:href=\"#DejaVuSans-108\"/>\n       <use x=\"170.849609\" xlink:href=\"#DejaVuSans-107\"/>\n       <use x=\"228.759766\" xlink:href=\"#DejaVuSans-105\"/>\n       <use x=\"256.542969\" xlink:href=\"#DejaVuSans-110\"/>\n       <use x=\"319.921875\" xlink:href=\"#DejaVuSans-103\"/>\n      </g>\n     </g>\n    </g>\n    <g id=\"text_8\">\n     <!-- True Label -->\n     <g transform=\"translate(14.798437 141.616094)rotate(-90)scale(0.1 -0.1)\">\n      <defs>\n       <path d=\"M -0.296875 72.90625 \nL 61.375 72.90625 \nL 61.375 64.59375 \nL 35.5 64.59375 \nL 35.5 0 \nL 25.59375 0 \nL 25.59375 64.59375 \nL -0.296875 64.59375 \nz\n\" id=\"DejaVuSans-84\"/>\n      </defs>\n      <use xlink:href=\"#DejaVuSans-84\"/>\n      <use x=\"46.333984\" xlink:href=\"#DejaVuSans-114\"/>\n      <use x=\"87.447266\" xlink:href=\"#DejaVuSans-117\"/>\n      <use x=\"150.826172\" xlink:href=\"#DejaVuSans-101\"/>\n      <use x=\"212.349609\" xlink:href=\"#DejaVuSans-32\"/>\n      <use x=\"244.136719\" xlink:href=\"#DejaVuSans-76\"/>\n      <use x=\"299.849609\" xlink:href=\"#DejaVuSans-97\"/>\n      <use x=\"361.128906\" xlink:href=\"#DejaVuSans-98\"/>\n      <use x=\"424.605469\" xlink:href=\"#DejaVuSans-101\"/>\n      <use x=\"486.128906\" xlink:href=\"#DejaVuSans-108\"/>\n     </g>\n    </g>\n   </g>\n   <g id=\"text_9\">\n    <!-- 0.89 -->\n    <g style=\"fill:#ffffff;\" transform=\"translate(99.972813 46.199375)scale(0.1 -0.1)\">\n     <defs>\n      <path d=\"M 31.78125 66.40625 \nQ 24.171875 66.40625 20.328125 58.90625 \nQ 16.5 51.421875 16.5 36.375 \nQ 16.5 21.390625 20.328125 13.890625 \nQ 24.171875 6.390625 31.78125 6.390625 \nQ 39.453125 6.390625 43.28125 13.890625 \nQ 47.125 21.390625 47.125 36.375 \nQ 47.125 51.421875 43.28125 58.90625 \nQ 39.453125 66.40625 31.78125 66.40625 \nz\nM 31.78125 74.21875 \nQ 44.046875 74.21875 50.515625 64.515625 \nQ 56.984375 54.828125 56.984375 36.375 \nQ 56.984375 17.96875 50.515625 8.265625 \nQ 44.046875 -1.421875 31.78125 -1.421875 \nQ 19.53125 -1.421875 13.0625 8.265625 \nQ 6.59375 17.96875 6.59375 36.375 \nQ 6.59375 54.828125 13.0625 64.515625 \nQ 19.53125 74.21875 31.78125 74.21875 \nz\n\" id=\"DejaVuSans-48\"/>\n      <path d=\"M 10.6875 12.40625 \nL 21 12.40625 \nL 21 0 \nL 10.6875 0 \nz\n\" id=\"DejaVuSans-46\"/>\n      <path d=\"M 31.78125 34.625 \nQ 24.75 34.625 20.71875 30.859375 \nQ 16.703125 27.09375 16.703125 20.515625 \nQ 16.703125 13.921875 20.71875 10.15625 \nQ 24.75 6.390625 31.78125 6.390625 \nQ 38.8125 6.390625 42.859375 10.171875 \nQ 46.921875 13.96875 46.921875 20.515625 \nQ 46.921875 27.09375 42.890625 30.859375 \nQ 38.875 34.625 31.78125 34.625 \nz\nM 21.921875 38.8125 \nQ 15.578125 40.375 12.03125 44.71875 \nQ 8.5 49.078125 8.5 55.328125 \nQ 8.5 64.0625 14.71875 69.140625 \nQ 20.953125 74.21875 31.78125 74.21875 \nQ 42.671875 74.21875 48.875 69.140625 \nQ 55.078125 64.0625 55.078125 55.328125 \nQ 55.078125 49.078125 51.53125 44.71875 \nQ 48 40.375 41.703125 38.8125 \nQ 48.828125 37.15625 52.796875 32.3125 \nQ 56.78125 27.484375 56.78125 20.515625 \nQ 56.78125 9.90625 50.3125 4.234375 \nQ 43.84375 -1.421875 31.78125 -1.421875 \nQ 19.734375 -1.421875 13.25 4.234375 \nQ 6.78125 9.90625 6.78125 20.515625 \nQ 6.78125 27.484375 10.78125 32.3125 \nQ 14.796875 37.15625 21.921875 38.8125 \nz\nM 18.3125 54.390625 \nQ 18.3125 48.734375 21.84375 45.5625 \nQ 25.390625 42.390625 31.78125 42.390625 \nQ 38.140625 42.390625 41.71875 45.5625 \nQ 45.3125 48.734375 45.3125 54.390625 \nQ 45.3125 60.0625 41.71875 63.234375 \nQ 38.140625 66.40625 31.78125 66.40625 \nQ 25.390625 66.40625 21.84375 63.234375 \nQ 18.3125 60.0625 18.3125 54.390625 \nz\n\" id=\"DejaVuSans-56\"/>\n      <path d=\"M 10.984375 1.515625 \nL 10.984375 10.5 \nQ 14.703125 8.734375 18.5 7.8125 \nQ 22.3125 6.890625 25.984375 6.890625 \nQ 35.75 6.890625 40.890625 13.453125 \nQ 46.046875 20.015625 46.78125 33.40625 \nQ 43.953125 29.203125 39.59375 26.953125 \nQ 35.25 24.703125 29.984375 24.703125 \nQ 19.046875 24.703125 12.671875 31.3125 \nQ 6.296875 37.9375 6.296875 49.421875 \nQ 6.296875 60.640625 12.9375 67.421875 \nQ 19.578125 74.21875 30.609375 74.21875 \nQ 43.265625 74.21875 49.921875 64.515625 \nQ 56.59375 54.828125 56.59375 36.375 \nQ 56.59375 19.140625 48.40625 8.859375 \nQ 40.234375 -1.421875 26.421875 -1.421875 \nQ 22.703125 -1.421875 18.890625 -0.6875 \nQ 15.09375 0.046875 10.984375 1.515625 \nz\nM 30.609375 32.421875 \nQ 37.25 32.421875 41.125 36.953125 \nQ 45.015625 41.5 45.015625 49.421875 \nQ 45.015625 57.28125 41.125 61.84375 \nQ 37.25 66.40625 30.609375 66.40625 \nQ 23.96875 66.40625 20.09375 61.84375 \nQ 16.21875 57.28125 16.21875 49.421875 \nQ 16.21875 41.5 20.09375 36.953125 \nQ 23.96875 32.421875 30.609375 32.421875 \nz\n\" id=\"DejaVuSans-57\"/>\n     </defs>\n     <use xlink:href=\"#DejaVuSans-48\"/>\n     <use x=\"63.623047\" xlink:href=\"#DejaVuSans-46\"/>\n     <use x=\"95.410156\" xlink:href=\"#DejaVuSans-56\"/>\n     <use x=\"159.033203\" xlink:href=\"#DejaVuSans-57\"/>\n    </g>\n   </g>\n   <g id=\"text_10\">\n    <!-- 0.00 -->\n    <g style=\"fill:#262626;\" transform=\"translate(189.252813 46.199375)scale(0.1 -0.1)\">\n     <use xlink:href=\"#DejaVuSans-48\"/>\n     <use x=\"63.623047\" xlink:href=\"#DejaVuSans-46\"/>\n     <use x=\"95.410156\" xlink:href=\"#DejaVuSans-48\"/>\n     <use x=\"159.033203\" xlink:href=\"#DejaVuSans-48\"/>\n    </g>\n   </g>\n   <g id=\"text_11\">\n    <!-- 0.11 -->\n    <g style=\"fill:#262626;\" transform=\"translate(278.532812 46.199375)scale(0.1 -0.1)\">\n     <defs>\n      <path d=\"M 12.40625 8.296875 \nL 28.515625 8.296875 \nL 28.515625 63.921875 \nL 10.984375 60.40625 \nL 10.984375 69.390625 \nL 28.421875 72.90625 \nL 38.28125 72.90625 \nL 38.28125 8.296875 \nL 54.390625 8.296875 \nL 54.390625 0 \nL 12.40625 0 \nz\n\" id=\"DejaVuSans-49\"/>\n     </defs>\n     <use xlink:href=\"#DejaVuSans-48\"/>\n     <use x=\"63.623047\" xlink:href=\"#DejaVuSans-46\"/>\n     <use x=\"95.410156\" xlink:href=\"#DejaVuSans-49\"/>\n     <use x=\"159.033203\" xlink:href=\"#DejaVuSans-49\"/>\n    </g>\n   </g>\n   <g id=\"text_12\">\n    <!-- 0.00 -->\n    <g style=\"fill:#262626;\" transform=\"translate(99.972813 118.679375)scale(0.1 -0.1)\">\n     <use xlink:href=\"#DejaVuSans-48\"/>\n     <use x=\"63.623047\" xlink:href=\"#DejaVuSans-46\"/>\n     <use x=\"95.410156\" xlink:href=\"#DejaVuSans-48\"/>\n     <use x=\"159.033203\" xlink:href=\"#DejaVuSans-48\"/>\n    </g>\n   </g>\n   <g id=\"text_13\">\n    <!-- 0.99 -->\n    <g style=\"fill:#ffffff;\" transform=\"translate(189.252813 118.679375)scale(0.1 -0.1)\">\n     <use xlink:href=\"#DejaVuSans-48\"/>\n     <use x=\"63.623047\" xlink:href=\"#DejaVuSans-46\"/>\n     <use x=\"95.410156\" xlink:href=\"#DejaVuSans-57\"/>\n     <use x=\"159.033203\" xlink:href=\"#DejaVuSans-57\"/>\n    </g>\n   </g>\n   <g id=\"text_14\">\n    <!-- 0.00 -->\n    <g style=\"fill:#262626;\" transform=\"translate(278.532812 118.679375)scale(0.1 -0.1)\">\n     <use xlink:href=\"#DejaVuSans-48\"/>\n     <use x=\"63.623047\" xlink:href=\"#DejaVuSans-46\"/>\n     <use x=\"95.410156\" xlink:href=\"#DejaVuSans-48\"/>\n     <use x=\"159.033203\" xlink:href=\"#DejaVuSans-48\"/>\n    </g>\n   </g>\n   <g id=\"text_15\">\n    <!-- 0.32 -->\n    <g style=\"fill:#262626;\" transform=\"translate(99.972813 191.159375)scale(0.1 -0.1)\">\n     <defs>\n      <path d=\"M 40.578125 39.3125 \nQ 47.65625 37.796875 51.625 33 \nQ 55.609375 28.21875 55.609375 21.1875 \nQ 55.609375 10.40625 48.1875 4.484375 \nQ 40.765625 -1.421875 27.09375 -1.421875 \nQ 22.515625 -1.421875 17.65625 -0.515625 \nQ 12.796875 0.390625 7.625 2.203125 \nL 7.625 11.71875 \nQ 11.71875 9.328125 16.59375 8.109375 \nQ 21.484375 6.890625 26.8125 6.890625 \nQ 36.078125 6.890625 40.9375 10.546875 \nQ 45.796875 14.203125 45.796875 21.1875 \nQ 45.796875 27.640625 41.28125 31.265625 \nQ 36.765625 34.90625 28.71875 34.90625 \nL 20.21875 34.90625 \nL 20.21875 43.015625 \nL 29.109375 43.015625 \nQ 36.375 43.015625 40.234375 45.921875 \nQ 44.09375 48.828125 44.09375 54.296875 \nQ 44.09375 59.90625 40.109375 62.90625 \nQ 36.140625 65.921875 28.71875 65.921875 \nQ 24.65625 65.921875 20.015625 65.03125 \nQ 15.375 64.15625 9.8125 62.3125 \nL 9.8125 71.09375 \nQ 15.4375 72.65625 20.34375 73.4375 \nQ 25.25 74.21875 29.59375 74.21875 \nQ 40.828125 74.21875 47.359375 69.109375 \nQ 53.90625 64.015625 53.90625 55.328125 \nQ 53.90625 49.265625 50.4375 45.09375 \nQ 46.96875 40.921875 40.578125 39.3125 \nz\n\" id=\"DejaVuSans-51\"/>\n      <path d=\"M 19.1875 8.296875 \nL 53.609375 8.296875 \nL 53.609375 0 \nL 7.328125 0 \nL 7.328125 8.296875 \nQ 12.9375 14.109375 22.625 23.890625 \nQ 32.328125 33.6875 34.8125 36.53125 \nQ 39.546875 41.84375 41.421875 45.53125 \nQ 43.3125 49.21875 43.3125 52.78125 \nQ 43.3125 58.59375 39.234375 62.25 \nQ 35.15625 65.921875 28.609375 65.921875 \nQ 23.96875 65.921875 18.8125 64.3125 \nQ 13.671875 62.703125 7.8125 59.421875 \nL 7.8125 69.390625 \nQ 13.765625 71.78125 18.9375 73 \nQ 24.125 74.21875 28.421875 74.21875 \nQ 39.75 74.21875 46.484375 68.546875 \nQ 53.21875 62.890625 53.21875 53.421875 \nQ 53.21875 48.921875 51.53125 44.890625 \nQ 49.859375 40.875 45.40625 35.40625 \nQ 44.1875 33.984375 37.640625 27.21875 \nQ 31.109375 20.453125 19.1875 8.296875 \nz\n\" id=\"DejaVuSans-50\"/>\n     </defs>\n     <use xlink:href=\"#DejaVuSans-48\"/>\n     <use x=\"63.623047\" xlink:href=\"#DejaVuSans-46\"/>\n     <use x=\"95.410156\" xlink:href=\"#DejaVuSans-51\"/>\n     <use x=\"159.033203\" xlink:href=\"#DejaVuSans-50\"/>\n    </g>\n   </g>\n   <g id=\"text_16\">\n    <!-- 0.01 -->\n    <g style=\"fill:#262626;\" transform=\"translate(189.252813 191.159375)scale(0.1 -0.1)\">\n     <use xlink:href=\"#DejaVuSans-48\"/>\n     <use x=\"63.623047\" xlink:href=\"#DejaVuSans-46\"/>\n     <use x=\"95.410156\" xlink:href=\"#DejaVuSans-48\"/>\n     <use x=\"159.033203\" xlink:href=\"#DejaVuSans-49\"/>\n    </g>\n   </g>\n   <g id=\"text_17\">\n    <!-- 0.68 -->\n    <g style=\"fill:#ffffff;\" transform=\"translate(278.532812 191.159375)scale(0.1 -0.1)\">\n     <defs>\n      <path d=\"M 33.015625 40.375 \nQ 26.375 40.375 22.484375 35.828125 \nQ 18.609375 31.296875 18.609375 23.390625 \nQ 18.609375 15.53125 22.484375 10.953125 \nQ 26.375 6.390625 33.015625 6.390625 \nQ 39.65625 6.390625 43.53125 10.953125 \nQ 47.40625 15.53125 47.40625 23.390625 \nQ 47.40625 31.296875 43.53125 35.828125 \nQ 39.65625 40.375 33.015625 40.375 \nz\nM 52.59375 71.296875 \nL 52.59375 62.3125 \nQ 48.875 64.0625 45.09375 64.984375 \nQ 41.3125 65.921875 37.59375 65.921875 \nQ 27.828125 65.921875 22.671875 59.328125 \nQ 17.53125 52.734375 16.796875 39.40625 \nQ 19.671875 43.65625 24.015625 45.921875 \nQ 28.375 48.1875 33.59375 48.1875 \nQ 44.578125 48.1875 50.953125 41.515625 \nQ 57.328125 34.859375 57.328125 23.390625 \nQ 57.328125 12.15625 50.6875 5.359375 \nQ 44.046875 -1.421875 33.015625 -1.421875 \nQ 20.359375 -1.421875 13.671875 8.265625 \nQ 6.984375 17.96875 6.984375 36.375 \nQ 6.984375 53.65625 15.1875 63.9375 \nQ 23.390625 74.21875 37.203125 74.21875 \nQ 40.921875 74.21875 44.703125 73.484375 \nQ 48.484375 72.75 52.59375 71.296875 \nz\n\" id=\"DejaVuSans-54\"/>\n     </defs>\n     <use xlink:href=\"#DejaVuSans-48\"/>\n     <use x=\"63.623047\" xlink:href=\"#DejaVuSans-46\"/>\n     <use x=\"95.410156\" xlink:href=\"#DejaVuSans-54\"/>\n     <use x=\"159.033203\" xlink:href=\"#DejaVuSans-56\"/>\n    </g>\n   </g>\n  </g>\n  <g id=\"axes_2\">\n   <g id=\"patch_3\">\n    <path clip-path=\"url(#p1e5d697763)\" d=\"M 351.045625 224.64 \nL 351.045625 223.790625 \nL 351.045625 8.049375 \nL 351.045625 7.2 \nL 361.917625 7.2 \nL 361.917625 8.049375 \nL 361.917625 223.790625 \nL 361.917625 224.64 \nz\n\" style=\"fill:#ffffff;stroke:#ffffff;stroke-linejoin:miter;stroke-width:0.01;\"/>\n   </g>\n   <image height=\"217\" id=\"image0d774445d7\" transform=\"scale(1 -1)translate(0 -217)\" width=\"11\" x=\"351\" xlink:href=\"data:image/png;base64,\niVBORw0KGgoAAAANSUhEUgAAAAsAAADZCAYAAAD2WsoCAAABHElEQVR4nO2YMQ4CMRADA8r/n0uByIYWukwxyIvuamvl2F4nutvjufc4/OYex9gxz+diMKEBsGMCLORcAH0HLEzpQhyEkwEYZgNwLk26kSEdzAbh7NHQeoPZ3bC+OvZGinRX+H9CI0Q67VWQckBkNzygdsNqDi50wAzOlZHnOh/stqjFuUBGGWezN8Dk5VWBlzrtcYKqQGxR7e5eJM9eP3sOIp0X6ALTwXOsScPLBrQ7osw9ndk9KLaot7AR0nn93DEbaLs9nc2/EKj5I3YwJBvslctoRKgBD2jRCJls2g1oeEHy7O4YpJDtZn8CxWycvxlTODNwht0h2fh/u69sfICh3YhGw8n1sia3VGNF0ECTycJedn+BO9ptTX4DblXiEVeBW/gAAAAASUVORK5CYII=\" y=\"-7\"/>\n   <g id=\"matplotlib.axis_3\"/>\n   <g id=\"matplotlib.axis_4\">\n    <g id=\"ytick_4\">\n     <g id=\"line2d_7\">\n      <defs>\n       <path d=\"M 0 0 \nL 3.5 0 \n\" id=\"m4bd02afba3\" style=\"stroke:#000000;stroke-width:0.8;\"/>\n      </defs>\n      <g>\n       <use style=\"stroke:#000000;stroke-width:0.8;\" x=\"361.917625\" xlink:href=\"#m4bd02afba3\" y=\"224.64\"/>\n      </g>\n     </g>\n     <g id=\"text_18\">\n      <!-- 0.0 -->\n      <g transform=\"translate(368.917625 228.439219)scale(0.1 -0.1)\">\n       <use xlink:href=\"#DejaVuSans-48\"/>\n       <use x=\"63.623047\" xlink:href=\"#DejaVuSans-46\"/>\n       <use x=\"95.410156\" xlink:href=\"#DejaVuSans-48\"/>\n      </g>\n     </g>\n    </g>\n    <g id=\"ytick_5\">\n     <g id=\"line2d_8\">\n      <g>\n       <use style=\"stroke:#000000;stroke-width:0.8;\" x=\"361.917625\" xlink:href=\"#m4bd02afba3\" y=\"180.870068\"/>\n      </g>\n     </g>\n     <g id=\"text_19\">\n      <!-- 0.2 -->\n      <g transform=\"translate(368.917625 184.669287)scale(0.1 -0.1)\">\n       <use xlink:href=\"#DejaVuSans-48\"/>\n       <use x=\"63.623047\" xlink:href=\"#DejaVuSans-46\"/>\n       <use x=\"95.410156\" xlink:href=\"#DejaVuSans-50\"/>\n      </g>\n     </g>\n    </g>\n    <g id=\"ytick_6\">\n     <g id=\"line2d_9\">\n      <g>\n       <use style=\"stroke:#000000;stroke-width:0.8;\" x=\"361.917625\" xlink:href=\"#m4bd02afba3\" y=\"137.100136\"/>\n      </g>\n     </g>\n     <g id=\"text_20\">\n      <!-- 0.4 -->\n      <g transform=\"translate(368.917625 140.899355)scale(0.1 -0.1)\">\n       <defs>\n        <path d=\"M 37.796875 64.3125 \nL 12.890625 25.390625 \nL 37.796875 25.390625 \nz\nM 35.203125 72.90625 \nL 47.609375 72.90625 \nL 47.609375 25.390625 \nL 58.015625 25.390625 \nL 58.015625 17.1875 \nL 47.609375 17.1875 \nL 47.609375 0 \nL 37.796875 0 \nL 37.796875 17.1875 \nL 4.890625 17.1875 \nL 4.890625 26.703125 \nz\n\" id=\"DejaVuSans-52\"/>\n       </defs>\n       <use xlink:href=\"#DejaVuSans-48\"/>\n       <use x=\"63.623047\" xlink:href=\"#DejaVuSans-46\"/>\n       <use x=\"95.410156\" xlink:href=\"#DejaVuSans-52\"/>\n      </g>\n     </g>\n    </g>\n    <g id=\"ytick_7\">\n     <g id=\"line2d_10\">\n      <g>\n       <use style=\"stroke:#000000;stroke-width:0.8;\" x=\"361.917625\" xlink:href=\"#m4bd02afba3\" y=\"93.330204\"/>\n      </g>\n     </g>\n     <g id=\"text_21\">\n      <!-- 0.6 -->\n      <g transform=\"translate(368.917625 97.129423)scale(0.1 -0.1)\">\n       <use xlink:href=\"#DejaVuSans-48\"/>\n       <use x=\"63.623047\" xlink:href=\"#DejaVuSans-46\"/>\n       <use x=\"95.410156\" xlink:href=\"#DejaVuSans-54\"/>\n      </g>\n     </g>\n    </g>\n    <g id=\"ytick_8\">\n     <g id=\"line2d_11\">\n      <g>\n       <use style=\"stroke:#000000;stroke-width:0.8;\" x=\"361.917625\" xlink:href=\"#m4bd02afba3\" y=\"49.560272\"/>\n      </g>\n     </g>\n     <g id=\"text_22\">\n      <!-- 0.8 -->\n      <g transform=\"translate(368.917625 53.359491)scale(0.1 -0.1)\">\n       <use xlink:href=\"#DejaVuSans-48\"/>\n       <use x=\"63.623047\" xlink:href=\"#DejaVuSans-46\"/>\n       <use x=\"95.410156\" xlink:href=\"#DejaVuSans-56\"/>\n      </g>\n     </g>\n    </g>\n   </g>\n   <g id=\"patch_4\">\n    <path d=\"M 351.045625 224.64 \nL 351.045625 223.790625 \nL 351.045625 8.049375 \nL 351.045625 7.2 \nL 361.917625 7.2 \nL 361.917625 8.049375 \nL 361.917625 223.790625 \nL 361.917625 224.64 \nz\n\" style=\"fill:none;\"/>\n   </g>\n  </g>\n </g>\n <defs>\n  <clipPath id=\"pc52dea4c97\">\n   <rect height=\"217.44\" width=\"267.84\" x=\"66.465625\" y=\"7.2\"/>\n  </clipPath>\n  <clipPath id=\"p1e5d697763\">\n   <rect height=\"217.44\" width=\"10.872\" x=\"351.045625\" y=\"7.2\"/>\n  </clipPath>\n </defs>\n</svg>\n",
      "image/png": "[encoded data removed]"
     },
     "metadata": {
      "needs_background": "light"
     }
    }
   ],
   "source": [
    "if not os.path.isdir(result_dir):  # For training\n",
    "    os.mkdir(result_dir)\n",
    "model.fit_and_save_model(es=False, mc=False, rlr=True, log=True)"
   ]
  },
  {
   "cell_type": "code",
   "execution_count": 12,
   "metadata": {},
   "outputs": [],
   "source": [
    "# model.plt_fig()"
   ]
  },
  {
   "cell_type": "code",
   "execution_count": null,
   "metadata": {},
   "outputs": [],
   "source": []
  }
 ]
}