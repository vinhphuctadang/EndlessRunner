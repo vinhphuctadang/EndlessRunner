{
 "metadata": {
  "language_info": {
   "codemirror_mode": {
    "name": "ipython",
    "version": 3
   },
   "file_extension": ".py",
   "mimetype": "text/x-python",
   "name": "python",
   "nbconvert_exporter": "python",
   "pygments_lexer": "ipython3",
   "version": "3.6.8"
  },
  "orig_nbformat": 2,
  "kernelspec": {
   "name": "python368jvsc74a57bd0aee8b7b246df8f9039afb4144a1f6fd8d2ca17a180786b69acc140d282b71a49",
   "display_name": "Python 3.6.8 64-bit"
  }
 },
 "nbformat": 4,
 "nbformat_minor": 2,
 "cells": [
  {
   "cell_type": "code",
   "execution_count": 1,
   "metadata": {},
   "outputs": [],
   "source": [
    "import pandas as pd\n",
    "import numpy as np\n",
    "from sklearn.metrics import pairwise_distances as distance\n",
    "import json"
   ]
  },
  {
   "cell_type": "code",
   "execution_count": 2,
   "metadata": {},
   "outputs": [
    {
     "output_type": "execute_result",
     "data": {
      "text/plain": [
       "      Unnamed: 0                                    keypoint_coords  \\\n",
       "0              0  [[88.0708345058745, 567.0632758383023], [67.65...   \n",
       "1              1  [[88.1211844587748, 568.2317661026776], [67.94...   \n",
       "2              2  [[87.42320018532003, 560.0091352301129], [65.2...   \n",
       "3              3  [[87.09073007634255, 558.0995973490052], [65.0...   \n",
       "4              4  [[85.95611217802605, 560.1184049703306], [63.4...   \n",
       "...          ...                                                ...   \n",
       "4639        4639  [[87.38426191616902, 598.3019979121322], [67.9...   \n",
       "4640        4640  [[85.4737710530779, 605.3592938891911], [66.07...   \n",
       "4641        4641  [[85.18401880179887, 603.6815861524161], [66.3...   \n",
       "4642        4642  [[82.96990909407624, 606.6128758252677], [63.9...   \n",
       "4643        4643  [[83.7336411940313, 603.1251996250476], [64.66...   \n",
       "\n",
       "                                        keypoint_scores  \n",
       "0     [0.9680561423301697, 0.8981281518936157, 0.931...  \n",
       "1     [0.9673434495925903, 0.8952115774154663, 0.935...  \n",
       "2     [0.9668492674827576, 0.9097716808319092, 0.929...  \n",
       "3     [0.9658279418945312, 0.9043384790420532, 0.920...  \n",
       "4     [0.964597225189209, 0.9063819646835327, 0.9252...  \n",
       "...                                                 ...  \n",
       "4639  [0.9794970750808716, 0.9049767255783081, 0.957...  \n",
       "4640  [0.9815788865089417, 0.9071675539016724, 0.961...  \n",
       "4641  [0.981803297996521, 0.9077886343002319, 0.9605...  \n",
       "4642  [0.9815559387207031, 0.9075049161911011, 0.963...  \n",
       "4643  [0.9820283651351929, 0.9135593175888062, 0.961...  \n",
       "\n",
       "[4644 rows x 3 columns]"
      ],
      "text/html": "<div>\n<style scoped>\n    .dataframe tbody tr th:only-of-type {\n        vertical-align: middle;\n    }\n\n    .dataframe tbody tr th {\n        vertical-align: top;\n    }\n\n    .dataframe thead th {\n        text-align: right;\n    }\n</style>\n<table border=\"1\" class=\"dataframe\">\n  <thead>\n    <tr style=\"text-align: right;\">\n      <th></th>\n      <th>Unnamed: 0</th>\n      <th>keypoint_coords</th>\n      <th>keypoint_scores</th>\n    </tr>\n  </thead>\n  <tbody>\n    <tr>\n      <th>0</th>\n      <td>0</td>\n      <td>[[88.0708345058745, 567.0632758383023], [67.65...</td>\n      <td>[0.9680561423301697, 0.8981281518936157, 0.931...</td>\n    </tr>\n    <tr>\n      <th>1</th>\n      <td>1</td>\n      <td>[[88.1211844587748, 568.2317661026776], [67.94...</td>\n      <td>[0.9673434495925903, 0.8952115774154663, 0.935...</td>\n    </tr>\n    <tr>\n      <th>2</th>\n      <td>2</td>\n      <td>[[87.42320018532003, 560.0091352301129], [65.2...</td>\n      <td>[0.9668492674827576, 0.9097716808319092, 0.929...</td>\n    </tr>\n    <tr>\n      <th>3</th>\n      <td>3</td>\n      <td>[[87.09073007634255, 558.0995973490052], [65.0...</td>\n      <td>[0.9658279418945312, 0.9043384790420532, 0.920...</td>\n    </tr>\n    <tr>\n      <th>4</th>\n      <td>4</td>\n      <td>[[85.95611217802605, 560.1184049703306], [63.4...</td>\n      <td>[0.964597225189209, 0.9063819646835327, 0.9252...</td>\n    </tr>\n    <tr>\n      <th>...</th>\n      <td>...</td>\n      <td>...</td>\n      <td>...</td>\n    </tr>\n    <tr>\n      <th>4639</th>\n      <td>4639</td>\n      <td>[[87.38426191616902, 598.3019979121322], [67.9...</td>\n      <td>[0.9794970750808716, 0.9049767255783081, 0.957...</td>\n    </tr>\n    <tr>\n      <th>4640</th>\n      <td>4640</td>\n      <td>[[85.4737710530779, 605.3592938891911], [66.07...</td>\n      <td>[0.9815788865089417, 0.9071675539016724, 0.961...</td>\n    </tr>\n    <tr>\n      <th>4641</th>\n      <td>4641</td>\n      <td>[[85.18401880179887, 603.6815861524161], [66.3...</td>\n      <td>[0.981803297996521, 0.9077886343002319, 0.9605...</td>\n    </tr>\n    <tr>\n      <th>4642</th>\n      <td>4642</td>\n      <td>[[82.96990909407624, 606.6128758252677], [63.9...</td>\n      <td>[0.9815559387207031, 0.9075049161911011, 0.963...</td>\n    </tr>\n    <tr>\n      <th>4643</th>\n      <td>4643</td>\n      <td>[[83.7336411940313, 603.1251996250476], [64.66...</td>\n      <td>[0.9820283651351929, 0.9135593175888062, 0.961...</td>\n    </tr>\n  </tbody>\n</table>\n<p>4644 rows × 3 columns</p>\n</div>"
     },
     "metadata": {},
     "execution_count": 2
    }
   ],
   "source": [
    "idle_csv = pd.read_csv(\"idle.csv\")\n",
    "idle_csv[\"keypoint_coords\"] = idle_csv[\"keypoint_coords\"].apply(lambda x : json.loads(x))\n",
    "idle_csv[\"keypoint_scores\"] = idle_csv[\"keypoint_scores\"].apply(lambda x : json.loads(x))\n",
    "idle_csv"
   ]
  },
  {
   "cell_type": "code",
   "execution_count": 3,
   "metadata": {},
   "outputs": [
    {
     "output_type": "execute_result",
     "data": {
      "text/plain": [
       "      Unnamed: 0                                    keypoint_coords  \\\n",
       "0              0  [[85.61101508351554, 589.8476900084544], [65.2...   \n",
       "1              1  [[78.72029042876927, 599.2202073436672], [68.8...   \n",
       "2              2  [[90.35759419466542, 592.8533552460751], [69.1...   \n",
       "3              3  [[90.7206899085931, 598.0353874271199], [70.74...   \n",
       "4              4  [[86.27392574749162, 594.0943535303666], [66.3...   \n",
       "...          ...                                                ...   \n",
       "4292        4292  [[76.85336813462519, 601.7763281676729], [53.4...   \n",
       "4293        4293  [[79.68760988353628, 596.3161521846965], [56.5...   \n",
       "4294        4294  [[77.44091793499162, 595.4774845252603], [56.1...   \n",
       "4295        4295  [[78.01390841998885, 597.7670254141597], [55.7...   \n",
       "4296        4296  [[70.1107629421538, 608.3684552726098], [54.32...   \n",
       "\n",
       "                                        keypoint_scores  \n",
       "0     [0.9741311073303223, 0.883027195930481, 0.9500...  \n",
       "1     [0.9039528369903564, 0.8931251764297485, 0.944...  \n",
       "2     [0.9742820262908936, 0.8754071593284607, 0.947...  \n",
       "3     [0.9754939079284668, 0.8817625045776367, 0.952...  \n",
       "4     [0.9725058078765869, 0.8799588680267334, 0.950...  \n",
       "...                                                 ...  \n",
       "4292  [0.9727711081504822, 0.81819748878479, 0.94008...  \n",
       "4293  [0.9696760773658752, 0.817590594291687, 0.9296...  \n",
       "4294  [0.968706488609314, 0.8187680244445801, 0.9344...  \n",
       "4295  [0.9672585725784302, 0.7933360934257507, 0.927...  \n",
       "4296  [0.8154701590538025, 0.8112506866455078, 0.939...  \n",
       "\n",
       "[4297 rows x 3 columns]"
      ],
      "text/html": "<div>\n<style scoped>\n    .dataframe tbody tr th:only-of-type {\n        vertical-align: middle;\n    }\n\n    .dataframe tbody tr th {\n        vertical-align: top;\n    }\n\n    .dataframe thead th {\n        text-align: right;\n    }\n</style>\n<table border=\"1\" class=\"dataframe\">\n  <thead>\n    <tr style=\"text-align: right;\">\n      <th></th>\n      <th>Unnamed: 0</th>\n      <th>keypoint_coords</th>\n      <th>keypoint_scores</th>\n    </tr>\n  </thead>\n  <tbody>\n    <tr>\n      <th>0</th>\n      <td>0</td>\n      <td>[[85.61101508351554, 589.8476900084544], [65.2...</td>\n      <td>[0.9741311073303223, 0.883027195930481, 0.9500...</td>\n    </tr>\n    <tr>\n      <th>1</th>\n      <td>1</td>\n      <td>[[78.72029042876927, 599.2202073436672], [68.8...</td>\n      <td>[0.9039528369903564, 0.8931251764297485, 0.944...</td>\n    </tr>\n    <tr>\n      <th>2</th>\n      <td>2</td>\n      <td>[[90.35759419466542, 592.8533552460751], [69.1...</td>\n      <td>[0.9742820262908936, 0.8754071593284607, 0.947...</td>\n    </tr>\n    <tr>\n      <th>3</th>\n      <td>3</td>\n      <td>[[90.7206899085931, 598.0353874271199], [70.74...</td>\n      <td>[0.9754939079284668, 0.8817625045776367, 0.952...</td>\n    </tr>\n    <tr>\n      <th>4</th>\n      <td>4</td>\n      <td>[[86.27392574749162, 594.0943535303666], [66.3...</td>\n      <td>[0.9725058078765869, 0.8799588680267334, 0.950...</td>\n    </tr>\n    <tr>\n      <th>...</th>\n      <td>...</td>\n      <td>...</td>\n      <td>...</td>\n    </tr>\n    <tr>\n      <th>4292</th>\n      <td>4292</td>\n      <td>[[76.85336813462519, 601.7763281676729], [53.4...</td>\n      <td>[0.9727711081504822, 0.81819748878479, 0.94008...</td>\n    </tr>\n    <tr>\n      <th>4293</th>\n      <td>4293</td>\n      <td>[[79.68760988353628, 596.3161521846965], [56.5...</td>\n      <td>[0.9696760773658752, 0.817590594291687, 0.9296...</td>\n    </tr>\n    <tr>\n      <th>4294</th>\n      <td>4294</td>\n      <td>[[77.44091793499162, 595.4774845252603], [56.1...</td>\n      <td>[0.968706488609314, 0.8187680244445801, 0.9344...</td>\n    </tr>\n    <tr>\n      <th>4295</th>\n      <td>4295</td>\n      <td>[[78.01390841998885, 597.7670254141597], [55.7...</td>\n      <td>[0.9672585725784302, 0.7933360934257507, 0.927...</td>\n    </tr>\n    <tr>\n      <th>4296</th>\n      <td>4296</td>\n      <td>[[70.1107629421538, 608.3684552726098], [54.32...</td>\n      <td>[0.8154701590538025, 0.8112506866455078, 0.939...</td>\n    </tr>\n  </tbody>\n</table>\n<p>4297 rows × 3 columns</p>\n</div>"
     },
     "metadata": {},
     "execution_count": 3
    }
   ],
   "source": [
    "walk_csv = pd.read_csv(\"walk.csv\")\n",
    "walk_csv[\"keypoint_coords\"] = walk_csv[\"keypoint_coords\"].apply(lambda x : list(json.loads(x)))\n",
    "walk_csv[\"keypoint_scores\"] = walk_csv[\"keypoint_scores\"].apply(lambda x : list(json.loads(x)))\n",
    "walk_csv"
   ]
  },
  {
   "cell_type": "code",
   "execution_count": 4,
   "metadata": {},
   "outputs": [
    {
     "output_type": "execute_result",
     "data": {
      "text/plain": [
       "      Unnamed: 0                                    keypoint_coords  \\\n",
       "0              0  [[65.88018805579802, 586.9535198353104], [44.7...   \n",
       "1              1  [[65.35652667020274, 592.6235006623349], [47.0...   \n",
       "2              2  [[65.11234823581393, 599.6342560396356], [47.9...   \n",
       "3              3  [[64.11398997349022, 601.7275210558357], [49.2...   \n",
       "4              4  [[74.91824158525046, 608.2257843017578], [52.3...   \n",
       "...          ...                                                ...   \n",
       "4590        4590  [[68.18273527432332, 613.7049448692193], [51.7...   \n",
       "4591        4591  [[62.8557880367853, 613.5021225880768], [49.38...   \n",
       "4592        4592  [[64.02597781831184, 615.2119659165204], [48.0...   \n",
       "4593        4593  [[64.28283185030507, 607.6645607059285], [49.2...   \n",
       "4594        4594  [[61.74778524753267, 600.1007472862632], [44.2...   \n",
       "\n",
       "                                        keypoint_scores  \n",
       "0     [0.9743970036506653, 0.9090497493743896, 0.957...  \n",
       "1     [0.9761818647384644, 0.911507785320282, 0.9643...  \n",
       "2     [0.9761375784873962, 0.9268473386764526, 0.968...  \n",
       "3     [0.9733588099479675, 0.9205583333969116, 0.965...  \n",
       "4     [0.8825468420982361, 0.9177650213241577, 0.960...  \n",
       "...                                                 ...  \n",
       "4590  [0.9771345257759094, 0.8976243734359741, 0.962...  \n",
       "4591  [0.9707121849060059, 0.8866854906082153, 0.960...  \n",
       "4592  [0.9320892095565796, 0.8085854649543762, 0.914...  \n",
       "4593  [0.9417101144790649, 0.8828681707382202, 0.927...  \n",
       "4594  [0.9435296058654785, 0.8645131587982178, 0.921...  \n",
       "\n",
       "[4595 rows x 3 columns]"
      ],
      "text/html": "<div>\n<style scoped>\n    .dataframe tbody tr th:only-of-type {\n        vertical-align: middle;\n    }\n\n    .dataframe tbody tr th {\n        vertical-align: top;\n    }\n\n    .dataframe thead th {\n        text-align: right;\n    }\n</style>\n<table border=\"1\" class=\"dataframe\">\n  <thead>\n    <tr style=\"text-align: right;\">\n      <th></th>\n      <th>Unnamed: 0</th>\n      <th>keypoint_coords</th>\n      <th>keypoint_scores</th>\n    </tr>\n  </thead>\n  <tbody>\n    <tr>\n      <th>0</th>\n      <td>0</td>\n      <td>[[65.88018805579802, 586.9535198353104], [44.7...</td>\n      <td>[0.9743970036506653, 0.9090497493743896, 0.957...</td>\n    </tr>\n    <tr>\n      <th>1</th>\n      <td>1</td>\n      <td>[[65.35652667020274, 592.6235006623349], [47.0...</td>\n      <td>[0.9761818647384644, 0.911507785320282, 0.9643...</td>\n    </tr>\n    <tr>\n      <th>2</th>\n      <td>2</td>\n      <td>[[65.11234823581393, 599.6342560396356], [47.9...</td>\n      <td>[0.9761375784873962, 0.9268473386764526, 0.968...</td>\n    </tr>\n    <tr>\n      <th>3</th>\n      <td>3</td>\n      <td>[[64.11398997349022, 601.7275210558357], [49.2...</td>\n      <td>[0.9733588099479675, 0.9205583333969116, 0.965...</td>\n    </tr>\n    <tr>\n      <th>4</th>\n      <td>4</td>\n      <td>[[74.91824158525046, 608.2257843017578], [52.3...</td>\n      <td>[0.8825468420982361, 0.9177650213241577, 0.960...</td>\n    </tr>\n    <tr>\n      <th>...</th>\n      <td>...</td>\n      <td>...</td>\n      <td>...</td>\n    </tr>\n    <tr>\n      <th>4590</th>\n      <td>4590</td>\n      <td>[[68.18273527432332, 613.7049448692193], [51.7...</td>\n      <td>[0.9771345257759094, 0.8976243734359741, 0.962...</td>\n    </tr>\n    <tr>\n      <th>4591</th>\n      <td>4591</td>\n      <td>[[62.8557880367853, 613.5021225880768], [49.38...</td>\n      <td>[0.9707121849060059, 0.8866854906082153, 0.960...</td>\n    </tr>\n    <tr>\n      <th>4592</th>\n      <td>4592</td>\n      <td>[[64.02597781831184, 615.2119659165204], [48.0...</td>\n      <td>[0.9320892095565796, 0.8085854649543762, 0.914...</td>\n    </tr>\n    <tr>\n      <th>4593</th>\n      <td>4593</td>\n      <td>[[64.28283185030507, 607.6645607059285], [49.2...</td>\n      <td>[0.9417101144790649, 0.8828681707382202, 0.927...</td>\n    </tr>\n    <tr>\n      <th>4594</th>\n      <td>4594</td>\n      <td>[[61.74778524753267, 600.1007472862632], [44.2...</td>\n      <td>[0.9435296058654785, 0.8645131587982178, 0.921...</td>\n    </tr>\n  </tbody>\n</table>\n<p>4595 rows × 3 columns</p>\n</div>"
     },
     "metadata": {},
     "execution_count": 4
    }
   ],
   "source": [
    "run_csv = pd.read_csv(\"run.csv\")\n",
    "run_csv[\"keypoint_coords\"] = run_csv[\"keypoint_coords\"].apply(lambda x : list(json.loads(x)))\n",
    "run_csv[\"keypoint_scores\"] = run_csv[\"keypoint_scores\"].apply(lambda x : list(json.loads(x)))\n",
    "run_csv"
   ]
  },
  {
   "cell_type": "code",
   "execution_count": 6,
   "metadata": {},
   "outputs": [],
   "source": [
    "def extract_feature(keypoint_scores, keypoint_coords, SCORE_THRESHOLD=0.15):\n",
    "    features = distance(keypoint_coords[0:1], keypoint_coords[1:])[0]\n",
    "    for index in range(1, len(keypoint_scores)):\n",
    "        if keypoint_scores[index] < SCORE_THRESHOLD:\n",
    "            features[index - 1] = 0\n",
    "    # normalize\n",
    "    mx = max(features)\n",
    "    mn = min(features)\n",
    "    for index in range(len(features)):\n",
    "        features[index] = (features[index] - mn) / (mx - mn)\n",
    "    return features\n",
    "\n",
    "# derives features from keypoints\n",
    "idle_csv[\"features\"] = idle_csv.apply(lambda row: extract_feature(row[\"keypoint_scores\"], row[\"keypoint_coords\"]), axis=1)\n",
    "# derives features from keypoints\n",
    "walk_csv[\"features\"] = walk_csv.apply(lambda row: extract_feature(row[\"keypoint_scores\"], row[\"keypoint_coords\"]), axis=1)\n",
    "# derives features from keypoints\n",
    "run_csv[\"features\"] = run_csv.apply(lambda row: extract_feature(row[\"keypoint_scores\"], row[\"keypoint_coords\"]), axis=1)\n"
   ]
  },
  {
   "cell_type": "code",
   "execution_count": 7,
   "metadata": {},
   "outputs": [],
   "source": [
    "# concat 3 df\n",
    "# append features and label to the numpy\n",
    "# train_x = np.concatenate(idle_csv[\"features\"], walk_csv[\"features\"], run_csv[\"features\"])\n",
    "\n",
    "# build 3-classes data\n",
    "ds_x = []\n",
    "ds_y = []\n",
    "\n",
    "for _, row in idle_csv.iterrows():\n",
    "    ds_x.append(list(row[\"features\"]))\n",
    "    ds_y.append(0)\n",
    "\n",
    "for _, row in walk_csv.iterrows():\n",
    "    ds_x.append(list(row[\"features\"]))\n",
    "    ds_y.append(1)\n",
    "\n",
    "for _, row in run_csv.iterrows():\n",
    "    ds_x.append(list(row[\"features\"]))\n",
    "    ds_y.append(2)"
   ]
  },
  {
   "cell_type": "code",
   "execution_count": 14,
   "metadata": {},
   "outputs": [],
   "source": [
    "\n",
    "from sklearn.model_selection import train_test_split\n",
    "ds_x = np.array(ds_x)\n",
    "ds_y = np.array(ds_y)\n",
    "\n",
    "selected_non_nan = ~np.isnan(ds_x).any(axis=1)\n",
    "ds_x = ds_x[selected_non_nan] # each row \n",
    "ds_y = ds_y[selected_non_nan]\n",
    "\n",
    "# train test split\n",
    "train_x, test_x, train_y, test_y = train_test_split(ds_x, ds_y, test_size = 1./3, random_state=0)\n",
    "# use random state for recover result with ease"
   ]
  },
  {
   "cell_type": "code",
   "execution_count": 15,
   "metadata": {},
   "outputs": [
    {
     "output_type": "execute_result",
     "data": {
      "text/plain": [
       "array([0, 0, 0, ..., 2, 2, 2])"
      ]
     },
     "metadata": {},
     "execution_count": 15
    }
   ],
   "source": []
  },
  {
   "cell_type": "code",
   "execution_count": 10,
   "metadata": {},
   "outputs": [
    {
     "output_type": "execute_result",
     "data": {
      "text/plain": [
       "SVC()"
      ]
     },
     "metadata": {},
     "execution_count": 10
    }
   ],
   "source": [
    "from sklearn.svm import SVC\n",
    "\n",
    "clf = SVC()\n",
    "clf.fit(train_x, train_y)"
   ]
  },
  {
   "cell_type": "code",
   "execution_count": 12,
   "metadata": {},
   "outputs": [
    {
     "output_type": "execute_result",
     "data": {
      "text/plain": [
       "array([1, 2, 2, ..., 2, 1, 0])"
      ]
     },
     "metadata": {},
     "execution_count": 12
    }
   ],
   "source": [
    "pred_y = clf.predict(test_x)\n",
    "pred_y"
   ]
  },
  {
   "cell_type": "code",
   "execution_count": 13,
   "metadata": {},
   "outputs": [
    {
     "output_type": "execute_result",
     "data": {
      "text/plain": [
       "0.9120124113475178"
      ]
     },
     "metadata": {},
     "execution_count": 13
    }
   ],
   "source": [
    "from sklearn.metrics import accuracy_score\n",
    "accuracy_score(test_y, pred_y)"
   ]
  }
 ]
}