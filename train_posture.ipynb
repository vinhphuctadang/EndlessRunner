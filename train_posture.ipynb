{
 "metadata": {
  "language_info": {
   "codemirror_mode": {
    "name": "ipython",
    "version": 3
   },
   "file_extension": ".py",
   "mimetype": "text/x-python",
   "name": "python",
   "nbconvert_exporter": "python",
   "pygments_lexer": "ipython3",
   "version": "3.6.8"
  },
  "orig_nbformat": 2,
  "kernelspec": {
   "name": "python3",
   "display_name": "Python 3.6.8 64-bit",
   "metadata": {
    "interpreter": {
     "hash": "aee8b7b246df8f9039afb4144a1f6fd8d2ca17a180786b69acc140d282b71a49"
    }
   }
  }
 },
 "nbformat": 4,
 "nbformat_minor": 2,
 "cells": [
  {
   "cell_type": "code",
   "execution_count": 108,
   "metadata": {},
   "outputs": [],
   "source": [
    "import pandas as pd\n",
    "import numpy as np\n",
    "from sklearn.metrics import pairwise_distances as distance\n",
    "import json"
   ]
  },
  {
   "cell_type": "code",
   "execution_count": 109,
   "metadata": {},
   "outputs": [
    {
     "output_type": "execute_result",
     "data": {
      "text/plain": [
       "      Unnamed: 0                                    keypoint_coords  \\\n",
       "0              0  [[41.17484540717547, 424.118377831564], [18.37...   \n",
       "1              1  [[65.42472422400186, 418.31286562686904], [31....   \n",
       "2              2  [[62.49335976534112, 408.9349744878888], [32.9...   \n",
       "3              3  [[59.07950964639353, 403.96868692060406], [35....   \n",
       "4              4  [[57.207370048345524, 397.7698863636364], [33....   \n",
       "...          ...                                                ...   \n",
       "2318        2318  [[82.09326500116393, 988.3409228165184], [12.7...   \n",
       "2319        2319  [[93.70561102933662, 986.9426278292277], [31.7...   \n",
       "2320        2320  [[78.38059891101926, 1002.6481942354777], [-5....   \n",
       "2321        2321  [[53.604439668877184, 997.8381508275082], [-13...   \n",
       "2322        2322  [[53.42090540154036, 1025.3063147147877], [-16...   \n",
       "\n",
       "                                        keypoint_scores  \n",
       "0     [0.9492308497428894, 0.9189706444740295, 0.951...  \n",
       "1     [0.960146427154541, 0.8650374412536621, 0.9544...  \n",
       "2     [0.9485349059104919, 0.8589192628860474, 0.948...  \n",
       "3     [0.9301652908325195, 0.8851189613342285, 0.948...  \n",
       "4     [0.9177314043045044, 0.8564090132713318, 0.945...  \n",
       "...                                                 ...  \n",
       "2318  [0.818300724029541, 0.3718859553337097, 0.7361...  \n",
       "2319  [0.8564101457595825, 0.5420486927032471, 0.797...  \n",
       "2320  [0.7710866928100586, 0.16072413325309753, 0.71...  \n",
       "2321  [0.760976254940033, 0.1255340278148651, 0.6220...  \n",
       "2322  [0.9089224338531494, 0.2210344672203064, 0.523...  \n",
       "\n",
       "[2323 rows x 3 columns]"
      ],
      "text/html": "<div>\n<style scoped>\n    .dataframe tbody tr th:only-of-type {\n        vertical-align: middle;\n    }\n\n    .dataframe tbody tr th {\n        vertical-align: top;\n    }\n\n    .dataframe thead th {\n        text-align: right;\n    }\n</style>\n<table border=\"1\" class=\"dataframe\">\n  <thead>\n    <tr style=\"text-align: right;\">\n      <th></th>\n      <th>Unnamed: 0</th>\n      <th>keypoint_coords</th>\n      <th>keypoint_scores</th>\n    </tr>\n  </thead>\n  <tbody>\n    <tr>\n      <th>0</th>\n      <td>0</td>\n      <td>[[41.17484540717547, 424.118377831564], [18.37...</td>\n      <td>[0.9492308497428894, 0.9189706444740295, 0.951...</td>\n    </tr>\n    <tr>\n      <th>1</th>\n      <td>1</td>\n      <td>[[65.42472422400186, 418.31286562686904], [31....</td>\n      <td>[0.960146427154541, 0.8650374412536621, 0.9544...</td>\n    </tr>\n    <tr>\n      <th>2</th>\n      <td>2</td>\n      <td>[[62.49335976534112, 408.9349744878888], [32.9...</td>\n      <td>[0.9485349059104919, 0.8589192628860474, 0.948...</td>\n    </tr>\n    <tr>\n      <th>3</th>\n      <td>3</td>\n      <td>[[59.07950964639353, 403.96868692060406], [35....</td>\n      <td>[0.9301652908325195, 0.8851189613342285, 0.948...</td>\n    </tr>\n    <tr>\n      <th>4</th>\n      <td>4</td>\n      <td>[[57.207370048345524, 397.7698863636364], [33....</td>\n      <td>[0.9177314043045044, 0.8564090132713318, 0.945...</td>\n    </tr>\n    <tr>\n      <th>...</th>\n      <td>...</td>\n      <td>...</td>\n      <td>...</td>\n    </tr>\n    <tr>\n      <th>2318</th>\n      <td>2318</td>\n      <td>[[82.09326500116393, 988.3409228165184], [12.7...</td>\n      <td>[0.818300724029541, 0.3718859553337097, 0.7361...</td>\n    </tr>\n    <tr>\n      <th>2319</th>\n      <td>2319</td>\n      <td>[[93.70561102933662, 986.9426278292277], [31.7...</td>\n      <td>[0.8564101457595825, 0.5420486927032471, 0.797...</td>\n    </tr>\n    <tr>\n      <th>2320</th>\n      <td>2320</td>\n      <td>[[78.38059891101926, 1002.6481942354777], [-5....</td>\n      <td>[0.7710866928100586, 0.16072413325309753, 0.71...</td>\n    </tr>\n    <tr>\n      <th>2321</th>\n      <td>2321</td>\n      <td>[[53.604439668877184, 997.8381508275082], [-13...</td>\n      <td>[0.760976254940033, 0.1255340278148651, 0.6220...</td>\n    </tr>\n    <tr>\n      <th>2322</th>\n      <td>2322</td>\n      <td>[[53.42090540154036, 1025.3063147147877], [-16...</td>\n      <td>[0.9089224338531494, 0.2210344672203064, 0.523...</td>\n    </tr>\n  </tbody>\n</table>\n<p>2323 rows × 3 columns</p>\n</div>"
     },
     "metadata": {},
     "execution_count": 109
    }
   ],
   "source": [
    "stand_csv = pd.read_csv(\"stand.csv\")\n",
    "stand_csv[\"keypoint_coords\"] = stand_csv[\"keypoint_coords\"].apply(lambda x : json.loads(x))\n",
    "stand_csv[\"keypoint_scores\"] = stand_csv[\"keypoint_scores\"].apply(lambda x : json.loads(x))\n",
    "stand_csv"
   ]
  },
  {
   "cell_type": "code",
   "execution_count": 110,
   "metadata": {},
   "outputs": [
    {
     "output_type": "execute_result",
     "data": {
      "text/plain": [
       "      Unnamed: 0                                    keypoint_coords  \\\n",
       "0              0  [[179.8922788043355, 626.91329737029], [171.97...   \n",
       "1              1  [[201.41093785263772, 617.0603745747982], [185...   \n",
       "2              2  [[215.5135328437007, 609.2460128565154], [198....   \n",
       "3              3  [[238.0826816558838, 614.4344318882701], [219....   \n",
       "4              4  [[246.39222340251123, 615.9106883363861], [226...   \n",
       "...          ...                                                ...   \n",
       "1795        1795  [[439.6655964740487, 694.0105106043474], [416....   \n",
       "1796        1796  [[438.34243146763293, 696.7001079942621], [416...   \n",
       "1797        1797  [[442.92277307288595, 702.4441615930584], [419...   \n",
       "1798        1798  [[444.2876731739488, 698.6436338287791], [419....   \n",
       "1799        1799  [[442.9594818159591, 696.9124606921912], [418....   \n",
       "\n",
       "                                        keypoint_scores  \n",
       "0     [0.9750418663024902, 0.9369086027145386, 0.767...  \n",
       "1     [0.9682409763336182, 0.9340900182723999, 0.962...  \n",
       "2     [0.9566459655761719, 0.9162812232971191, 0.944...  \n",
       "3     [0.9483922719955444, 0.8992764949798584, 0.933...  \n",
       "4     [0.9549083709716797, 0.9076463580131531, 0.941...  \n",
       "...                                                 ...  \n",
       "1795  [0.949302613735199, 0.8536398410797119, 0.9496...  \n",
       "1796  [0.9452518224716187, 0.8464301824569702, 0.947...  \n",
       "1797  [0.9377988576889038, 0.8237844705581665, 0.945...  \n",
       "1798  [0.9339144229888916, 0.8247878551483154, 0.939...  \n",
       "1799  [0.9310774803161621, 0.8147948980331421, 0.935...  \n",
       "\n",
       "[1800 rows x 3 columns]"
      ],
      "text/html": "<div>\n<style scoped>\n    .dataframe tbody tr th:only-of-type {\n        vertical-align: middle;\n    }\n\n    .dataframe tbody tr th {\n        vertical-align: top;\n    }\n\n    .dataframe thead th {\n        text-align: right;\n    }\n</style>\n<table border=\"1\" class=\"dataframe\">\n  <thead>\n    <tr style=\"text-align: right;\">\n      <th></th>\n      <th>Unnamed: 0</th>\n      <th>keypoint_coords</th>\n      <th>keypoint_scores</th>\n    </tr>\n  </thead>\n  <tbody>\n    <tr>\n      <th>0</th>\n      <td>0</td>\n      <td>[[179.8922788043355, 626.91329737029], [171.97...</td>\n      <td>[0.9750418663024902, 0.9369086027145386, 0.767...</td>\n    </tr>\n    <tr>\n      <th>1</th>\n      <td>1</td>\n      <td>[[201.41093785263772, 617.0603745747982], [185...</td>\n      <td>[0.9682409763336182, 0.9340900182723999, 0.962...</td>\n    </tr>\n    <tr>\n      <th>2</th>\n      <td>2</td>\n      <td>[[215.5135328437007, 609.2460128565154], [198....</td>\n      <td>[0.9566459655761719, 0.9162812232971191, 0.944...</td>\n    </tr>\n    <tr>\n      <th>3</th>\n      <td>3</td>\n      <td>[[238.0826816558838, 614.4344318882701], [219....</td>\n      <td>[0.9483922719955444, 0.8992764949798584, 0.933...</td>\n    </tr>\n    <tr>\n      <th>4</th>\n      <td>4</td>\n      <td>[[246.39222340251123, 615.9106883363861], [226...</td>\n      <td>[0.9549083709716797, 0.9076463580131531, 0.941...</td>\n    </tr>\n    <tr>\n      <th>...</th>\n      <td>...</td>\n      <td>...</td>\n      <td>...</td>\n    </tr>\n    <tr>\n      <th>1795</th>\n      <td>1795</td>\n      <td>[[439.6655964740487, 694.0105106043474], [416....</td>\n      <td>[0.949302613735199, 0.8536398410797119, 0.9496...</td>\n    </tr>\n    <tr>\n      <th>1796</th>\n      <td>1796</td>\n      <td>[[438.34243146763293, 696.7001079942621], [416...</td>\n      <td>[0.9452518224716187, 0.8464301824569702, 0.947...</td>\n    </tr>\n    <tr>\n      <th>1797</th>\n      <td>1797</td>\n      <td>[[442.92277307288595, 702.4441615930584], [419...</td>\n      <td>[0.9377988576889038, 0.8237844705581665, 0.945...</td>\n    </tr>\n    <tr>\n      <th>1798</th>\n      <td>1798</td>\n      <td>[[444.2876731739488, 698.6436338287791], [419....</td>\n      <td>[0.9339144229888916, 0.8247878551483154, 0.939...</td>\n    </tr>\n    <tr>\n      <th>1799</th>\n      <td>1799</td>\n      <td>[[442.9594818159591, 696.9124606921912], [418....</td>\n      <td>[0.9310774803161621, 0.8147948980331421, 0.935...</td>\n    </tr>\n  </tbody>\n</table>\n<p>1800 rows × 3 columns</p>\n</div>"
     },
     "metadata": {},
     "execution_count": 110
    }
   ],
   "source": [
    "crunch_csv = pd.read_csv(\"crunch.csv\")\n",
    "crunch_csv[\"keypoint_coords\"] = crunch_csv[\"keypoint_coords\"].apply(lambda x : list(json.loads(x)))\n",
    "crunch_csv[\"keypoint_scores\"] = crunch_csv[\"keypoint_scores\"].apply(lambda x : list(json.loads(x)))\n",
    "crunch_csv"
   ]
  },
  {
   "cell_type": "code",
   "execution_count": 112,
   "metadata": {},
   "outputs": [
    {
     "output_type": "stream",
     "name": "stderr",
     "text": [
      "/Users/tadangvinhphuc/Library/Python/3.6/lib/python/site-packages/ipykernel_launcher.py:7: RuntimeWarning: invalid value encountered in double_scalars\n  import sys\n"
     ]
    }
   ],
   "source": [
    "def extract_feature(keypoint_coords):\n",
    "    features = distance(keypoint_coords[0:1], keypoint_coords[1:])[0]\n",
    "    # normalize\n",
    "    mx = max(features)\n",
    "    mn = min(features)\n",
    "    for index in range(len(features)):\n",
    "        features[index] = (features[index] - mn) / (mx-mn)\n",
    "    return features\n",
    "\n",
    "# derives features from keypoints\n",
    "stand_csv[\"features\"] = stand_csv.apply(lambda row: extract_feature(row[\"keypoint_coords\"]), axis=1)\n",
    "# derives features from keypoints\n",
    "crunch_csv[\"features\"] = crunch_csv.apply(lambda row: extract_feature(row[\"keypoint_coords\"]), axis=1)\n"
   ]
  },
  {
   "cell_type": "code",
   "execution_count": 113,
   "metadata": {},
   "outputs": [],
   "source": [
    "# concat 2 df\n",
    "# append features and label to the numpy\n",
    "# train_x = np.concatenate(stand_csv[\"features\"], crunch_csv[\"features\"])\n",
    "\n",
    "# build 2-classes data\n",
    "ds_x = []\n",
    "ds_y = []\n",
    "for _, row in stand_csv.iterrows():\n",
    "    ds_x.append(list(row[\"features\"]))\n",
    "    ds_y.append(0)\n",
    "for _, row in crunch_csv.iterrows():\n",
    "    ds_x.append(list(row[\"features\"]))\n",
    "    ds_y.append(1)"
   ]
  },
  {
   "cell_type": "code",
   "execution_count": 114,
   "metadata": {},
   "outputs": [],
   "source": [
    "# Remove NaN rows\n",
    "# NaN happens when very distances are zeroes, just because of normalization\n",
    "from sklearn.model_selection import train_test_split\n",
    "ds_x = np.array(ds_x)\n",
    "ds_y = np.array(ds_y)\n",
    "\n",
    "selected_non_nan = ~np.isnan(ds_x).any(axis=1)\n",
    "ds_x = ds_x[selected_non_nan]\n",
    "ds_y = ds_y[selected_non_nan]"
   ]
  },
  {
   "cell_type": "code",
   "execution_count": 116,
   "metadata": {},
   "outputs": [],
   "source": [
    "from sklearn.svm import SVC\n",
    "def new_model():\n",
    "    return SVC(C=1000, coef0=0.01)"
   ]
  },
  {
   "cell_type": "code",
   "execution_count": 117,
   "metadata": {},
   "outputs": [
    {
     "output_type": "stream",
     "name": "stdout",
     "text": [
      "Evaluating 1-th\n",
      "accuracy : 99.52%\n",
      "precision: 100.00%\n",
      "recall   : 98.88%\n",
      "f1       : 99.44%\n",
      "=====\n",
      "Evaluating 2-th\n",
      "accuracy : 100.00%\n",
      "precision: 100.00%\n",
      "recall   : 100.00%\n",
      "f1       : 100.00%\n",
      "=====\n",
      "Evaluating 3-th\n",
      "accuracy : 99.76%\n",
      "precision: 100.00%\n",
      "recall   : 99.41%\n",
      "f1       : 99.70%\n",
      "=====\n",
      "Evaluating 4-th\n",
      "accuracy : 98.79%\n",
      "precision: 98.82%\n",
      "recall   : 98.24%\n",
      "f1       : 98.53%\n",
      "=====\n",
      "Evaluating 5-th\n",
      "accuracy : 100.00%\n",
      "precision: 100.00%\n",
      "recall   : 100.00%\n",
      "f1       : 100.00%\n",
      "=====\n",
      "Evaluating 6-th\n",
      "accuracy : 99.76%\n",
      "precision: 100.00%\n",
      "recall   : 99.44%\n",
      "f1       : 99.72%\n",
      "=====\n",
      "Evaluating 7-th\n",
      "accuracy : 99.27%\n",
      "precision: 98.92%\n",
      "recall   : 99.46%\n",
      "f1       : 99.19%\n",
      "=====\n",
      "Evaluating 8-th\n",
      "accuracy : 99.51%\n",
      "precision: 98.94%\n",
      "recall   : 100.00%\n",
      "f1       : 99.47%\n",
      "=====\n",
      "Evaluating 9-th\n",
      "accuracy : 99.51%\n",
      "precision: 98.74%\n",
      "recall   : 100.00%\n",
      "f1       : 99.37%\n",
      "=====\n",
      "Evaluating 10-th\n",
      "accuracy : 99.76%\n",
      "precision: 100.00%\n",
      "recall   : 99.47%\n",
      "f1       : 99.73%\n",
      "=====\n",
      "Avg acc: 99.59\n"
     ]
    }
   ],
   "source": [
    "from sklearn.model_selection import KFold \n",
    "from sklearn.metrics import accuracy_score, precision_score, recall_score\n",
    "\n",
    "sum_acc = 0\n",
    "\n",
    "kf = KFold(n_splits=10, shuffle=True)\n",
    "\n",
    "count = 0\n",
    "for train_index, test_index in kf.split(ds_x):\n",
    "    count += 1\n",
    "    print(\"Evaluating %d-th\" % count)\n",
    "    clf = new_model()\n",
    "    train_x, test_x, train_y, test_y = ds_x[train_index], ds_x[test_index], ds_y[train_index], ds_y[test_index]\n",
    "    clf.fit(train_x, train_y)\n",
    "    # evaluate model\n",
    "    pred_y = clf.predict(test_x)\n",
    "    acc = accuracy_score(test_y, pred_y)*100\n",
    "    precision = precision_score(test_y, pred_y) *100\n",
    "    recall = recall_score(test_y, pred_y)*100\n",
    "    f1 = 2*precision*recall/(precision + recall)\n",
    "    sum_acc += acc\n",
    "    print(\"accuracy : %.2f%%\" % acc)\n",
    "    print(\"precision: %.2f%%\" % precision)\n",
    "    print(\"recall   : %.2f%%\" % recall)\n",
    "    print(\"f1       : %.2f%%\" % f1)\n",
    "    print(\"=====\")\n",
    "\n",
    "print(\"Avg acc: %.2f\" % (sum_acc / kf.n_splits))"
   ]
  },
  {
   "cell_type": "code",
   "execution_count": 118,
   "metadata": {},
   "outputs": [
    {
     "output_type": "execute_result",
     "data": {
      "text/plain": [
       "SVC(C=1000, coef0=0.01)"
      ]
     },
     "metadata": {},
     "execution_count": 118
    }
   ],
   "source": [
    "# train for product-ready model\n",
    "clf = new_model()\n",
    "clf.fit(ds_x, ds_y)"
   ]
  },
  {
   "cell_type": "code",
   "execution_count": 120,
   "metadata": {},
   "outputs": [],
   "source": [
    "# output model\n",
    "import pickle\n",
    "file_name = 'stand_crunch.model'\n",
    "with open(file_name, 'wb') as f:\n",
    "    pickle.dump(clf, f)"
   ]
  }
 ]
}