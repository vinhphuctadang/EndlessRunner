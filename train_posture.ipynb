{
 "metadata": {
  "language_info": {
   "codemirror_mode": {
    "name": "ipython",
    "version": 3
   },
   "file_extension": ".py",
   "mimetype": "text/x-python",
   "name": "python",
   "nbconvert_exporter": "python",
   "pygments_lexer": "ipython3",
   "version": "3.6.8"
  },
  "orig_nbformat": 2,
  "kernelspec": {
   "name": "python3",
   "display_name": "Python 3.6.8 64-bit",
   "metadata": {
    "interpreter": {
     "hash": "aee8b7b246df8f9039afb4144a1f6fd8d2ca17a180786b69acc140d282b71a49"
    }
   }
  }
 },
 "nbformat": 4,
 "nbformat_minor": 2,
 "cells": [
  {
   "cell_type": "code",
   "execution_count": 26,
   "metadata": {},
   "outputs": [],
   "source": [
    "import pandas as pd\n",
    "import numpy as np\n",
    "from sklearn.metrics import pairwise_distances as distance\n",
    "import json"
   ]
  },
  {
   "cell_type": "code",
   "execution_count": 97,
   "metadata": {},
   "outputs": [
    {
     "output_type": "execute_result",
     "data": {
      "text/plain": [
       "      Unnamed: 0                                    keypoint_coords  \\\n",
       "0              0  [[41.17484540717547, 424.118377831564], [18.37...   \n",
       "1              1  [[65.42472422400186, 418.31286562686904], [31....   \n",
       "2              2  [[62.49335976534112, 408.9349744878888], [32.9...   \n",
       "3              3  [[59.07950964639353, 403.96868692060406], [35....   \n",
       "4              4  [[57.207370048345524, 397.7698863636364], [33....   \n",
       "...          ...                                                ...   \n",
       "2318        2318  [[82.09326500116393, 988.3409228165184], [12.7...   \n",
       "2319        2319  [[93.70561102933662, 986.9426278292277], [31.7...   \n",
       "2320        2320  [[78.38059891101926, 1002.6481942354777], [-5....   \n",
       "2321        2321  [[53.604439668877184, 997.8381508275082], [-13...   \n",
       "2322        2322  [[53.42090540154036, 1025.3063147147877], [-16...   \n",
       "\n",
       "                                        keypoint_scores  \n",
       "0     [0.9492308497428894, 0.9189706444740295, 0.951...  \n",
       "1     [0.960146427154541, 0.8650374412536621, 0.9544...  \n",
       "2     [0.9485349059104919, 0.8589192628860474, 0.948...  \n",
       "3     [0.9301652908325195, 0.8851189613342285, 0.948...  \n",
       "4     [0.9177314043045044, 0.8564090132713318, 0.945...  \n",
       "...                                                 ...  \n",
       "2318  [0.818300724029541, 0.3718859553337097, 0.7361...  \n",
       "2319  [0.8564101457595825, 0.5420486927032471, 0.797...  \n",
       "2320  [0.7710866928100586, 0.16072413325309753, 0.71...  \n",
       "2321  [0.760976254940033, 0.1255340278148651, 0.6220...  \n",
       "2322  [0.9089224338531494, 0.2210344672203064, 0.523...  \n",
       "\n",
       "[2323 rows x 3 columns]"
      ],
      "text/html": "<div>\n<style scoped>\n    .dataframe tbody tr th:only-of-type {\n        vertical-align: middle;\n    }\n\n    .dataframe tbody tr th {\n        vertical-align: top;\n    }\n\n    .dataframe thead th {\n        text-align: right;\n    }\n</style>\n<table border=\"1\" class=\"dataframe\">\n  <thead>\n    <tr style=\"text-align: right;\">\n      <th></th>\n      <th>Unnamed: 0</th>\n      <th>keypoint_coords</th>\n      <th>keypoint_scores</th>\n    </tr>\n  </thead>\n  <tbody>\n    <tr>\n      <th>0</th>\n      <td>0</td>\n      <td>[[41.17484540717547, 424.118377831564], [18.37...</td>\n      <td>[0.9492308497428894, 0.9189706444740295, 0.951...</td>\n    </tr>\n    <tr>\n      <th>1</th>\n      <td>1</td>\n      <td>[[65.42472422400186, 418.31286562686904], [31....</td>\n      <td>[0.960146427154541, 0.8650374412536621, 0.9544...</td>\n    </tr>\n    <tr>\n      <th>2</th>\n      <td>2</td>\n      <td>[[62.49335976534112, 408.9349744878888], [32.9...</td>\n      <td>[0.9485349059104919, 0.8589192628860474, 0.948...</td>\n    </tr>\n    <tr>\n      <th>3</th>\n      <td>3</td>\n      <td>[[59.07950964639353, 403.96868692060406], [35....</td>\n      <td>[0.9301652908325195, 0.8851189613342285, 0.948...</td>\n    </tr>\n    <tr>\n      <th>4</th>\n      <td>4</td>\n      <td>[[57.207370048345524, 397.7698863636364], [33....</td>\n      <td>[0.9177314043045044, 0.8564090132713318, 0.945...</td>\n    </tr>\n    <tr>\n      <th>...</th>\n      <td>...</td>\n      <td>...</td>\n      <td>...</td>\n    </tr>\n    <tr>\n      <th>2318</th>\n      <td>2318</td>\n      <td>[[82.09326500116393, 988.3409228165184], [12.7...</td>\n      <td>[0.818300724029541, 0.3718859553337097, 0.7361...</td>\n    </tr>\n    <tr>\n      <th>2319</th>\n      <td>2319</td>\n      <td>[[93.70561102933662, 986.9426278292277], [31.7...</td>\n      <td>[0.8564101457595825, 0.5420486927032471, 0.797...</td>\n    </tr>\n    <tr>\n      <th>2320</th>\n      <td>2320</td>\n      <td>[[78.38059891101926, 1002.6481942354777], [-5....</td>\n      <td>[0.7710866928100586, 0.16072413325309753, 0.71...</td>\n    </tr>\n    <tr>\n      <th>2321</th>\n      <td>2321</td>\n      <td>[[53.604439668877184, 997.8381508275082], [-13...</td>\n      <td>[0.760976254940033, 0.1255340278148651, 0.6220...</td>\n    </tr>\n    <tr>\n      <th>2322</th>\n      <td>2322</td>\n      <td>[[53.42090540154036, 1025.3063147147877], [-16...</td>\n      <td>[0.9089224338531494, 0.2210344672203064, 0.523...</td>\n    </tr>\n  </tbody>\n</table>\n<p>2323 rows × 3 columns</p>\n</div>"
     },
     "metadata": {},
     "execution_count": 97
    }
   ],
   "source": [
    "stand_csv = pd.read_csv(\"stand.csv\")\n",
    "stand_csv[\"keypoint_coords\"] = stand_csv[\"keypoint_coords\"].apply(lambda x : json.loads(x))\n",
    "stand_csv[\"keypoint_scores\"] = stand_csv[\"keypoint_scores\"].apply(lambda x : json.loads(x))\n",
    "stand_csv"
   ]
  },
  {
   "cell_type": "code",
   "execution_count": 98,
   "metadata": {},
   "outputs": [
    {
     "output_type": "execute_result",
     "data": {
      "text/plain": [
       "      Unnamed: 0                                    keypoint_coords  \\\n",
       "0              0  [[81.94267601190612, 416.8615109384345], [38.4...   \n",
       "1              1  [[74.69318425378134, 413.80083586040297], [37....   \n",
       "2              2  [[78.44337791620299, 403.7170512368234], [36.5...   \n",
       "3              3  [[81.32825807083485, 397.2836044530549], [36.7...   \n",
       "4              4  [[78.80350529870321, 398.26694470273253], [40....   \n",
       "...          ...                                                ...   \n",
       "4352        4352  [[15.047931338465492, 746.429168847189], [-43....   \n",
       "4353        4353  [[14.062564872031988, 732.8876228880084], [-56...   \n",
       "4354        4354  [[13.013681666795598, 732.6332961087021], [-52...   \n",
       "4355        4355  [[-8.970345574756001, 731.7963376569976], [-58...   \n",
       "4356        4356  [[-4.422076485877813, 725.6444786838367], [-56...   \n",
       "\n",
       "                                        keypoint_scores  \n",
       "0     [0.9523769617080688, 0.8400066494941711, 0.952...  \n",
       "1     [0.9642161130905151, 0.8565571308135986, 0.964...  \n",
       "2     [0.9657862186431885, 0.8683214783668518, 0.960...  \n",
       "3     [0.9633383750915527, 0.874426007270813, 0.9602...  \n",
       "4     [0.9723122119903564, 0.8743901252746582, 0.966...  \n",
       "...                                                 ...  \n",
       "4352  [0.27085429430007935, 0.2919919788837433, 0.30...  \n",
       "4353  [0.30790072679519653, 0.3133243918418884, 0.36...  \n",
       "4354  [0.4788801670074463, 0.5108022093772888, 0.330...  \n",
       "4355  [0.4029550552368164, 0.46766090393066406, 0.29...  \n",
       "4356  [0.5077993273735046, 0.5380295515060425, 0.508...  \n",
       "\n",
       "[4357 rows x 3 columns]"
      ],
      "text/html": "<div>\n<style scoped>\n    .dataframe tbody tr th:only-of-type {\n        vertical-align: middle;\n    }\n\n    .dataframe tbody tr th {\n        vertical-align: top;\n    }\n\n    .dataframe thead th {\n        text-align: right;\n    }\n</style>\n<table border=\"1\" class=\"dataframe\">\n  <thead>\n    <tr style=\"text-align: right;\">\n      <th></th>\n      <th>Unnamed: 0</th>\n      <th>keypoint_coords</th>\n      <th>keypoint_scores</th>\n    </tr>\n  </thead>\n  <tbody>\n    <tr>\n      <th>0</th>\n      <td>0</td>\n      <td>[[81.94267601190612, 416.8615109384345], [38.4...</td>\n      <td>[0.9523769617080688, 0.8400066494941711, 0.952...</td>\n    </tr>\n    <tr>\n      <th>1</th>\n      <td>1</td>\n      <td>[[74.69318425378134, 413.80083586040297], [37....</td>\n      <td>[0.9642161130905151, 0.8565571308135986, 0.964...</td>\n    </tr>\n    <tr>\n      <th>2</th>\n      <td>2</td>\n      <td>[[78.44337791620299, 403.7170512368234], [36.5...</td>\n      <td>[0.9657862186431885, 0.8683214783668518, 0.960...</td>\n    </tr>\n    <tr>\n      <th>3</th>\n      <td>3</td>\n      <td>[[81.32825807083485, 397.2836044530549], [36.7...</td>\n      <td>[0.9633383750915527, 0.874426007270813, 0.9602...</td>\n    </tr>\n    <tr>\n      <th>4</th>\n      <td>4</td>\n      <td>[[78.80350529870321, 398.26694470273253], [40....</td>\n      <td>[0.9723122119903564, 0.8743901252746582, 0.966...</td>\n    </tr>\n    <tr>\n      <th>...</th>\n      <td>...</td>\n      <td>...</td>\n      <td>...</td>\n    </tr>\n    <tr>\n      <th>4352</th>\n      <td>4352</td>\n      <td>[[15.047931338465492, 746.429168847189], [-43....</td>\n      <td>[0.27085429430007935, 0.2919919788837433, 0.30...</td>\n    </tr>\n    <tr>\n      <th>4353</th>\n      <td>4353</td>\n      <td>[[14.062564872031988, 732.8876228880084], [-56...</td>\n      <td>[0.30790072679519653, 0.3133243918418884, 0.36...</td>\n    </tr>\n    <tr>\n      <th>4354</th>\n      <td>4354</td>\n      <td>[[13.013681666795598, 732.6332961087021], [-52...</td>\n      <td>[0.4788801670074463, 0.5108022093772888, 0.330...</td>\n    </tr>\n    <tr>\n      <th>4355</th>\n      <td>4355</td>\n      <td>[[-8.970345574756001, 731.7963376569976], [-58...</td>\n      <td>[0.4029550552368164, 0.46766090393066406, 0.29...</td>\n    </tr>\n    <tr>\n      <th>4356</th>\n      <td>4356</td>\n      <td>[[-4.422076485877813, 725.6444786838367], [-56...</td>\n      <td>[0.5077993273735046, 0.5380295515060425, 0.508...</td>\n    </tr>\n  </tbody>\n</table>\n<p>4357 rows × 3 columns</p>\n</div>"
     },
     "metadata": {},
     "execution_count": 98
    }
   ],
   "source": [
    "crunch_csv = pd.read_csv(\"crunch.csv\")\n",
    "crunch_csv[\"keypoint_coords\"] = crunch_csv[\"keypoint_coords\"].apply(lambda x : list(json.loads(x)))\n",
    "crunch_csv[\"keypoint_scores\"] = crunch_csv[\"keypoint_scores\"].apply(lambda x : list(json.loads(x)))\n",
    "crunch_csv"
   ]
  },
  {
   "cell_type": "code",
   "execution_count": 99,
   "metadata": {},
   "outputs": [
    {
     "output_type": "stream",
     "name": "stderr",
     "text": [
      "/Users/tadangvinhphuc/Library/Python/3.6/lib/python/site-packages/ipykernel_launcher.py:9: RuntimeWarning: invalid value encountered in double_scalars\n  if __name__ == '__main__':\n/Users/tadangvinhphuc/Library/Python/3.6/lib/python/site-packages/ipykernel_launcher.py:9: RuntimeWarning: invalid value encountered in double_scalars\n  if __name__ == '__main__':\n"
     ]
    }
   ],
   "source": [
    "def extract_feature(keypoint_scores, keypoint_coords, SCORE_THRESHOLD=0.15):\n",
    "    features = distance(keypoint_coords[0:1], keypoint_coords[1:])[0]\n",
    "    for index in range(1, len(keypoint_scores)):\n",
    "        if keypoint_scores[index] < SCORE_THRESHOLD:\n",
    "            features[index - 1] = 0\n",
    "    # normalize\n",
    "    mx = max(features)\n",
    "    for index in range(len(features)):\n",
    "        features[index] = features[index] / mx\n",
    "    return features\n",
    "\n",
    "# derives features from keypoints\n",
    "stand_csv[\"features\"] = stand_csv.apply(lambda row: extract_feature(row[\"keypoint_scores\"], row[\"keypoint_coords\"]), axis=1)\n",
    "# derives features from keypoints\n",
    "crunch_csv[\"features\"] = crunch_csv.apply(lambda row: extract_feature(row[\"keypoint_scores\"], row[\"keypoint_coords\"]), axis=1)\n"
   ]
  },
  {
   "cell_type": "code",
   "execution_count": 102,
   "metadata": {},
   "outputs": [],
   "source": [
    "# concat 2 df\n",
    "# append features and label to the numpy\n",
    "# train_x = np.concatenate(stand_csv[\"features\"], crunch_csv[\"features\"])\n",
    "\n",
    "# build 2-classes data\n",
    "ds_x = []\n",
    "ds_y = []\n",
    "for _, row in stand_csv.iterrows():\n",
    "    ds_x.append(list(row[\"features\"]))\n",
    "    ds_y.append(0)\n",
    "for _, row in crunch_csv.iterrows():\n",
    "    ds_x.append(list(row[\"features\"]))\n",
    "    ds_y.append(1)"
   ]
  },
  {
   "cell_type": "code",
   "execution_count": 103,
   "metadata": {},
   "outputs": [],
   "source": [
    "\n",
    "from sklearn.model_selection import train_test_split\n",
    "ds_x = np.array(ds_x)\n",
    "ds_y = np.array(ds_y)\n",
    "\n",
    "# train test split\n",
    "train_x, test_x, train_y, test_y = train_test_split(ds_x, ds_y, test_size = 1/3, random_state=0) # use random state for recover result with ease"
   ]
  },
  {
   "cell_type": "code",
   "execution_count": 121,
   "metadata": {},
   "outputs": [],
   "source": [
    "# preprocess NaN values\n",
    "selected_non_nan = ~np.isnan(train_x).any(axis=1)\n",
    "train_x = train_x[selected_non_nan] # each row \n",
    "train_y = train_y[selected_non_nan]"
   ]
  },
  {
   "cell_type": "code",
   "execution_count": 122,
   "metadata": {},
   "outputs": [
    {
     "output_type": "execute_result",
     "data": {
      "text/plain": [
       "SVC()"
      ]
     },
     "metadata": {},
     "execution_count": 122
    }
   ],
   "source": [
    "from sklearn.svm import SVC\n",
    "\n",
    "clf = SVC()\n",
    "clf.fit(train_x, train_y)"
   ]
  },
  {
   "cell_type": "code",
   "execution_count": 124,
   "metadata": {},
   "outputs": [],
   "source": [
    "selected_non_nan = ~np.isnan(test_x).any(axis=1)\n",
    "test_x = test_x[selected_non_nan] # each row \n",
    "test_y = test_y[selected_non_nan]"
   ]
  },
  {
   "cell_type": "code",
   "execution_count": 128,
   "metadata": {},
   "outputs": [
    {
     "output_type": "execute_result",
     "data": {
      "text/plain": [
       "array([1, 1, 1, ..., 1, 1, 1])"
      ]
     },
     "metadata": {},
     "execution_count": 128
    }
   ],
   "source": [
    "pred_y = clf.predict(test_x)\n",
    "pred_y"
   ]
  },
  {
   "cell_type": "code",
   "execution_count": 127,
   "metadata": {},
   "outputs": [
    {
     "output_type": "execute_result",
     "data": {
      "text/plain": [
       "(array([0, 1]), array([ 156, 2070]))"
      ]
     },
     "metadata": {},
     "execution_count": 127
    }
   ],
   "source": [
    "from sklearn.metrics import accuracy_score\n",
    "accuracy_score(test_y, pred_y)"
   ]
  }
 ]
}