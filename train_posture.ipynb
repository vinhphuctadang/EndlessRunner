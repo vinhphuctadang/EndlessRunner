{
 "metadata": {
  "language_info": {
   "codemirror_mode": {
    "name": "ipython",
    "version": 3
   },
   "file_extension": ".py",
   "mimetype": "text/x-python",
   "name": "python",
   "nbconvert_exporter": "python",
   "pygments_lexer": "ipython3",
   "version": "3.6.8"
  },
  "orig_nbformat": 2,
  "kernelspec": {
   "name": "python368jvsc74a57bd0aee8b7b246df8f9039afb4144a1f6fd8d2ca17a180786b69acc140d282b71a49",
   "display_name": "Python 3.6.8 64-bit"
  }
 },
 "nbformat": 4,
 "nbformat_minor": 2,
 "cells": [
  {
   "cell_type": "code",
   "execution_count": null,
   "metadata": {},
   "outputs": [],
   "source": [
    "import pandas as pd\n",
    "import numpy as np\n",
    "from sklearn.metrics import pairwise_distances as distance\n",
    "import json"
   ]
  },
  {
   "cell_type": "code",
   "execution_count": null,
   "metadata": {},
   "outputs": [],
   "source": [
    "stand_csv = pd.read_csv(\"stand.csv\")\n",
    "stand_csv[\"keypoint_coords\"] = stand_csv[\"keypoint_coords\"].apply(lambda x : json.loads(x))\n",
    "stand_csv[\"keypoint_scores\"] = stand_csv[\"keypoint_scores\"].apply(lambda x : json.loads(x))\n",
    "stand_csv"
   ]
  },
  {
   "cell_type": "code",
   "execution_count": null,
   "metadata": {},
   "outputs": [],
   "source": [
    "crunch_csv = pd.read_csv(\"crunch.csv\")\n",
    "crunch_csv[\"keypoint_coords\"] = crunch_csv[\"keypoint_coords\"].apply(lambda x : list(json.loads(x)))\n",
    "crunch_csv[\"keypoint_scores\"] = crunch_csv[\"keypoint_scores\"].apply(lambda x : list(json.loads(x)))\n",
    "crunch_csv"
   ]
  },
  {
   "cell_type": "code",
   "execution_count": null,
   "metadata": {},
   "outputs": [],
   "source": [
    "pose = stand_csv.iloc[0, 1]\n",
    "center = [0, 0]\n",
    "for x, y in pose:\n",
    "    center[0] += x \n",
    "    center[1] += y\n",
    "center[0] /= len(pose)\n",
    "center[1] /= len(pose)\n",
    "features = distance([center], pose)[0]\n",
    "mx = max(features)\n",
    "mn = min(features)\n",
    "for index in range(len(features)):\n",
    "    features[index] = (features[index] - mn) / (mx-mn)\n",
    "features "
   ]
  },
  {
   "cell_type": "code",
   "execution_count": null,
   "metadata": {},
   "outputs": [],
   "source": [
    "import posenet.constants as const \n",
    "def extract_feature(keypoint_scores, keypoint_coords):\n",
    "    features = distance(keypoint_coords[0:1], keypoint_coords[1:])[0]\n",
    "    # normalize\n",
    "    mx = max(features)\n",
    "    mn = min(features)\n",
    "    if mx == 0:\n",
    "        return np.array([0]*len(keypoint_coords[1:]))\n",
    "\n",
    "    for index in range(len(features)):\n",
    "        features[index] = (features[index] - mn) / (mx-mn)\n",
    "    return features\n",
    "\n",
    "# derives features from keypoints\n",
    "stand_csv[\"features\"] = stand_csv.apply(lambda row: extract_feature(row[\"keypoint_scores\"], row[\"keypoint_coords\"]), axis=1)\n",
    "# derives features from keypoints\n",
    "crunch_csv[\"features\"] = crunch_csv.apply(lambda row: extract_feature(row[\"keypoint_scores\"], row[\"keypoint_coords\"]), axis=1)\n"
   ]
  },
  {
   "cell_type": "code",
   "execution_count": null,
   "metadata": {},
   "outputs": [],
   "source": [
    "# concat 2 df\n",
    "# append features and label to the numpy\n",
    "# train_x = np.concatenate(stand_csv[\"features\"], crunch_csv[\"features\"])\n",
    "\n",
    "# build 2-classes data\n",
    "ds_x = []\n",
    "ds_y = []\n",
    "for _, row in stand_csv.iterrows():\n",
    "    ds_x.append(list(row[\"features\"]))\n",
    "    ds_y.append(0)\n",
    "for _, row in crunch_csv.iterrows():\n",
    "    ds_x.append(list(row[\"features\"]))\n",
    "    ds_y.append(1)"
   ]
  },
  {
   "cell_type": "code",
   "execution_count": null,
   "metadata": {},
   "outputs": [],
   "source": [
    "# Remove NaN rows\n",
    "# NaN happens when very distances are zeroes, just because of normalization\n",
    "from sklearn.model_selection import train_test_split\n",
    "ds_x = np.array(ds_x)\n",
    "ds_y = np.array(ds_y)\n",
    "\n",
    "selected_non_nan = ~np.isnan(ds_x).any(axis=1)\n",
    "ds_x = ds_x[selected_non_nan]\n",
    "ds_y = ds_y[selected_non_nan]"
   ]
  },
  {
   "cell_type": "code",
   "execution_count": null,
   "metadata": {},
   "outputs": [],
   "source": [
    "from sklearn.model_selection import cross_val_score\n",
    "from sklearn.metrics import accuracy_score, log_loss\n",
    "\n",
    "s_acc = s_loss = 0\n",
    "def scorer(model, X_test, y_test):\n",
    "    global s_acc, s_loss\n",
    "    y_pred = model.predict(X_test)\n",
    "    s_acc += accuracy_score(y_test, y_pred)\n",
    "\n",
    "    y_pred = model.predict_proba(X_test)\n",
    "    s_loss += log_loss(y_test, y_pred)\n",
    "    return s_acc\n",
    "\n",
    "def score_dataset(dataset_name, model, X, y, cv=None):\n",
    "    global s_acc, s_loss\n",
    "    if cv:\n",
    "        s_acc = s_loss = 0\n",
    "        scores = cross_val_score(model, X, y, cv=cv, scoring=scorer)\n",
    "        mean_acc = s_acc/cv\n",
    "        mean_loss = s_loss/cv\n",
    "        print(\"%12s %2d-folds = %.3f with loss = %.3f\" % (dataset_name, cv, mean_acc, mean_loss))\n",
    "        return mean_acc, mean_loss\n",
    "    else:\n",
    "        for nFold in range(2, 10+1):\n",
    "            scores = cross_val_score(model, X, y, cv=nFold)\n",
    "            print(\"%s %2d-folds = %.3f\" % (dataset_name, nFold, np.mean(scores)))"
   ]
  },
  {
   "cell_type": "code",
   "execution_count": null,
   "metadata": {},
   "outputs": [],
   "source": [
    "import pandas as pd\n",
    "from sklearn import tree\n",
    "from sklearn import svm\n",
    "from sklearn.neighbors import KNeighborsClassifier\n",
    "from sklearn.naive_bayes import GaussianNB\n",
    "from sklearn.ensemble import BaggingClassifier\n",
    "from sklearn.ensemble import AdaBoostClassifier\n",
    "from sklearn.ensemble import RandomForestClassifier\n",
    "\n",
    "models = {\n",
    "    # 'kNN': KNeighborsClassifier(n_neighbors=2),\n",
    "    # 'GaussianNB': GaussianNB(),\n",
    "    # 'DecisionTree': tree.DecisionTreeClassifier(criterion=\"gini\"),\n",
    "    # 'Bagging': BaggingClassifier(base_estimator=tree.DecisionTreeClassifier(), n_estimators=100),\n",
    "    # 'AdamBoost': AdaBoostClassifier(base_estimator=tree.DecisionTreeClassifier(max_depth=2), n_estimators=100),\n",
    "    'RandomForest': RandomForestClassifier(n_estimators=100),\n",
    "    # 'SVM_Linear': svm.SVC(kernel='linear', C=1000, probability=True),\n",
    "    # 'SVM_Poly': svm.SVC(kernel='poly', C=100000, probability=True),\n",
    "    # 'SVM_RBF': svm.SVC(kernel='rbf', C=100000, gamma=0.01, probability=True),\n",
    "    # 'SVM_Sigmoid': svm.SVC(kernel='sigmoid', C=100000, gamma=0.0001, probability=True)\n",
    "}\n",
    "\n",
    "# Logging for Visual Comparison\n",
    "log_cols=[\"Classifier\", \"Accuracy\", \"Log Loss\"]\n",
    "log = pd.DataFrame(columns=log_cols)\n",
    "\n",
    "for model in models.items():\n",
    "    mean_acc, mean_loss = score_dataset(model[0], model[1], ds_x, ds_y, cv=10)\n",
    "    log_entry = pd.DataFrame([[model[0], mean_acc*100, mean_loss]], columns=log_cols)\n",
    "    log = log.append(log_entry)"
   ]
  },
  {
   "cell_type": "code",
   "execution_count": null,
   "metadata": {},
   "outputs": [],
   "source": [
    "print(log)\n",
    "log.to_csv('log.csv', index=False)"
   ]
  },
  {
   "cell_type": "code",
   "execution_count": null,
   "metadata": {},
   "outputs": [],
   "source": [
    "import seaborn as sns\n",
    "import matplotlib.pyplot as plt\n",
    "\n",
    "plt.rcParams['figure.figsize'] = (16, 6)\n",
    "plt.subplots_adjust(wspace=0.5)\n",
    "\n",
    "# Plot Accuracy Figure\n",
    "plt.subplot(1, 2, 1)\n",
    "sns.set_color_codes(\"muted\")\n",
    "sns.barplot(x='Accuracy', y='Classifier', data=log, color=\"b\")\n",
    "plt.xlabel('Accuracy %')\n",
    "plt.title('Classifier Accuracy')\n",
    "\n",
    "# Plot Log Loss Figure\n",
    "plt.subplot(1, 2, 2)\n",
    "sns.set_color_codes(\"muted\")\n",
    "sns.barplot(x='Log Loss', y='Classifier', data=log, color=\"g\")\n",
    "plt.xlabel('Log Loss')\n",
    "plt.title('Classifier Log Loss')"
   ]
  },
  {
   "cell_type": "code",
   "execution_count": null,
   "metadata": {},
   "outputs": [],
   "source": [
    "from sklearn.model_selection import train_test_split\n",
    "\n",
    "# Sử dụng nghi thức Hold-out\n",
    "model = RandomForestClassifier(n_estimators=50)\n",
    "model.fit(ds_x, ds_y)\n",
    "\n",
    "# output model\n",
    "import pickle\n",
    "file_name = 'stand_crunch.model'\n",
    "with open(file_name, 'wb') as f:\n",
    "    pickle.dump(model, f)\n",
    "# Export model\n",
    "# dump(model, 'diabetes.model')"
   ]
  }
 ]
}