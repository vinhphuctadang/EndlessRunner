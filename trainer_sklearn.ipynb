{
 "metadata": {
  "language_info": {
   "codemirror_mode": {
    "name": "ipython",
    "version": 3
   },
   "file_extension": ".py",
   "mimetype": "text/x-python",
   "name": "python",
   "nbconvert_exporter": "python",
   "pygments_lexer": "ipython3",
   "version": "3.6.8-final"
  },
  "orig_nbformat": 2,
  "kernelspec": {
   "name": "python3",
   "display_name": "Python 3.6.8 64-bit",
   "metadata": {
    "interpreter": {
     "hash": "aee8b7b246df8f9039afb4144a1f6fd8d2ca17a180786b69acc140d282b71a49"
    }
   }
  }
 },
 "nbformat": 4,
 "nbformat_minor": 2,
 "cells": [
  {
   "cell_type": "code",
   "execution_count": 1,
   "metadata": {},
   "outputs": [],
   "source": [
    "import time\n",
    "import numpy as np\n",
    "from constants import *\n",
    "from sklearn.preprocessing import OneHotEncoder\n",
    "from sklearn.preprocessing import LabelEncoder\n",
    "from build_model import model_tools\n",
    "\n",
    "X = np.load('Norm_MinMax_%d_X.npy' % window_size)\n",
    "y = np.load('Norm_MinMax_%d_y.npy' % window_size)\n",
    "\n",
    "# le = LabelEncoder()\n",
    "# le.fit(y)\n",
    "# le_y = np.array(le.transform(y))\n",
    "# le_y = le_y.reshape((-1, 1))\n",
    "\n",
    "# ohe = OneHotEncoder()\n",
    "# ohe.fit(le_y)\n",
    "\n",
    "# y = ohe.transform(le_y).toarray()"
   ]
  },
  {
   "cell_type": "code",
   "execution_count": 2,
   "metadata": {},
   "outputs": [],
   "source": [
    "from sklearn.model_selection import train_test_split\n",
    "\n",
    "X_train, X_test, y_train, y_test = train_test_split(\n",
    "                X.reshape(X.shape[0], X.shape[1]*X.shape[2]), y, test_size=0.3, random_state=2021)"
   ]
  },
  {
   "cell_type": "code",
   "execution_count": 7,
   "metadata": {},
   "outputs": [],
   "source": [
    "# Import các thư viện\n",
    "import csv\n",
    "import pandas as pd\n",
    "import numpy as np\n",
    "from sklearn import svm\n",
    "from sklearn.model_selection import cross_val_score\n",
    "from sklearn.metrics import accuracy_score, log_loss\n",
    "\n",
    "s_acc = s_loss = 0\n",
    "\n",
    "def scorer(model, X_test, y_test):\n",
    "    global s_acc, s_loss\n",
    "    y_pred = model.predict(X_test)\n",
    "    s_acc += accuracy_score(y_test, y_pred)\n",
    "\n",
    "    y_pred = model.predict_proba(X_test)\n",
    "    s_loss += log_loss(y_test, y_pred)\n",
    "    return s_acc\n",
    "\n",
    "def score_dataset(dataset_name, model, X, y, cv=None):\n",
    "    global s_acc, s_loss\n",
    "    if cv:\n",
    "        s_acc = s_loss = 0\n",
    "        scores = cross_val_score(model, X, y, cv=cv, scoring=scorer)\n",
    "        mean_acc = s_acc/cv\n",
    "        mean_loss = s_loss/cv\n",
    "        print(\"%12s %2d-folds = %.3f with loss = %.3f\" % (dataset_name, cv, mean_acc, mean_loss))\n",
    "        return mean_acc, mean_loss\n",
    "    else:\n",
    "        for nFold in range(2, 10+1):\n",
    "            scores = cross_val_score(model, X, y, cv=nFold)\n",
    "            print(\"%s %2d-folds = %.3f\" % (dataset_name, nFold, np.mean(scores)))"
   ]
  },
  {
   "cell_type": "code",
   "execution_count": 8,
   "metadata": {},
   "outputs": [],
   "source": [
    "import pandas as pd\n",
    "from sklearn import tree\n",
    "from sklearn.neighbors import KNeighborsClassifier\n",
    "from sklearn.naive_bayes import GaussianNB\n",
    "from sklearn.ensemble import BaggingClassifier\n",
    "from sklearn.ensemble import AdaBoostClassifier\n",
    "from sklearn.ensemble import RandomForestClassifier\n",
    "\n",
    "models = {\n",
    "    'kNN': KNeighborsClassifier(n_neighbors=2),\n",
    "    'GaussianNB': GaussianNB(),\n",
    "    'DecisionTree': tree.DecisionTreeClassifier(criterion=\"gini\"),\n",
    "    'Bagging': BaggingClassifier(base_estimator=tree.DecisionTreeClassifier(), n_estimators=100),\n",
    "    'AdamBoost': AdaBoostClassifier(base_estimator=tree.DecisionTreeClassifier(max_depth=2), n_estimators=100),\n",
    "    'RandomForest': RandomForestClassifier(n_estimators=50),\n",
    "    'SVM_Linear': svm.SVC(kernel='linear', C=1000, probability=True),\n",
    "    'SVM_Poly': svm.SVC(kernel='poly', C=100000, probability=True),\n",
    "    'SVM_RBF': svm.SVC(kernel='rbf', C=100000, gamma=0.01, probability=True),\n",
    "    'SVM_Sigmoid': svm.SVC(kernel='sigmoid', C=100000, gamma=0.0001, probability=True)\n",
    "}"
   ]
  },
  {
   "cell_type": "code",
   "execution_count": 4,
   "metadata": {},
   "outputs": [
    {
     "output_type": "stream",
     "name": "stdout",
     "text": [
      "\nAccuracy: 95.03105590062113\n"
     ]
    }
   ],
   "source": [
    "from sklearn import svm\n",
    "from sklearn.metrics import accuracy_score\n",
    "\n",
    "clf = svm.SVC(kernel='rbf', C=100000, gamma=0.01, probability=True)\n",
    "clf.fit(X_train, y_train)\n",
    "y_pred = clf.predict(X_test)\n",
    "\n",
    "# Compute Accuracy\n",
    "acc = accuracy_score(y_test, y_pred)\n",
    "print('\\nAccuracy:', acc*100)"
   ]
  },
  {
   "cell_type": "code",
   "execution_count": 9,
   "metadata": {},
   "outputs": [
    {
     "output_type": "stream",
     "name": "stdout",
     "text": [
      "         kNN 10-folds = 0.927 with loss = 1.792\n",
      "  GaussianNB 10-folds = 0.885 with loss = 2.743\n",
      "DecisionTree 10-folds = 0.791 with loss = 7.230\n",
      "     Bagging 10-folds = 0.871 with loss = 0.325\n",
      "   AdamBoost 10-folds = 0.916 with loss = 0.378\n",
      "RandomForest 10-folds = 0.895 with loss = 0.292\n",
      "  SVM_Linear 10-folds = 0.904 with loss = 0.663\n",
      "    SVM_Poly 10-folds = 0.901 with loss = 0.682\n",
      "     SVM_RBF 10-folds = 0.906 with loss = 0.752\n",
      " SVM_Sigmoid 10-folds = 0.906 with loss = 0.595\n"
     ]
    }
   ],
   "source": [
    "for model in models.items():\n",
    "    mean_acc, mean_loss = score_dataset(model[0], model[1], X.reshape(X.shape[0], X.shape[1]*X.shape[2]), y, cv=10)"
   ]
  },
  {
   "cell_type": "code",
   "execution_count": 5,
   "metadata": {},
   "outputs": [
    {
     "output_type": "execute_result",
     "data": {
      "text/plain": [
       "['svm.model']"
      ]
     },
     "metadata": {},
     "execution_count": 5
    }
   ],
   "source": [
    "from joblib import dump\n",
    "dump(clf, 'svm.model')"
   ]
  },
  {
   "cell_type": "code",
   "execution_count": null,
   "metadata": {},
   "outputs": [],
   "source": [
    "model = model_tools(X, y, test_size=0.4, model_name='svm', n_layers=2, dropout=0.5)"
   ]
  },
  {
   "cell_type": "code",
   "execution_count": null,
   "metadata": {
    "tags": [
     "outputPrepend"
    ]
   },
   "outputs": [],
   "source": [
    "if not os.path.isdir(result_dir):  # For training\n",
    "    os.mkdir(result_dir)\n",
    "model.fit_and_save_model(es=False, mc=False, rlr=True, log=True)"
   ]
  },
  {
   "cell_type": "code",
   "execution_count": null,
   "metadata": {},
   "outputs": [],
   "source": [
    "model.plt_fig()"
   ]
  },
  {
   "cell_type": "code",
   "execution_count": null,
   "metadata": {},
   "outputs": [],
   "source": []
  }
 ]
}